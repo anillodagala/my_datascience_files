{
 "cells": [
  {
   "cell_type": "markdown",
   "metadata": {},
   "source": [
    "# Array Computations:\n",
    "\n",
    "NumPy, short for Numerical Python, is the fundamental package required for high performance scientific computing and data analysis. It is the foundation on which nearly all of the higher-level tools are built.\n",
    "#### Key highlight: \n",
    "    1. ndarray, a fast and space-efficient multidimensional array providing vectorized arithmetic operations and  sophisticated broadcasting capabilities.\n",
    "    2. Standard mathematical functions for fast operations on entire arrays of data without having to write loops\n",
    "    3. Tools for reading / writing array data to disk and working with memory-mapped files\n",
    "    4. Linear algebra, random number generation, and Fourier transform capabilities\n",
    "    5. Tools for integrating code written in C, C++, and Fortran\n",
    "    \n",
    "It is very easy to pass data to external libraries written in a low-level language and also for external libraries to return data to Python as NumPy arrays.\n",
    "\n",
    "While NumPy by itself does not provide very much high-level data analytical functionality, having an understanding of NumPy arrays and array-oriented computing will help you use tools like pandas much more effectively.\n",
    "\n",
    "For most data analysis applications, the main areas of functionality\n",
    "    1. Fast vectorized array operations for data munging and cleaning, subsetting and filtering, transformation, and any other kinds of computations\n",
    "    2. Common array algorithms like sorting, unique, and set operations\n",
    "    3. Efficient descriptive statistics and aggregating/summarizing data\n",
    "    4. Data alignment and relational data manipulations for merging and joining together heterogeneous data sets\n",
    "    5. Expressing conditional logic as array expressions instead of loops with if-elifelse branches.\n",
    "    6. Group-wise data manipulations (aggregation, transformation, function application)."
   ]
  },
  {
   "cell_type": "code",
   "execution_count": null,
   "metadata": {},
   "outputs": [],
   "source": [
    "!pip install numpy\n",
    "# If anaconda python is already installed then ignore this command"
   ]
  },
  {
   "cell_type": "code",
   "execution_count": 2,
   "metadata": {},
   "outputs": [],
   "source": [
    "import numpy as np"
   ]
  },
  {
   "cell_type": "code",
   "execution_count": 167,
   "metadata": {},
   "outputs": [],
   "source": [
    "data1 = [6.3, 7, 8, 0, 1] #List\n",
    "arr1 = np.array(data1)"
   ]
  },
  {
   "cell_type": "code",
   "execution_count": 169,
   "metadata": {},
   "outputs": [
    {
     "data": {
      "text/plain": [
       "array([6.3, 7. , 8. , 0. , 1. ])"
      ]
     },
     "execution_count": 169,
     "metadata": {},
     "output_type": "execute_result"
    }
   ],
   "source": [
    "arr1"
   ]
  },
  {
   "cell_type": "code",
   "execution_count": 168,
   "metadata": {},
   "outputs": [
    {
     "data": {
      "text/plain": [
       "(5,)"
      ]
     },
     "execution_count": 168,
     "metadata": {},
     "output_type": "execute_result"
    }
   ],
   "source": [
    "arr1.shape"
   ]
  },
  {
   "cell_type": "code",
   "execution_count": 8,
   "metadata": {},
   "outputs": [
    {
     "name": "stdout",
     "output_type": "stream",
     "text": [
      "List: [6.3, 7, 8, 0, 1]\n",
      "My First Array: [6.3 7.  8.  0.  1. ]\n",
      "<class 'list'>\n",
      "<class 'numpy.ndarray'>\n",
      "1\n",
      "(5,)\n",
      "float64\n"
     ]
    }
   ],
   "source": [
    "# The NumPy ndarray: A Multidimensional Array Object\n",
    "\n",
    "#import package\n",
    "import numpy as np\n",
    "\n",
    "#Creating ndarray : \n",
    "#The easiest way to create an array is to use the array function. This accepts any sequence- like object \n",
    "#(including other arrays) and produces a new NumPy array containingthe passed data\n",
    "data1 = [6.3, 7, 8, 0, 1] #List\n",
    "arr1 = np.array(data1)\n",
    "\n",
    "print(\"List:\", data1)\n",
    "print(\"My First Array:\", arr1)\n",
    "print(type(data1))\n",
    "print(type(arr1))\n",
    "print(arr1.ndim)\n",
    "print(arr1.shape)\n",
    "print(arr1.dtype)\n"
   ]
  },
  {
   "cell_type": "code",
   "execution_count": 9,
   "metadata": {},
   "outputs": [
    {
     "name": "stdout",
     "output_type": "stream",
     "text": [
      "My First Two Array:\n",
      " [[1 2 3 4]\n",
      " [5 6 7 8]]\n",
      "2\n",
      "(2, 4)\n",
      "8\n"
     ]
    }
   ],
   "source": [
    "##Nested Sequence, like a list of equal length list, will be converted to multidimensional array\n",
    "data2 = [[1,2,3,4],\n",
    "         [5,6,7, 8]]\n",
    "arr2 = np.array(data2)\n",
    "print(\"My First Two Array:\\n\", arr2)\n",
    "print(arr2.ndim)\n",
    "print(arr2.shape)\n",
    "print(arr2.size)\n"
   ]
  },
  {
   "cell_type": "code",
   "execution_count": 14,
   "metadata": {},
   "outputs": [
    {
     "name": "stdout",
     "output_type": "stream",
     "text": [
      "My First Two Array:\n",
      " [[1 2 3]\n",
      " [5 6 7]\n",
      " [5 6 7]]\n",
      "2\n",
      "(3, 3)\n",
      "9\n"
     ]
    }
   ],
   "source": [
    "data3 = [[1,2,3],[5,6,7],[5,6,7]]\n",
    "\n",
    "arr3 = np.array(data3)\n",
    "print(\"My First Two Array:\\n\", arr3)\n",
    "print(arr3.ndim)\n",
    "print(arr3.shape)\n",
    "print(arr3.size)"
   ]
  },
  {
   "cell_type": "code",
   "execution_count": 23,
   "metadata": {},
   "outputs": [
    {
     "name": "stdout",
     "output_type": "stream",
     "text": [
      "2 D Array: \n",
      " [[ 0.9526 -0.246  -0.8856]\n",
      " [ 0.5639  0.2379  0.9104]]\n",
      "Shape of an Array :  (2, 3)\n",
      "Data Type of an Array : float64\n",
      "Dimensions of an Array : 2\n"
     ]
    }
   ],
   "source": [
    "data = np.array([[ 0.9526, -0.246 , -0.8856],\n",
    "                 [ 0.5639, 0.2379, 0.9104]])\n",
    "\n",
    "print(\"2 D Array: \\n\",data)\n",
    "\n",
    "# Every array has shape - a tuple - indicating the size of ech dimension\n",
    "print(\"Shape of an Array : \",data.shape)\n",
    "\n",
    "\n",
    "#Every array has dtype, an object describing the data type of an array\n",
    "#Unless explicitly specified, np.array tries to infer a good data type for the array that it creates.\n",
    "print(\"Data Type of an Array :\",data.dtype)\n",
    "\n",
    "#Every array has ndim, an object describing the dimension of an array\n",
    "print(\"Dimensions of an Array :\",data.ndim)"
   ]
  },
  {
   "cell_type": "code",
   "execution_count": 18,
   "metadata": {},
   "outputs": [
    {
     "data": {
      "text/plain": [
       "array([[0, 0, 0, 0],\n",
       "       [0, 0, 0, 0],\n",
       "       [0, 0, 0, 0],\n",
       "       [0, 0, 0, 0],\n",
       "       [0, 0, 0, 0]])"
      ]
     },
     "execution_count": 18,
     "metadata": {},
     "output_type": "execute_result"
    }
   ],
   "source": [
    "np.zeros(shape = (5,4), dtype=int)"
   ]
  },
  {
   "cell_type": "code",
   "execution_count": 33,
   "metadata": {},
   "outputs": [],
   "source": [
    "arr1 = np.zeros(shape = (2,5,4), dtype=np.float16)"
   ]
  },
  {
   "cell_type": "code",
   "execution_count": 34,
   "metadata": {},
   "outputs": [
    {
     "data": {
      "text/plain": [
       "array([[[0., 0., 0., 0.],\n",
       "        [0., 0., 0., 0.],\n",
       "        [0., 0., 0., 0.],\n",
       "        [0., 0., 0., 0.],\n",
       "        [0., 0., 0., 0.]],\n",
       "\n",
       "       [[0., 0., 0., 0.],\n",
       "        [0., 0., 0., 0.],\n",
       "        [0., 0., 0., 0.],\n",
       "        [0., 0., 0., 0.],\n",
       "        [0., 0., 0., 0.]]], dtype=float16)"
      ]
     },
     "execution_count": 34,
     "metadata": {},
     "output_type": "execute_result"
    }
   ],
   "source": [
    "arr1"
   ]
  },
  {
   "cell_type": "code",
   "execution_count": 35,
   "metadata": {},
   "outputs": [
    {
     "data": {
      "text/plain": [
       "dtype('float16')"
      ]
     },
     "execution_count": 35,
     "metadata": {},
     "output_type": "execute_result"
    }
   ],
   "source": [
    "arr1.dtype #datatype (int, float, string)"
   ]
  },
  {
   "cell_type": "code",
   "execution_count": 26,
   "metadata": {},
   "outputs": [
    {
     "data": {
      "text/plain": [
       "(2, 5, 4)"
      ]
     },
     "execution_count": 26,
     "metadata": {},
     "output_type": "execute_result"
    }
   ],
   "source": [
    "arr1.shape"
   ]
  },
  {
   "cell_type": "code",
   "execution_count": 10,
   "metadata": {},
   "outputs": [
    {
     "name": "stdout",
     "output_type": "stream",
     "text": [
      "1D zero Matrix: \n",
      " [0. 0. 0. 0. 0. 0. 0. 0. 0. 0.]\n",
      "2D zero Matrix: \n",
      " [[0. 0. 0. 0. 0. 0.]\n",
      " [0. 0. 0. 0. 0. 0.]\n",
      " [0. 0. 0. 0. 0. 0.]]\n",
      "2D ones Matrix: \n",
      " [[1. 1. 1.]\n",
      " [1. 1. 1.]]\n"
     ]
    }
   ],
   "source": [
    "#In addition to np.array, there are a number of other functions for creating new arrays.\n",
    "\n",
    "#zeros(): Create array of zeros\n",
    "print(\"1D zero Matrix: \\n\",np.zeros(10))\n",
    "\n",
    "print(\"2D zero Matrix: \\n\",np.zeros((3, 6)))\n",
    "\n",
    "#ones(): Create array of ones\n",
    "print(\"2D ones Matrix: \\n\",np.ones((2,3)))\n",
    "\n"
   ]
  },
  {
   "cell_type": "code",
   "execution_count": 26,
   "metadata": {},
   "outputs": [
    {
     "data": {
      "text/plain": [
       "array([[[1., 1., 1., 1.],\n",
       "        [1., 1., 1., 1.],\n",
       "        [1., 1., 1., 1.]],\n",
       "\n",
       "       [[1., 1., 1., 1.],\n",
       "        [1., 1., 1., 1.],\n",
       "        [1., 1., 1., 1.]]])"
      ]
     },
     "execution_count": 26,
     "metadata": {},
     "output_type": "execute_result"
    }
   ],
   "source": [
    "np.ones(shape = (2,3,4)) # 3D Array \n",
    "#shape- (z, x, y)"
   ]
  },
  {
   "cell_type": "code",
   "execution_count": 25,
   "metadata": {},
   "outputs": [
    {
     "data": {
      "text/plain": [
       "array([[10., 10., 10.],\n",
       "       [10., 10., 10.]])"
      ]
     },
     "execution_count": 25,
     "metadata": {},
     "output_type": "execute_result"
    }
   ],
   "source": [
    "np.ones((2,3))*10"
   ]
  },
  {
   "cell_type": "code",
   "execution_count": 35,
   "metadata": {},
   "outputs": [
    {
     "name": "stdout",
     "output_type": "stream",
     "text": [
      "3D empty Matrix: \n",
      " [[[6.23042070e-307 4.67296746e-307]\n",
      "  [1.69121096e-306 1.69119737e-306]\n",
      "  [1.24610723e-306 1.33508845e-306]]\n",
      "\n",
      " [[1.33511969e-306 6.23037996e-307]\n",
      "  [6.23053954e-307 9.79107872e-307]\n",
      "  [8.34445562e-308 8.34402698e-308]]]\n",
      "3\n"
     ]
    }
   ],
   "source": [
    "#empty creates an array withouf initializing it's values to any particular values.\n",
    "\n",
    "print(\"3D empty Matrix: \\n\",np.empty((2, 3, 2)))\n",
    "#It’s not safe to assume that np.empty will return an array of all zeros. \n",
    "#In many cases, it will return uninitialized garbage values.\n",
    "print(np.empty((2, 3, 2)).ndim)"
   ]
  },
  {
   "cell_type": "code",
   "execution_count": 30,
   "metadata": {},
   "outputs": [
    {
     "name": "stdout",
     "output_type": "stream",
     "text": [
      "3D empty Matrix: \n",
      " [[[0. 0.]\n",
      "  [0. 0.]\n",
      "  [0. 0.]]\n",
      "\n",
      " [[0. 0.]\n",
      "  [0. 0.]\n",
      "  [0. 0.]]]\n",
      "3D empty Matrix: \n",
      " [[[6.23042070e-307 4.67296746e-307 1.69121096e-306]\n",
      "  [1.69119737e-306 1.24610723e-306 1.42413555e-306]]\n",
      "\n",
      " [[1.78019082e-306 1.37959740e-306 6.23057349e-307]\n",
      "  [1.78020848e-306 1.86922094e-306 1.33511018e-306]]\n",
      "\n",
      " [[1.33511969e-306 6.23037996e-307 6.23053954e-307]\n",
      "  [9.34609790e-307 8.45593934e-307 9.34600963e-307]]\n",
      "\n",
      " [[1.86921143e-306 6.23061763e-307 6.23053954e-307]\n",
      "  [1.24611266e-306 2.22522596e-306 2.22522596e-306]]]\n"
     ]
    }
   ],
   "source": [
    "print(\"3D empty Matrix: \\n\",np.zeros((2, 3, 2)))\n",
    "print(\"3D empty Matrix: \\n\",np.empty((4, 2, 3)))"
   ]
  },
  {
   "cell_type": "code",
   "execution_count": 27,
   "metadata": {},
   "outputs": [
    {
     "data": {
      "text/plain": [
       "array([[10., 10., 10., 10.],\n",
       "       [10., 10., 10., 10.],\n",
       "       [10., 10., 10., 10.],\n",
       "       [10., 10., 10., 10.]])"
      ]
     },
     "execution_count": 27,
     "metadata": {},
     "output_type": "execute_result"
    }
   ],
   "source": [
    "np.ones((4,4))*10"
   ]
  },
  {
   "cell_type": "code",
   "execution_count": 12,
   "metadata": {},
   "outputs": [
    {
     "data": {
      "text/plain": [
       "array([[10, 10, 10, 10],\n",
       "       [10, 10, 10, 10],\n",
       "       [10, 10, 10, 10],\n",
       "       [10, 10, 10, 10]])"
      ]
     },
     "execution_count": 12,
     "metadata": {},
     "output_type": "execute_result"
    }
   ],
   "source": [
    "np.full(shape=(4,4),fill_value=10) # shape = (4,4) and ndim = 2"
   ]
  },
  {
   "cell_type": "code",
   "execution_count": 45,
   "metadata": {},
   "outputs": [
    {
     "data": {
      "text/plain": [
       "array([[1., 0.],\n",
       "       [0., 1.]])"
      ]
     },
     "execution_count": 45,
     "metadata": {},
     "output_type": "execute_result"
    }
   ],
   "source": [
    "np.eye(2) # Identity Matrix"
   ]
  },
  {
   "cell_type": "markdown",
   "metadata": {},
   "source": [
    "##### np.arange(): arange is an array-valued version of the built-in Python range function"
   ]
  },
  {
   "cell_type": "code",
   "execution_count": 41,
   "metadata": {},
   "outputs": [
    {
     "data": {
      "text/plain": [
       "[6, 8]"
      ]
     },
     "execution_count": 41,
     "metadata": {},
     "output_type": "execute_result"
    }
   ],
   "source": [
    "list(range(6,10, 2))"
   ]
  },
  {
   "cell_type": "code",
   "execution_count": 13,
   "metadata": {},
   "outputs": [
    {
     "name": "stdout",
     "output_type": "stream",
     "text": [
      "[ 0  1  2  3  4  5  6  7  8  9 10 11 12 13 14]\n",
      "<class 'numpy.ndarray'>\n",
      "int32\n"
     ]
    }
   ],
   "source": [
    "array1 = np.arange(15)\n",
    "print(array1)\n",
    "print(type(array1))\n",
    "print(array1.dtype)"
   ]
  },
  {
   "cell_type": "code",
   "execution_count": 48,
   "metadata": {},
   "outputs": [
    {
     "data": {
      "text/plain": [
       "array([1. , 1.5, 2. , 2.5, 3. , 3.5, 4. , 4.5, 5. , 5.5, 6. , 6.5, 7. ,\n",
       "       7.5, 8. , 8.5, 9. , 9.5])"
      ]
     },
     "execution_count": 48,
     "metadata": {},
     "output_type": "execute_result"
    }
   ],
   "source": [
    "# create numpy array with equal spacing\n",
    "np.arange(1,10,0.5)"
   ]
  },
  {
   "cell_type": "code",
   "execution_count": 40,
   "metadata": {},
   "outputs": [
    {
     "data": {
      "text/plain": [
       "array([ 0.  ,  3.75,  7.5 , 11.25, 15.  ])"
      ]
     },
     "execution_count": 40,
     "metadata": {},
     "output_type": "execute_result"
    }
   ],
   "source": [
    "# Create an array of five values evenly spaced between 0 and 1\n",
    "np.linspace(0, 15, 5)"
   ]
  },
  {
   "cell_type": "code",
   "execution_count": 42,
   "metadata": {},
   "outputs": [
    {
     "data": {
      "text/plain": [
       "array([0.  , 0.25, 0.5 , 0.75, 1.  ])"
      ]
     },
     "execution_count": 42,
     "metadata": {},
     "output_type": "execute_result"
    }
   ],
   "source": [
    "# Create an array of five values evenly spaced between 0 and 1\n",
    "np.linspace(0, 1, 5)"
   ]
  },
  {
   "cell_type": "markdown",
   "metadata": {},
   "source": [
    "# NumPy Array Attributes\n",
    "\n",
    "Each array has attributes ndim (the number of dimensions), shape (the size of each dimension), and size (the total size of the array):"
   ]
  },
  {
   "cell_type": "code",
   "execution_count": 100,
   "metadata": {},
   "outputs": [
    {
     "data": {
      "text/plain": [
       "array([-0.87035484, -1.21829803, -1.28573011,  0.74783402,  1.09408296,\n",
       "        1.85377346, -1.51285882,  1.35935488, -0.7828129 , -0.61936817])"
      ]
     },
     "execution_count": 100,
     "metadata": {},
     "output_type": "execute_result"
    }
   ],
   "source": [
    "np.random.randint(10)"
   ]
  },
  {
   "cell_type": "code",
   "execution_count": 138,
   "metadata": {},
   "outputs": [
    {
     "name": "stdout",
     "output_type": "stream",
     "text": [
      "[[18 18 10]\n",
      " [13 13 17]]\n"
     ]
    }
   ],
   "source": [
    "np.random.seed(100)\n",
    "x1 = np.random.randint(low = 10, high= 20, size=(2,3), dtype=np.int16)\n",
    "print(x1)"
   ]
  },
  {
   "cell_type": "code",
   "execution_count": 104,
   "metadata": {},
   "outputs": [
    {
     "data": {
      "text/plain": [
       "array([ 1.18,  0.59, -1.5 , -1.66, -0.84,  0.36, -1.89,  1.31, -0.28,\n",
       "       -1.22])"
      ]
     },
     "execution_count": 104,
     "metadata": {},
     "output_type": "execute_result"
    }
   ],
   "source": [
    "np.round(np.random.randn(10), 2)"
   ]
  },
  {
   "cell_type": "code",
   "execution_count": 131,
   "metadata": {
    "scrolled": true
   },
   "outputs": [
    {
     "name": "stdout",
     "output_type": "stream",
     "text": [
      "[15 10 13 13 17 19]\n",
      "[[3 5 2 4]\n",
      " [7 6 8 8]\n",
      " [1 6 7 7]]\n",
      "[[[0 1 1 0 1]\n",
      "  [4 3 0 3 0]\n",
      "  [2 3 0 1 3]\n",
      "  [3 3 0 1 1]]\n",
      "\n",
      " [[1 0 2 4 3]\n",
      "  [3 2 4 2 0]\n",
      "  [0 4 0 4 1]\n",
      "  [4 1 2 2 0]]\n",
      "\n",
      " [[1 1 1 1 3]\n",
      "  [3 2 3 0 3]\n",
      "  [4 1 2 4 3]\n",
      "  [4 4 4 3 4]]\n",
      "\n",
      " [[4 4 0 4 3]\n",
      "  [2 0 1 1 3]\n",
      "  [0 0 1 2 4]\n",
      "  [2 0 3 2 2]]\n",
      "\n",
      " [[0 1 0 2 2]\n",
      "  [3 2 3 2 1]\n",
      "  [2 3 3 3 2]\n",
      "  [3 4 1 2 3]]\n",
      "\n",
      " [[1 2 1 4 2]\n",
      "  [3 0 3 2 3]\n",
      "  [0 0 0 3 2]\n",
      "  [3 0 4 0 0]]]\n"
     ]
    }
   ],
   "source": [
    "import numpy as np\n",
    "np.random.seed(0)  # seed for reproducibility\n",
    "\n",
    "x1 = np.random.randint(low = 10, high= 20, size=6)  # One-dimensional array\n",
    "x2 = np.random.randint(low = 10, size=(3, 4))  # Two-dimensional array\n",
    "x3 = np.random.randint(low = 5, size=(6, 4, 5))  # Three-dimensional array\n",
    "print(x1)\n",
    "print(x2)\n",
    "print(x3)\n",
    "#print(x3)"
   ]
  },
  {
   "cell_type": "code",
   "execution_count": 132,
   "metadata": {
    "scrolled": true
   },
   "outputs": [
    {
     "name": "stdout",
     "output_type": "stream",
     "text": [
      "x3 ndim:  3\n",
      "x3 shape: (6, 4, 5)\n",
      "x3 size:  120\n"
     ]
    }
   ],
   "source": [
    "print(\"x3 ndim: \", x3.ndim)\n",
    "print(\"x3 shape:\", x3.shape)\n",
    "print(\"x3 size: \", x3.size)\n"
   ]
  },
  {
   "cell_type": "markdown",
   "metadata": {},
   "source": [
    "Other attributes include itemsize, which lists the size (in bytes) of each array element, and nbytes, which lists the total size (in bytes) of the array:"
   ]
  },
  {
   "cell_type": "code",
   "execution_count": 133,
   "metadata": {},
   "outputs": [
    {
     "name": "stdout",
     "output_type": "stream",
     "text": [
      "itemsize: 4 bytes\n",
      "nbytes: 480 bytes\n"
     ]
    }
   ],
   "source": [
    "print(\"itemsize:\", x3.itemsize, \"bytes\")\n",
    "print(\"nbytes:\", x3.nbytes, \"bytes\")"
   ]
  },
  {
   "cell_type": "markdown",
   "metadata": {},
   "source": [
    "## Data Types:\n",
    "Dtypes are part of what make NumPy so powerful and flexible. In most cases they map directly onto an underlying \n",
    "machine representation, which makes it easy to read and write binary streams of data to disk and also to connect to code written in a low-level language like C or Fortran. The numerical dtypes are named the same way: a type name,\n",
    "like float or int, followed by a number indicating the number of bits per element. A standard double-precision floating point value takes up 8 bytes or 64 bits. Thus, this type is known in NumPy as float64."
   ]
  },
  {
   "cell_type": "code",
   "execution_count": 139,
   "metadata": {},
   "outputs": [],
   "source": [
    "arr2 = np.array([1, 2, \"Hello\"]) # integer and string"
   ]
  },
  {
   "cell_type": "code",
   "execution_count": 140,
   "metadata": {},
   "outputs": [
    {
     "data": {
      "text/plain": [
       "array(['1', '2', 'Hello'], dtype='<U11')"
      ]
     },
     "execution_count": 140,
     "metadata": {},
     "output_type": "execute_result"
    }
   ],
   "source": [
    "arr2 # array with all string values"
   ]
  },
  {
   "cell_type": "code",
   "execution_count": 145,
   "metadata": {},
   "outputs": [
    {
     "ename": "ValueError",
     "evalue": "invalid literal for int() with base 10: 'Hello'",
     "output_type": "error",
     "traceback": [
      "\u001b[1;31m---------------------------------------------------------------------------\u001b[0m",
      "\u001b[1;31mValueError\u001b[0m                                Traceback (most recent call last)",
      "\u001b[1;32m<ipython-input-145-2fafe6242ce4>\u001b[0m in \u001b[0;36m<module>\u001b[1;34m\u001b[0m\n\u001b[1;32m----> 1\u001b[1;33m \u001b[0marr2\u001b[0m \u001b[1;33m=\u001b[0m \u001b[0mnp\u001b[0m\u001b[1;33m.\u001b[0m\u001b[0marray\u001b[0m\u001b[1;33m(\u001b[0m\u001b[1;33m[\u001b[0m\u001b[1;36m1\u001b[0m\u001b[1;33m,\u001b[0m \u001b[1;36m2\u001b[0m\u001b[1;33m,\u001b[0m \u001b[1;34m\"Hello\"\u001b[0m\u001b[1;33m]\u001b[0m\u001b[1;33m,\u001b[0m \u001b[0mdtype\u001b[0m \u001b[1;33m=\u001b[0m \u001b[0mint\u001b[0m\u001b[1;33m)\u001b[0m \u001b[1;31m# integer and string # forcing to create an integer array\u001b[0m\u001b[1;33m\u001b[0m\u001b[1;33m\u001b[0m\u001b[0m\n\u001b[0m",
      "\u001b[1;31mValueError\u001b[0m: invalid literal for int() with base 10: 'Hello'"
     ]
    }
   ],
   "source": [
    "arr2 = np.array([1, 2, \"Hello\"], dtype = int) # integer and string # forcing to create an integer array"
   ]
  },
  {
   "cell_type": "code",
   "execution_count": 146,
   "metadata": {},
   "outputs": [],
   "source": [
    "arr2 = np.array(['1', '2', '3'], dtype = \"int\")"
   ]
  },
  {
   "cell_type": "code",
   "execution_count": 147,
   "metadata": {},
   "outputs": [
    {
     "data": {
      "text/plain": [
       "array([1, 2, 3])"
      ]
     },
     "execution_count": 147,
     "metadata": {},
     "output_type": "execute_result"
    }
   ],
   "source": [
    "arr2"
   ]
  },
  {
   "cell_type": "code",
   "execution_count": 92,
   "metadata": {
    "scrolled": false
   },
   "outputs": [
    {
     "name": "stdout",
     "output_type": "stream",
     "text": [
      "Data Type of arr1:\n",
      " int32\n",
      "Data Type of arr2:\n",
      " float64\n",
      "Data Type of arr3:\n",
      " float64\n",
      "Data Type of arr4:\n",
      " int32\n"
     ]
    }
   ],
   "source": [
    "## Datatype of ndarray\n",
    "#The data type or dtype is a special object containing the information the ndarray needs \n",
    "#to interpret a chunk of memory as a particular type of data:\n",
    "import numpy as np\n",
    "arr1 = np.array([1, 2, 3])\n",
    "arr2 = np.array([1, 2, 3], dtype=float)\n",
    "arr3 = np.array([1.5, 2.3, 3.2])\n",
    "arr4 = np.array([1.5, 2.3, 3.2], dtype=int)\n",
    "\n",
    "print(\"Data Type of arr1:\\n\",arr1.dtype)\n",
    "print(\"Data Type of arr2:\\n\",arr2.dtype)\n",
    "print(\"Data Type of arr3:\\n\",arr3.dtype)\n",
    "print(\"Data Type of arr4:\\n\",arr4.dtype)\n",
    "\n"
   ]
  },
  {
   "cell_type": "code",
   "execution_count": 109,
   "metadata": {},
   "outputs": [
    {
     "name": "stdout",
     "output_type": "stream",
     "text": [
      "Original Datatype :  int32\n",
      "Data type After Type Casting :  float64\n",
      "Original Data TYpe :  float64\n",
      "Type Casted Data Type:\n",
      " [1 2 3 4 4]\n"
     ]
    }
   ],
   "source": [
    "##You can explicitly convert of cast an array from one type to another using ndarray's as type method:\n",
    "\n",
    "arr = np.array([1,2,3,4,5])\n",
    "print(\"Original Datatype : \",arr.dtype)\n",
    "\n",
    "float_arr = arr.astype(float)\n",
    "print(\"Data type After Type Casting : \",float_arr.dtype)\n",
    "\n",
    "##If you cast some floating point numbers to be of integer dtype, the decimal part will be truncated\n",
    "\n",
    "arr = np.array([1.2,2.1,3.4,4,4])\n",
    "print(\"Original Data TYpe : \",arr.dtype)\n",
    "\n",
    "arr_int = arr.astype(np.int32)\n",
    "print(\"Type Casted Data Type:\\n\",arr_int)\n",
    "\n",
    "\n"
   ]
  },
  {
   "cell_type": "code",
   "execution_count": 110,
   "metadata": {},
   "outputs": [
    {
     "ename": "ValueError",
     "evalue": "could not convert string to float: 'Hello'",
     "output_type": "error",
     "traceback": [
      "\u001b[1;31m---------------------------------------------------------------------------\u001b[0m",
      "\u001b[1;31mValueError\u001b[0m                                Traceback (most recent call last)",
      "\u001b[1;32m<ipython-input-110-d4ac99e4509e>\u001b[0m in \u001b[0;36m<module>\u001b[1;34m\u001b[0m\n\u001b[0;32m      3\u001b[0m \u001b[1;32mimport\u001b[0m \u001b[0mnumpy\u001b[0m \u001b[1;32mas\u001b[0m \u001b[0mnp\u001b[0m\u001b[1;33m\u001b[0m\u001b[1;33m\u001b[0m\u001b[0m\n\u001b[0;32m      4\u001b[0m \u001b[0mnumeric_strings\u001b[0m \u001b[1;33m=\u001b[0m \u001b[0mnp\u001b[0m\u001b[1;33m.\u001b[0m\u001b[0marray\u001b[0m\u001b[1;33m(\u001b[0m\u001b[1;33m[\u001b[0m\u001b[1;34m'Hello'\u001b[0m\u001b[1;33m,\u001b[0m\u001b[1;34m'-9.6'\u001b[0m\u001b[1;33m,\u001b[0m\u001b[1;34m'42'\u001b[0m\u001b[1;33m]\u001b[0m\u001b[1;33m,\u001b[0m\u001b[0mdtype\u001b[0m\u001b[1;33m=\u001b[0m\u001b[0mnp\u001b[0m\u001b[1;33m.\u001b[0m\u001b[0mstring_\u001b[0m\u001b[1;33m)\u001b[0m\u001b[1;33m\u001b[0m\u001b[1;33m\u001b[0m\u001b[0m\n\u001b[1;32m----> 5\u001b[1;33m \u001b[0mprint\u001b[0m\u001b[1;33m(\u001b[0m\u001b[0mnumeric_strings\u001b[0m\u001b[1;33m.\u001b[0m\u001b[0mastype\u001b[0m\u001b[1;33m(\u001b[0m\u001b[0mnp\u001b[0m\u001b[1;33m.\u001b[0m\u001b[0mfloat32\u001b[0m\u001b[1;33m)\u001b[0m\u001b[1;33m)\u001b[0m\u001b[1;33m\u001b[0m\u001b[1;33m\u001b[0m\u001b[0m\n\u001b[0m",
      "\u001b[1;31mValueError\u001b[0m: could not convert string to float: 'Hello'"
     ]
    }
   ],
   "source": [
    "##If casting were to fail for some reason, a TypeError will be raised\n",
    "\n",
    "import numpy as np\n",
    "numeric_strings = np.array(['Hello','-9.6','42'],dtype=np.string_)\n",
    "print(numeric_strings.astype(np.float32))\n"
   ]
  },
  {
   "cell_type": "code",
   "execution_count": 148,
   "metadata": {},
   "outputs": [],
   "source": [
    "numeric_strings = np.array(['-9.6','42'])"
   ]
  },
  {
   "cell_type": "code",
   "execution_count": 149,
   "metadata": {
    "scrolled": false
   },
   "outputs": [
    {
     "data": {
      "text/plain": [
       "array(['-9.6', '42'], dtype='<U4')"
      ]
     },
     "execution_count": 149,
     "metadata": {},
     "output_type": "execute_result"
    }
   ],
   "source": [
    "numeric_strings"
   ]
  },
  {
   "cell_type": "code",
   "execution_count": 150,
   "metadata": {},
   "outputs": [
    {
     "data": {
      "text/plain": [
       "array([-9.6, 42. ])"
      ]
     },
     "execution_count": 150,
     "metadata": {},
     "output_type": "execute_result"
    }
   ],
   "source": [
    "numeric_strings.astype(\"float\") # Helps in typecasting"
   ]
  },
  {
   "cell_type": "code",
   "execution_count": 11,
   "metadata": {
    "scrolled": true
   },
   "outputs": [
    {
     "name": "stdout",
     "output_type": "stream",
     "text": [
      "[ 1.25 -9.6  42.  ]\n",
      "float64\n",
      "float32\n",
      "float64\n"
     ]
    }
   ],
   "source": [
    "# NumPy is smart enough to alias the Python types to the equivalent dtypes\n",
    "import numpy as np\n",
    "numeric_strings = np.array(['1.25', '-9.6', '42'], dtype=np.string_)\n",
    "print(numeric_strings.astype(float))\n",
    "print(numeric_strings.astype(float).dtype)\n",
    "print(numeric_strings.astype('float32').dtype)\n",
    "print(numeric_strings.astype('float64').dtype)"
   ]
  },
  {
   "cell_type": "markdown",
   "metadata": {},
   "source": [
    "### Points to Remember:\n",
    "\n",
    "1. Calling astype always creates a new array (a copy of the data), even if the new dtype is the same as the old dtype.\n"
   ]
  },
  {
   "cell_type": "code",
   "execution_count": 151,
   "metadata": {},
   "outputs": [
    {
     "name": "stdout",
     "output_type": "stream",
     "text": [
      "#########Addition#########\n",
      "[[ 2.  4.  6.]\n",
      " [ 8. 10. 12.]]\n",
      "#########Subtraction#########\n",
      "[[0. 0. 0.]\n",
      " [0. 0. 0.]]\n",
      "#########Multiplicaton#########\n",
      "[[ 1.  4.  9.]\n",
      " [16. 25. 36.]]\n",
      "#########Division#########\n",
      "[[1. 1. 1.]\n",
      " [1. 1. 1.]]\n"
     ]
    }
   ],
   "source": [
    "##Operations\n",
    "\n",
    "#Arrays are important because they enable you to express batch operations on data\n",
    "#without writing any for loops. This is usually called vectorization. Any arithmetic operations\n",
    "#between equal-size arrays applies the operation elementwise:\n",
    "import numpy as np\n",
    "\n",
    "arr = np.array([[1., 2., 3.], \n",
    "                [4., 5., 6.]]) \n",
    "\n",
    "#Addition\n",
    "print(\"#########Addition#########\")\n",
    "arr1 = arr + arr\n",
    "print(arr1)\n",
    "\n",
    "#Subtraction\n",
    "print(\"#########Subtraction#########\")\n",
    "arr2 = arr - arr\n",
    "print(arr2)\n",
    "\n",
    "#Multiplication\n",
    "print(\"#########Multiplicaton#########\")\n",
    "arr3 = arr * arr\n",
    "print(arr3)\n",
    "\n",
    "#Division\n",
    "print(\"#########Division#########\")\n",
    "arr4 = arr / arr\n",
    "print(arr4)\n"
   ]
  },
  {
   "cell_type": "code",
   "execution_count": 152,
   "metadata": {},
   "outputs": [
    {
     "ename": "ValueError",
     "evalue": "operands could not be broadcast together with shapes (2,3) (2,2) ",
     "output_type": "error",
     "traceback": [
      "\u001b[1;31m---------------------------------------------------------------------------\u001b[0m",
      "\u001b[1;31mValueError\u001b[0m                                Traceback (most recent call last)",
      "\u001b[1;32m<ipython-input-152-1a0b82a725ca>\u001b[0m in \u001b[0;36m<module>\u001b[1;34m\u001b[0m\n\u001b[0;32m      5\u001b[0m arr2 = np.array([[1., 2.], \n\u001b[0;32m      6\u001b[0m                  [4., 5.]]) # 2x2\n\u001b[1;32m----> 7\u001b[1;33m \u001b[0marr1\u001b[0m\u001b[1;33m+\u001b[0m\u001b[0marr2\u001b[0m\u001b[1;33m\u001b[0m\u001b[1;33m\u001b[0m\u001b[0m\n\u001b[0m",
      "\u001b[1;31mValueError\u001b[0m: operands could not be broadcast together with shapes (2,3) (2,2) "
     ]
    }
   ],
   "source": [
    "# Adding matrices of different shapes is not allowed\n",
    "arr1 = np.array([[1., 2., 3.], \n",
    "                 [4., 5., 6.]]) # 2x3\n",
    "\n",
    "arr2 = np.array([[1., 2.], \n",
    "                 [4., 5.]]) # 2x2\n",
    "arr1+arr2"
   ]
  },
  {
   "cell_type": "code",
   "execution_count": 159,
   "metadata": {},
   "outputs": [
    {
     "name": "stdout",
     "output_type": "stream",
     "text": [
      "[[1. 2. 3.]\n",
      " [4. 5. 6.]]\n",
      "Scalar Addition\n",
      "[[2. 3. 4.]\n",
      " [5. 6. 7.]]\n",
      "Scalar Subtraction\n",
      "[[0. 1. 2.]\n",
      " [3. 4. 5.]]\n",
      "Scalar Multiplication\n",
      "[[ 2.  4.  6.]\n",
      " [ 8. 10. 12.]]\n",
      "Scalar Division\n",
      "[[1.         0.5        0.33333333]\n",
      " [0.25       0.2        0.16666667]]\n",
      "[[0.5 1.  1.5]\n",
      " [2.  2.5 3. ]]\n"
     ]
    }
   ],
   "source": [
    "## Arithmetic Operations with Scalar\n",
    "\n",
    "##Addition\n",
    "\n",
    "print(arr)\n",
    "print(\"Scalar Addition\")\n",
    "print(arr+1)\n",
    "\n",
    "print(\"Scalar Subtraction\")\n",
    "print(arr-1)\n",
    "\n",
    "print(\"Scalar Multiplication\")\n",
    "print(arr*2)\n",
    "\n",
    "print(\"Scalar Division\")\n",
    "print(1/arr)\n",
    "print(arr/2)\n",
    "\n",
    "\n",
    "##Operations between differently sized arrays is called broadcasting"
   ]
  },
  {
   "cell_type": "markdown",
   "metadata": {},
   "source": [
    "## Data Processing Using Array\n",
    "\n",
    "Using NumPy arrays enables you to express many kinds of data processing tasks as concise array expressions that might otherwise require writing loops. This practice of replacing explicit loops with array expressions is commonly referred to as vectorization."
   ]
  },
  {
   "cell_type": "markdown",
   "metadata": {},
   "source": [
    "### Indexing and Slicing\n",
    "\n",
    "NumPy array indexing is a rich topic, as there are many ways you may want to select a subset of your data or individual elements. One-dimensional arrays are simple; on the surface they act similarly to Python lists:"
   ]
  },
  {
   "cell_type": "code",
   "execution_count": 153,
   "metadata": {},
   "outputs": [
    {
     "name": "stdout",
     "output_type": "stream",
     "text": [
      "[10, 20, 1, 121, 13, 532, 12]\n"
     ]
    }
   ],
   "source": [
    "list1 = [10,20,1,121,13,532,12]\n",
    "print(list1)"
   ]
  },
  {
   "cell_type": "code",
   "execution_count": 172,
   "metadata": {},
   "outputs": [
    {
     "name": "stdout",
     "output_type": "stream",
     "text": [
      "13\n",
      "[13, 532, 12]\n",
      "[10, 20, 1, 121]\n",
      "[1, 121]\n",
      "[1, 121, 13, 532]\n",
      "[12]\n",
      "[10, 20, 1, 121, 13, 532]\n"
     ]
    }
   ],
   "source": [
    "print(list1[4])\n",
    "print(list1[4:])\n",
    "print(list1[:4])\n",
    "print(list1[2:4])\n",
    "print(list1[2:6])\n",
    "print(list1[-1:])\n",
    "print(list1[:-1])"
   ]
  },
  {
   "cell_type": "code",
   "execution_count": 173,
   "metadata": {},
   "outputs": [
    {
     "name": "stdout",
     "output_type": "stream",
     "text": [
      "[ 10  20   1 121  13 532  12]\n"
     ]
    }
   ],
   "source": [
    "# Slicing single dimension numpy arrays is the same as python lists\n",
    "arr1 = np.array([10,20,1,121,13,532,12])\n",
    "print(arr1)"
   ]
  },
  {
   "cell_type": "code",
   "execution_count": 174,
   "metadata": {},
   "outputs": [
    {
     "name": "stdout",
     "output_type": "stream",
     "text": [
      "13\n",
      "[ 13 532  12]\n",
      "[ 10  20   1 121]\n",
      "[  1 121]\n",
      "[  1 121  13 532]\n",
      "[12]\n",
      "[ 10  20   1 121  13 532]\n"
     ]
    }
   ],
   "source": [
    "print(arr1[4])\n",
    "print(arr1[4:])\n",
    "print(arr1[:4])\n",
    "print(arr1[2:4])\n",
    "print(arr1[2:6])\n",
    "print(arr1[-1:])\n",
    "print(arr1[:-1])"
   ]
  },
  {
   "cell_type": "code",
   "execution_count": 114,
   "metadata": {},
   "outputs": [
    {
     "name": "stdout",
     "output_type": "stream",
     "text": [
      "My Array is:\n",
      "[ 10  21 312  12  31  53 563 536 632]\n",
      "Extract 5th index from the array\n",
      "53\n",
      "Slice 5th to 7th index in array\n",
      "[ 53 563 536]\n"
     ]
    }
   ],
   "source": [
    "arr = np.array([10,21,312,12,31,53,563,536,632])\n",
    "\n",
    "print(\"My Array is:\")\n",
    "print(arr)\n",
    "\n",
    "print(\"Extract 5th index from the array\")\n",
    "print(arr[5])\n",
    "\n",
    "print(\"Slice 5th to 7th index in array\")\n",
    "print(arr[5:8])"
   ]
  },
  {
   "cell_type": "code",
   "execution_count": 9,
   "metadata": {},
   "outputs": [
    {
     "name": "stdout",
     "output_type": "stream",
     "text": [
      "[ 53 563 536 632]\n",
      "632\n"
     ]
    }
   ],
   "source": [
    "print(arr[5:])\n",
    "print(arr[-1])"
   ]
  },
  {
   "cell_type": "code",
   "execution_count": 118,
   "metadata": {},
   "outputs": [
    {
     "name": "stdout",
     "output_type": "stream",
     "text": [
      "[0, 1, 2, 3, 4, 5, 6, 7, 8, 9]\n"
     ]
    },
    {
     "ename": "TypeError",
     "evalue": "can only assign an iterable",
     "output_type": "error",
     "traceback": [
      "\u001b[1;31m---------------------------------------------------------------------------\u001b[0m",
      "\u001b[1;31mTypeError\u001b[0m                                 Traceback (most recent call last)",
      "\u001b[1;32m<ipython-input-118-be452c615ef5>\u001b[0m in \u001b[0;36m<module>\u001b[1;34m\u001b[0m\n\u001b[0;32m      2\u001b[0m \u001b[0mprint\u001b[0m\u001b[1;33m(\u001b[0m\u001b[0mlst1\u001b[0m\u001b[1;33m)\u001b[0m\u001b[1;33m\u001b[0m\u001b[1;33m\u001b[0m\u001b[0m\n\u001b[0;32m      3\u001b[0m \u001b[1;33m\u001b[0m\u001b[0m\n\u001b[1;32m----> 4\u001b[1;33m \u001b[0mlst1\u001b[0m\u001b[1;33m[\u001b[0m\u001b[1;36m5\u001b[0m\u001b[1;33m:\u001b[0m\u001b[1;36m8\u001b[0m\u001b[1;33m]\u001b[0m \u001b[1;33m=\u001b[0m \u001b[1;36m12\u001b[0m\u001b[1;33m\u001b[0m\u001b[1;33m\u001b[0m\u001b[0m\n\u001b[0m\u001b[0;32m      5\u001b[0m \u001b[0mprint\u001b[0m\u001b[1;33m(\u001b[0m\u001b[0mlst1\u001b[0m\u001b[1;33m)\u001b[0m\u001b[1;33m\u001b[0m\u001b[1;33m\u001b[0m\u001b[0m\n",
      "\u001b[1;31mTypeError\u001b[0m: can only assign an iterable"
     ]
    }
   ],
   "source": [
    "lst1 = [0,1,2,3,4,5,6,7,8,9]\n",
    "print(lst1)\n",
    "\n",
    "lst1[5:8] = 12\n",
    "print(lst1)"
   ]
  },
  {
   "cell_type": "code",
   "execution_count": 119,
   "metadata": {
    "scrolled": true
   },
   "outputs": [
    {
     "name": "stdout",
     "output_type": "stream",
     "text": [
      "[ 0  1  2  3  4 12 12 12  8  9]\n"
     ]
    }
   ],
   "source": [
    "arr1 = np.arange(10)\n",
    "arr1[5:8] = 12\n",
    "print(arr1)"
   ]
  },
  {
   "cell_type": "code",
   "execution_count": 5,
   "metadata": {},
   "outputs": [
    {
     "data": {
      "text/plain": [
       "[1, 12, 3, 4, 5]"
      ]
     },
     "execution_count": 5,
     "metadata": {},
     "output_type": "execute_result"
    }
   ],
   "source": [
    "lst1 = [1,2,3,4,5]\n",
    "lst1[1] = 12\n",
    "lst1\n"
   ]
  },
  {
   "cell_type": "code",
   "execution_count": 125,
   "metadata": {},
   "outputs": [
    {
     "name": "stdout",
     "output_type": "stream",
     "text": [
      "[100   2   3   4]\n",
      "[100   2   3   4]\n",
      "##### Deep Copy ####\n",
      "[1 2 3 4]\n",
      "[100   2   3   4]\n"
     ]
    }
   ],
   "source": [
    "arr1 = np.array([1,2,3,4])\n",
    "\n",
    "arr2 = arr1\n",
    "arr2[0] = 100\n",
    "\n",
    "print(arr1)\n",
    "print(arr2)\n",
    "\n",
    "print(\"##### Deep Copy ####\")\n",
    "\n",
    "arr1 = np.array([1,2,3,4])\n",
    "\n",
    "arr2 = arr1.copy() ## Deep copy.. arr2 points to a new mem location\n",
    "arr2[0] = 100\n",
    "\n",
    "print(arr1)\n",
    "print(arr2)"
   ]
  },
  {
   "cell_type": "code",
   "execution_count": 25,
   "metadata": {},
   "outputs": [
    {
     "name": "stdout",
     "output_type": "stream",
     "text": [
      "[    0     1     2     3     4     5 12345     7     8     9]\n",
      "[0, 1, 2, 3, 4, 5, 6, 7, 8, 9]\n",
      "[5, 12345, 7]\n"
     ]
    }
   ],
   "source": [
    "#Update the Slice which is different from List\n",
    "\n",
    "#Array slices are views on the original array.\n",
    "#This means that the data is not copied, and any modifications to \n",
    "#the view will be reflected in the source array\n",
    "arr1 = np.arange(10)\n",
    "arr_slice = arr1[5:8]\n",
    "arr_slice[1] = 12345\n",
    "print(arr1)\n",
    "\n",
    "#Not true in case of list\n",
    "lst1 = [0,1,2,3,4,5,6,7,8,9]\n",
    "lst_slice = lst1[5:8]\n",
    "lst_slice[1] = 12345\n",
    "print(lst1)\n",
    "print(lst_slice)\n",
    "\n",
    "##As NumPy has been designed with large data use cases in mind, \n",
    "#you could imagine performance and\n",
    "##memory problems if NumPy insisted on copying data left and right."
   ]
  },
  {
   "cell_type": "code",
   "execution_count": 159,
   "metadata": {
    "scrolled": true
   },
   "outputs": [
    {
     "name": "stdout",
     "output_type": "stream",
     "text": [
      "Original Array: \n",
      " [[15 10 13 13]\n",
      " [17 19 13 15]\n",
      " [12 14 17 16]]\n",
      "Slice : 15\n",
      "Slice : 13\n"
     ]
    }
   ],
   "source": [
    "#In a multi-dimensional array, items can be accessed using a comma-separated tuple of indices:\n",
    "import numpy as np\n",
    "np.random.seed(0)\n",
    "x2 = np.random.randint(low = 10, high=20, size=(3, 4))  # Two-dimensional array\n",
    "\n",
    "print(\"Original Array: \\n\",x2)\n",
    "\n",
    "print(\"Slice :\",x2[(0, 0)])\n",
    "\n",
    "print(\"Slice :\",x2[(0, -1)])"
   ]
  },
  {
   "cell_type": "code",
   "execution_count": 156,
   "metadata": {},
   "outputs": [
    {
     "name": "stdout",
     "output_type": "stream",
     "text": [
      "Original Array: \n",
      " [[[5 0]\n",
      "  [3 3]\n",
      "  [7 9]\n",
      "  [3 5]]\n",
      "\n",
      " [[2 4]\n",
      "  [7 6]\n",
      "  [8 8]\n",
      "  [1 6]]\n",
      "\n",
      " [[7 7]\n",
      "  [8 1]\n",
      "  [5 9]\n",
      "  [8 9]]]\n",
      "Slice : 5\n",
      "Slice : 5\n"
     ]
    }
   ],
   "source": [
    "import numpy as np\n",
    "np.random.seed(0)\n",
    "x2 = np.random.randint(10, size=(3, 4,2))  # Two-dimensional array\n",
    "\n",
    "print(\"Original Array: \\n\",x2)\n",
    "\n",
    "print(\"Slice :\",x2[(0, 0,0)])\n",
    "\n",
    "print(\"Slice :\",x2[(0, -1,-1)])"
   ]
  },
  {
   "cell_type": "markdown",
   "metadata": {},
   "source": [
    "If you want a copy of a slice of an ndarray instead of a view, you will\n",
    "need to explicitly copy the array; for example arr[5:8].copy()."
   ]
  },
  {
   "cell_type": "code",
   "execution_count": 157,
   "metadata": {},
   "outputs": [
    {
     "data": {
      "text/plain": [
       "array([3, 1, 2, 3, 4, 5, 6, 7, 8, 9])"
      ]
     },
     "execution_count": 157,
     "metadata": {},
     "output_type": "execute_result"
    }
   ],
   "source": [
    "#Keep in mind that, unlike Python lists, NumPy arrays have a fixed type. This means, for example, \n",
    "#that if you attempt to insert a floating-point value to an integer array, the value will be silently truncated. \n",
    "x1 = np.arange(10)\n",
    "x1[0] = 3.14159  # this will be truncated!\n",
    "x1"
   ]
  },
  {
   "cell_type": "markdown",
   "metadata": {},
   "source": [
    "# Array Slicing: Accessing Subarrays\n",
    "\n",
    "ust as we can use square brackets to access individual array elements, we can also use them to access subarrays with the slice notation, marked by the colon (:) character. The NumPy slicing syntax follows that of the standard Python list; to access a slice of an array x, use this:"
   ]
  },
  {
   "cell_type": "code",
   "execution_count": 170,
   "metadata": {},
   "outputs": [
    {
     "data": {
      "text/plain": [
       "array([[15, 10, 13, 13],\n",
       "       [17, 19, 13, 15],\n",
       "       [12, 14, 17, 16]])"
      ]
     },
     "execution_count": 170,
     "metadata": {},
     "output_type": "execute_result"
    }
   ],
   "source": [
    "x2"
   ]
  },
  {
   "cell_type": "code",
   "execution_count": 164,
   "metadata": {},
   "outputs": [
    {
     "data": {
      "text/plain": [
       "array([[17, 19, 13, 15],\n",
       "       [12, 14, 17, 16]])"
      ]
     },
     "execution_count": 164,
     "metadata": {},
     "output_type": "execute_result"
    }
   ],
   "source": [
    "x2[1:]"
   ]
  },
  {
   "cell_type": "code",
   "execution_count": 165,
   "metadata": {
    "scrolled": false
   },
   "outputs": [
    {
     "data": {
      "text/plain": [
       "array([[15, 10],\n",
       "       [17, 19],\n",
       "       [12, 14]])"
      ]
     },
     "execution_count": 165,
     "metadata": {},
     "output_type": "execute_result"
    }
   ],
   "source": [
    "x2[:3, :2]"
   ]
  },
  {
   "cell_type": "code",
   "execution_count": 172,
   "metadata": {},
   "outputs": [
    {
     "data": {
      "text/plain": [
       "(2,)"
      ]
     },
     "execution_count": 172,
     "metadata": {},
     "output_type": "execute_result"
    }
   ],
   "source": [
    "x2[1:, 1]"
   ]
  },
  {
   "cell_type": "code",
   "execution_count": 180,
   "metadata": {},
   "outputs": [
    {
     "name": "stdout",
     "output_type": "stream",
     "text": [
      "Origina Array :\n",
      " [[3 5 2 4]\n",
      " [7 6 8 8]\n",
      " [1 6 7 7]]\n",
      "Two Row and three Column: \n",
      " [[3 5 2]\n",
      " [7 6 8]]\n",
      "Rows until 3rd Index and first 2 columns :\n",
      " [[3 5]\n",
      " [7 6]\n",
      " [1 6]]\n"
     ]
    }
   ],
   "source": [
    "#Multi-dimensional slices work in the same way, with multiple slices separated by commas. For example:\n",
    "\n",
    "print(\"Origina Array :\\n\",x2)\n",
    "print(\"Two Row and three Column: \\n\",x2[:2, :3])\n",
    "print(\"Rows until 3rd Index and first 2 columns :\\n\",x2[:3, :2])"
   ]
  },
  {
   "cell_type": "markdown",
   "metadata": {},
   "source": [
    "## Transposing: \n",
    "\n",
    "Another useful type of operation is reshaping of arrays. The most flexible way of doing this is with the reshape method\n",
    "\n",
    "Note that for this to work, the size of the initial array must match the size of the reshaped array. Where possible, the reshape method will use a no-copy view of the initial array\n",
    "\n",
    "Transposing is a special form of reshaping which similarly returns a view on the underlying data without copying anything. Arrays have the transpose method and also the special T attribute"
   ]
  },
  {
   "cell_type": "code",
   "execution_count": 176,
   "metadata": {},
   "outputs": [
    {
     "data": {
      "text/plain": [
       "array([[15, 10, 13, 13],\n",
       "       [17, 19, 13, 15],\n",
       "       [12, 14, 17, 16]])"
      ]
     },
     "execution_count": 176,
     "metadata": {},
     "output_type": "execute_result"
    }
   ],
   "source": [
    "x2 # (shape mxn)"
   ]
  },
  {
   "cell_type": "code",
   "execution_count": 185,
   "metadata": {},
   "outputs": [
    {
     "data": {
      "text/plain": [
       "(3, 4)"
      ]
     },
     "execution_count": 185,
     "metadata": {},
     "output_type": "execute_result"
    }
   ],
   "source": [
    "x2.shape"
   ]
  },
  {
   "cell_type": "code",
   "execution_count": 186,
   "metadata": {},
   "outputs": [
    {
     "name": "stdout",
     "output_type": "stream",
     "text": [
      "[[3 5 2 4]\n",
      " [7 6 8 8]\n",
      " [1 6 7 7]]\n",
      "(3, 4)\n",
      "[[3 7 1]\n",
      " [5 6 6]\n",
      " [2 8 7]\n",
      " [4 8 7]]\n",
      "(4, 3)\n"
     ]
    }
   ],
   "source": [
    "print(x2)\n",
    "print(x2.shape)\n",
    "print(x2.T) # Transposed matrix \n",
    "print(x2.T.shape) # shape of transposed matrix # (shape nxm)"
   ]
  },
  {
   "cell_type": "code",
   "execution_count": 205,
   "metadata": {},
   "outputs": [
    {
     "name": "stdout",
     "output_type": "stream",
     "text": [
      "[ 0  1  2  3  4  5  6  7  8  9 10 11 12 13 14 15 16 17]\n"
     ]
    }
   ],
   "source": [
    "arr = np.arange(18)\n",
    "print(arr)"
   ]
  },
  {
   "cell_type": "code",
   "execution_count": 206,
   "metadata": {},
   "outputs": [
    {
     "ename": "ValueError",
     "evalue": "cannot reshape array of size 18 into shape (3,5)",
     "output_type": "error",
     "traceback": [
      "\u001b[1;31m---------------------------------------------------------------------------\u001b[0m",
      "\u001b[1;31mValueError\u001b[0m                                Traceback (most recent call last)",
      "\u001b[1;32m<ipython-input-206-2491b0fb6a43>\u001b[0m in \u001b[0;36m<module>\u001b[1;34m\u001b[0m\n\u001b[1;32m----> 1\u001b[1;33m \u001b[0marr\u001b[0m\u001b[1;33m.\u001b[0m\u001b[0mreshape\u001b[0m\u001b[1;33m(\u001b[0m\u001b[1;33m(\u001b[0m\u001b[1;36m3\u001b[0m\u001b[1;33m,\u001b[0m\u001b[1;36m5\u001b[0m\u001b[1;33m)\u001b[0m\u001b[1;33m)\u001b[0m\u001b[1;33m\u001b[0m\u001b[1;33m\u001b[0m\u001b[0m\n\u001b[0m",
      "\u001b[1;31mValueError\u001b[0m: cannot reshape array of size 18 into shape (3,5)"
     ]
    }
   ],
   "source": [
    "arr.reshape((3,5))"
   ]
  },
  {
   "cell_type": "code",
   "execution_count": 207,
   "metadata": {},
   "outputs": [
    {
     "data": {
      "text/plain": [
       "array([[ 0,  1,  2,  3,  4,  5],\n",
       "       [ 6,  7,  8,  9, 10, 11],\n",
       "       [12, 13, 14, 15, 16, 17]])"
      ]
     },
     "execution_count": 207,
     "metadata": {},
     "output_type": "execute_result"
    }
   ],
   "source": [
    "arr.reshape((3,6))"
   ]
  },
  {
   "cell_type": "code",
   "execution_count": 197,
   "metadata": {},
   "outputs": [
    {
     "data": {
      "text/plain": [
       "array([[[ 0,  1,  2],\n",
       "        [ 3,  4,  5]],\n",
       "\n",
       "       [[ 6,  7,  8],\n",
       "        [ 9, 10, 11]],\n",
       "\n",
       "       [[12, 13, 14],\n",
       "        [15, 16, 17]]])"
      ]
     },
     "execution_count": 197,
     "metadata": {},
     "output_type": "execute_result"
    }
   ],
   "source": [
    "arr.reshape((3, 2,3))"
   ]
  },
  {
   "cell_type": "code",
   "execution_count": 148,
   "metadata": {},
   "outputs": [],
   "source": [
    "arr = np.arange(24)"
   ]
  },
  {
   "cell_type": "code",
   "execution_count": 154,
   "metadata": {
    "scrolled": true
   },
   "outputs": [
    {
     "data": {
      "text/plain": [
       "array([[[ 0,  1,  2,  3],\n",
       "        [ 4,  5,  6,  7],\n",
       "        [ 8,  9, 10, 11]],\n",
       "\n",
       "       [[12, 13, 14, 15],\n",
       "        [16, 17, 18, 19],\n",
       "        [20, 21, 22, 23]]])"
      ]
     },
     "execution_count": 154,
     "metadata": {},
     "output_type": "execute_result"
    }
   ],
   "source": [
    "arr.reshape((2, 3, 4))"
   ]
  },
  {
   "cell_type": "code",
   "execution_count": 77,
   "metadata": {
    "scrolled": true
   },
   "outputs": [
    {
     "name": "stdout",
     "output_type": "stream",
     "text": [
      "[[[ 0  1  2  3]\n",
      "  [ 4  5  6  7]\n",
      "  [ 8  9 10 11]]\n",
      "\n",
      " [[12 13 14 15]\n",
      "  [16 17 18 19]\n",
      "  [20 21 22 23]]]\n",
      "Transposed Array\n",
      " [[[ 0 12]\n",
      "  [ 4 16]\n",
      "  [ 8 20]]\n",
      "\n",
      " [[ 1 13]\n",
      "  [ 5 17]\n",
      "  [ 9 21]]\n",
      "\n",
      " [[ 2 14]\n",
      "  [ 6 18]\n",
      "  [10 22]]\n",
      "\n",
      " [[ 3 15]\n",
      "  [ 7 19]\n",
      "  [11 23]]]\n"
     ]
    }
   ],
   "source": [
    "arr = np.arange(24).reshape((2, 3, 4))\n",
    "print(arr)\n",
    "\n",
    "\n",
    "print(\"Transposed Array\\n\",arr.T)"
   ]
  },
  {
   "cell_type": "code",
   "execution_count": 165,
   "metadata": {},
   "outputs": [
    {
     "name": "stdout",
     "output_type": "stream",
     "text": [
      "[[[ 0  1  2  3]\n",
      "  [ 4  5  6  7]\n",
      "  [ 8  9 10 11]]\n",
      "\n",
      " [[12 13 14 15]\n",
      "  [16 17 18 19]\n",
      "  [20 21 22 23]]]\n",
      "(2, 3, 4)\n",
      "---------\n",
      "[[[ 0  1  2  3]\n",
      "  [12 13 14 15]]\n",
      "\n",
      " [[ 4  5  6  7]\n",
      "  [16 17 18 19]]\n",
      "\n",
      " [[ 8  9 10 11]\n",
      "  [20 21 22 23]]]\n",
      "(3, 2, 4)\n"
     ]
    }
   ],
   "source": [
    "#Simple transposing with .T is just a special case of swapping axes. ndarray has the method \n",
    "#swapaxes which takes a pair of axis numbers:\n",
    "\n",
    "arr1 = np.arange(24).reshape(2, 3, 4)\n",
    "\n",
    "print(arr1)\n",
    "print(arr1.shape)\n",
    "\n",
    "print(\"---------\")\n",
    "print(arr1.swapaxes(0, 1))\n",
    "print(arr1.swapaxes(0, 1).shape)\n",
    "\n",
    "#swapaxes similarly returns a view on the data without making a copy."
   ]
  },
  {
   "cell_type": "code",
   "execution_count": 204,
   "metadata": {},
   "outputs": [
    {
     "name": "stdout",
     "output_type": "stream",
     "text": [
      "16.8 ms ± 404 µs per loop (mean ± std. dev. of 7 runs, 100 loops each)\n"
     ]
    }
   ],
   "source": [
    "%%timeit \n",
    "\n",
    "list1 = range(100000)\n",
    "# sqrt_list = []\n",
    "# for i in list1:\n",
    "#     sqrt_list.append(i**0.5)\n",
    "sqrt_list = [i**0.5 for i in list1] # list comprehension"
   ]
  },
  {
   "cell_type": "code",
   "execution_count": 203,
   "metadata": {},
   "outputs": [
    {
     "name": "stdout",
     "output_type": "stream",
     "text": [
      "460 µs ± 42.8 µs per loop (mean ± std. dev. of 7 runs, 1000 loops each)\n"
     ]
    }
   ],
   "source": [
    "%%timeit \n",
    "\n",
    "arr1 = np.arange(100000)\n",
    "srtd_arr = np.sqrt(arr1)"
   ]
  },
  {
   "cell_type": "code",
   "execution_count": 177,
   "metadata": {},
   "outputs": [
    {
     "name": "stdout",
     "output_type": "stream",
     "text": [
      "Original Array :\n",
      " [0 1 2 3 4 5 6 7 8 9]\n",
      "Sqrt Array :\n",
      " [0.         1.         1.41421356 1.73205081 2.         2.23606798\n",
      " 2.44948974 2.64575131 2.82842712 3.        ]\n",
      "Exp Array: \n",
      " [1.00000000e+00 2.71828183e+00 7.38905610e+00 2.00855369e+01\n",
      " 5.45981500e+01 1.48413159e+02 4.03428793e+02 1.09663316e+03\n",
      " 2.98095799e+03 8.10308393e+03]\n"
     ]
    }
   ],
   "source": [
    "#Universal Functions: Fast Element-wise Array Functions\n",
    "\n",
    "arr = np.arange(10)\n",
    "print(\"Original Array :\\n\",arr)\n",
    "#x = randn(8)\n",
    "print(\"Sqrt Array :\\n\",np.sqrt(arr))\n",
    "\n",
    "print(\"Exp Array: \\n\",np.exp(arr))"
   ]
  },
  {
   "cell_type": "code",
   "execution_count": 2,
   "metadata": {},
   "outputs": [
    {
     "name": "stdout",
     "output_type": "stream",
     "text": [
      "First Matrix:\n",
      " [ 0.7676349  -1.4108597  -0.51188286  0.75685053 -0.36907004 -0.89319372\n",
      " -1.09165776  0.2189898 ]\n",
      "Second Matrix:\n",
      " [ 0.55962326 -1.000064   -1.41701936 -0.29490414 -1.12285359 -2.11449554\n",
      "  0.17668923  0.62342428]\n",
      "Add both Matrix:\n",
      " [ 1.32725816 -2.4109237  -1.92890222  0.46194639 -1.49192363 -3.00768927\n",
      " -0.91496853  0.84241408]\n",
      "Find Maximum Elmentwise in Both Matrix [ 0.7676349  -1.000064   -0.51188286  0.75685053 -0.36907004 -0.89319372\n",
      "  0.17668923  0.62342428]\n"
     ]
    }
   ],
   "source": [
    "#add or maximum, take 2 arrays and return a single array as the result:\n",
    "import numpy as np\n",
    "x = np.random.randn(8)\n",
    "y = np.random.randn(8)\n",
    "\n",
    "print(\"First Matrix:\\n\",x)\n",
    "\n",
    "\n",
    "print(\"Second Matrix:\\n\",y)\n",
    "\n",
    "\n",
    "print(\"Add both Matrix:\\n\",np.add(x,y))\n",
    "print(\"Find Maximum Elmentwise in Both Matrix\",np.maximum(x,y))"
   ]
  },
  {
   "cell_type": "markdown",
   "metadata": {},
   "source": [
    "## Mathematical and Statistical Methods\n",
    "\n",
    "A set of mathematical functions which compute statistics about an entire array or about the data along an axis are accessible as array methods. Aggregations (often called reductions) like sum, mean, and standard deviation std can either be used by calling the array instance method:"
   ]
  },
  {
   "cell_type": "code",
   "execution_count": 212,
   "metadata": {},
   "outputs": [],
   "source": [
    "arr = np.array([[20,24,30,22,55],\n",
    "                [10,210,120,21,2120],\n",
    "               [21,35,35, 72, 84]])"
   ]
  },
  {
   "cell_type": "code",
   "execution_count": 213,
   "metadata": {},
   "outputs": [
    {
     "data": {
      "text/plain": [
       "array([[  20,   24,   30,   22,   55],\n",
       "       [  10,  210,  120,   21, 2120],\n",
       "       [  21,   35,   35,   72,   84]])"
      ]
     },
     "execution_count": 213,
     "metadata": {},
     "output_type": "execute_result"
    }
   ],
   "source": [
    "arr"
   ]
  },
  {
   "cell_type": "code",
   "execution_count": 214,
   "metadata": {},
   "outputs": [
    {
     "data": {
      "text/plain": [
       "array([ 20, 210,  35])"
      ]
     },
     "execution_count": 214,
     "metadata": {},
     "output_type": "execute_result"
    }
   ],
   "source": [
    "arr.diagonal()"
   ]
  },
  {
   "cell_type": "code",
   "execution_count": 215,
   "metadata": {},
   "outputs": [
    {
     "data": {
      "text/plain": [
       "10"
      ]
     },
     "execution_count": 215,
     "metadata": {},
     "output_type": "execute_result"
    }
   ],
   "source": [
    "arr.min()"
   ]
  },
  {
   "cell_type": "code",
   "execution_count": 216,
   "metadata": {},
   "outputs": [
    {
     "data": {
      "text/plain": [
       "2120"
      ]
     },
     "execution_count": 216,
     "metadata": {},
     "output_type": "execute_result"
    }
   ],
   "source": [
    "arr.max()"
   ]
  },
  {
   "cell_type": "code",
   "execution_count": 217,
   "metadata": {},
   "outputs": [
    {
     "data": {
      "text/plain": [
       "array([  20,   24,   30,   22,   55,   10,  210,  120,   21, 2120,   21,\n",
       "         35,   35,   72,   84])"
      ]
     },
     "execution_count": 217,
     "metadata": {},
     "output_type": "execute_result"
    }
   ],
   "source": [
    "arr.flatten()"
   ]
  },
  {
   "cell_type": "code",
   "execution_count": 218,
   "metadata": {},
   "outputs": [
    {
     "data": {
      "text/plain": [
       "array([[  20,   24,   30,   22,   55],\n",
       "       [  10,  210,  120,   21, 2120],\n",
       "       [  21,   35,   35,   72,   84]])"
      ]
     },
     "execution_count": 218,
     "metadata": {},
     "output_type": "execute_result"
    }
   ],
   "source": [
    "arr"
   ]
  },
  {
   "cell_type": "code",
   "execution_count": 219,
   "metadata": {},
   "outputs": [
    {
     "data": {
      "text/plain": [
       "array([[  20,   24,   30,   22,   55],\n",
       "       [  30,  234,  150,   43, 2175],\n",
       "       [  51,  269,  185,  115, 2259]], dtype=int32)"
      ]
     },
     "execution_count": 219,
     "metadata": {},
     "output_type": "execute_result"
    }
   ],
   "source": [
    "arr.cumsum(axis=0)"
   ]
  },
  {
   "cell_type": "code",
   "execution_count": 220,
   "metadata": {},
   "outputs": [
    {
     "data": {
      "text/plain": [
       "array([[  20,   44,   74,   96,  151],\n",
       "       [  10,  220,  340,  361, 2481],\n",
       "       [  21,   56,   91,  163,  247]], dtype=int32)"
      ]
     },
     "execution_count": 220,
     "metadata": {},
     "output_type": "execute_result"
    }
   ],
   "source": [
    "arr.cumsum(axis=1)"
   ]
  },
  {
   "cell_type": "code",
   "execution_count": 221,
   "metadata": {
    "scrolled": true
   },
   "outputs": [
    {
     "data": {
      "text/plain": [
       "array([  20,   44,   74,   96,  151,  161,  371,  491,  512, 2632, 2653,\n",
       "       2688, 2723, 2795, 2879], dtype=int32)"
      ]
     },
     "execution_count": 221,
     "metadata": {},
     "output_type": "execute_result"
    }
   ],
   "source": [
    "arr.cumsum()"
   ]
  },
  {
   "cell_type": "code",
   "execution_count": 226,
   "metadata": {},
   "outputs": [
    {
     "name": "stdout",
     "output_type": "stream",
     "text": [
      "Array is:\n",
      " [[  20   24   30   22   55]\n",
      " [  10  210  120   21 2120]\n",
      " [  21   35   35   72   84]]\n",
      "Mean is:  191.93333333333334\n",
      "Mean is: 191.93333333333334\n",
      "Row Mean is:  [ 30.2 496.2  49.4]\n",
      "Column Mean is: [ 17.          89.66666667  61.66666667  38.33333333 753.        ]\n",
      "Sum is: 2879\n",
      "Sum is: 2879\n"
     ]
    }
   ],
   "source": [
    "print(\"Array is:\\n\",arr)\n",
    "\n",
    "print(\"Mean is: \",arr.mean())\n",
    "print(\"Mean is:\", np.mean(arr))\n",
    "\n",
    "print(\"Row Mean is: \",arr.mean(axis=1))\n",
    "print(\"Column Mean is:\", arr.mean(axis=0))\n",
    "\n",
    "\n",
    "print(\"Sum is:\", arr.sum())\n",
    "print(\"Sum is:\", np.sum(arr))\n",
    "\n",
    "\n"
   ]
  },
  {
   "cell_type": "markdown",
   "metadata": {},
   "source": [
    "Functions like mean and sum take an optional axis argument which computes the statistic over the given axis, resulting in an array with one fewer dimension:"
   ]
  },
  {
   "cell_type": "code",
   "execution_count": 229,
   "metadata": {
    "scrolled": true
   },
   "outputs": [
    {
     "data": {
      "text/plain": [
       "array([ 151, 2481,  247])"
      ]
     },
     "execution_count": 229,
     "metadata": {},
     "output_type": "execute_result"
    }
   ],
   "source": [
    "arr.sum(axis=1)"
   ]
  },
  {
   "cell_type": "code",
   "execution_count": 228,
   "metadata": {},
   "outputs": [
    {
     "data": {
      "text/plain": [
       "array([  51,  269,  185,  115, 2259])"
      ]
     },
     "execution_count": 228,
     "metadata": {},
     "output_type": "execute_result"
    }
   ],
   "source": [
    "arr.sum(axis=0)"
   ]
  },
  {
   "cell_type": "code",
   "execution_count": 230,
   "metadata": {},
   "outputs": [
    {
     "name": "stdout",
     "output_type": "stream",
     "text": [
      "[[  20   24   30   22   55]\n",
      " [  10  210  120   21 2120]\n",
      " [  21   35   35   72   84]]\n"
     ]
    },
    {
     "data": {
      "text/plain": [
       "array([ 30.2, 496.2,  49.4])"
      ]
     },
     "execution_count": 230,
     "metadata": {},
     "output_type": "execute_result"
    }
   ],
   "source": [
    "print(arr)\n",
    "arr.mean(axis=1)"
   ]
  },
  {
   "cell_type": "code",
   "execution_count": 15,
   "metadata": {},
   "outputs": [
    {
     "data": {
      "text/plain": [
       "array([-0.58425131, -0.47510068, -0.24684652,  0.17977643])"
      ]
     },
     "execution_count": 15,
     "metadata": {},
     "output_type": "execute_result"
    }
   ],
   "source": [
    "np.mean(arr,axis=0)"
   ]
  },
  {
   "cell_type": "markdown",
   "metadata": {},
   "source": [
    "Other methods like cumsum and cumprod do not aggregate, instead producing an array of the intermediate results:"
   ]
  },
  {
   "cell_type": "code",
   "execution_count": 56,
   "metadata": {},
   "outputs": [
    {
     "data": {
      "text/plain": [
       "array([[0, 1, 2],\n",
       "       [3, 4, 5],\n",
       "       [6, 7, 8]])"
      ]
     },
     "execution_count": 56,
     "metadata": {},
     "output_type": "execute_result"
    }
   ],
   "source": [
    "arr"
   ]
  },
  {
   "cell_type": "code",
   "execution_count": 58,
   "metadata": {},
   "outputs": [
    {
     "data": {
      "text/plain": [
       "array([[ 0,  1,  3],\n",
       "       [ 3,  7, 12],\n",
       "       [ 6, 13, 21]], dtype=int32)"
      ]
     },
     "execution_count": 58,
     "metadata": {},
     "output_type": "execute_result"
    }
   ],
   "source": [
    "arr.cumsum(1)"
   ]
  },
  {
   "cell_type": "code",
   "execution_count": 57,
   "metadata": {},
   "outputs": [
    {
     "data": {
      "text/plain": [
       "array([[ 0,  1,  2],\n",
       "       [ 3,  5,  7],\n",
       "       [ 9, 12, 15]], dtype=int32)"
      ]
     },
     "execution_count": 57,
     "metadata": {},
     "output_type": "execute_result"
    }
   ],
   "source": [
    "arr.cumsum(0)"
   ]
  },
  {
   "cell_type": "code",
   "execution_count": 231,
   "metadata": {},
   "outputs": [
    {
     "name": "stdout",
     "output_type": "stream",
     "text": [
      "Array is :\n",
      " [[0 1 2]\n",
      " [3 4 5]\n",
      " [6 7 8]]\n",
      "Cumulative Sum Rowwise: \n",
      " [[ 0  1  2]\n",
      " [ 3  5  7]\n",
      " [ 9 12 15]]\n",
      "Cumulative Sum Columwise: \n",
      " [[ 0  1  3]\n",
      " [ 3  7 12]\n",
      " [ 6 13 21]]\n",
      "Cumulative Product Rowwise: \n",
      " [[ 0  1  2]\n",
      " [ 0  4 10]\n",
      " [ 0 28 80]]\n",
      "Cumulative Product Columwise: \n",
      " [[  0   0   0]\n",
      " [  3  12  60]\n",
      " [  6  42 336]]\n"
     ]
    }
   ],
   "source": [
    "arr = np.array([[0, 1, 2], [3, 4, 5], [6, 7, 8]])\n",
    "\n",
    "print(\"Array is :\\n\",arr)\n",
    "\n",
    "print(\"Cumulative Sum Rowwise: \\n\",arr.cumsum(0))\n",
    "\n",
    "print(\"Cumulative Sum Columwise: \\n\",arr.cumsum(1))\n",
    "\n",
    "print(\"Cumulative Product Rowwise: \\n\",arr.cumprod(0))\n",
    "\n",
    "print(\"Cumulative Product Columwise: \\n\",arr.cumprod(1))"
   ]
  },
  {
   "cell_type": "code",
   "execution_count": 233,
   "metadata": {
    "scrolled": true
   },
   "outputs": [
    {
     "name": "stdout",
     "output_type": "stream",
     "text": [
      "Original Array: \n",
      " [[ 4  3 12 13 14]\n",
      " [ 0  4  3 13 11]\n",
      " [12  6 13  9 13]]\n",
      "Sortd Array Row wise: \n",
      " [[ 0  3  3  9 11]\n",
      " [ 4  4 12 13 13]\n",
      " [12  6 13 13 14]]\n",
      "Sortd Array Column wise: \n",
      " [[ 0  3  3  9 11]\n",
      " [ 4  4 12 13 13]\n",
      " [ 6 12 13 13 14]]\n"
     ]
    }
   ],
   "source": [
    "#Sorting:\n",
    "import numpy as np\n",
    "arr = np.random.randint(15, size= (3, 5))\n",
    "\n",
    "print(\"Original Array: \\n\",arr)\n",
    "#np.sort returns a sorted copy of an array\n",
    "arr.sort(axis=0)\n",
    "print(\"Sortd Array Row wise: \\n\",arr)\n",
    "arr.sort(axis=1)\n",
    "print(\"Sortd Array Column wise: \\n\",arr)\n",
    "\n",
    "\n"
   ]
  },
  {
   "cell_type": "code",
   "execution_count": 238,
   "metadata": {},
   "outputs": [
    {
     "name": "stdout",
     "output_type": "stream",
     "text": [
      "['Bob' 'Bob' 'Joe' 'Joe' 'Joe' 'Will' 'Will']\n",
      "Unique Values in Array (Sorted Order) : ['Bob' 'Joe' 'Will']\n"
     ]
    }
   ],
   "source": [
    "#NumPy has some basic set operations for one-dimensional ndarrays. Probably the most\n",
    "#commonly used one is np.unique, which returns the sorted unique values in an array\n",
    "\n",
    "names = np.array(['Bob', 'Joe', 'Will', 'Bob', 'Will', 'Joe', 'Joe'])\n",
    "names.sort(axis=0)\n",
    "print(names)\n",
    "print(\"Unique Values in Array (Sorted Order) :\",np.unique(names))"
   ]
  },
  {
   "cell_type": "markdown",
   "metadata": {},
   "source": [
    "## Random Number Generation\n",
    "\n",
    "The numpy.random module supplements the built-in Python random with functions for efficiently generating whole arrays of sample values from the standard differennt distributions\n",
    "\n",
    "    rand: Draw samples from a uniform distribution\n",
    "    randint: Draw random integers from a given low-to-high range\n",
    "    randn: Draw samples from a normal distribution (Standard Normal)\n",
    "    binomial: Draw samples a binomial distribution\n",
    "    normal: Draw samples from a normal (Gaussian) distribution\n",
    "    chi-square: Draw samples from a chi-square distribution\n",
    "    uniform: Draw samples from a uniform [0, 1) distribution\n",
    "    "
   ]
  },
  {
   "cell_type": "code",
   "execution_count": null,
   "metadata": {},
   "outputs": [],
   "source": [
    "np.random.randint() # Return random integers from uniform dist\n",
    "np.random.uniform() # Return random values from uniform dist\n",
    "np.random.normal() # Returns values from normal dist\n",
    "np.random.randn() # Returns values from normal dist"
   ]
  },
  {
   "cell_type": "code",
   "execution_count": 240,
   "metadata": {},
   "outputs": [
    {
     "data": {
      "text/plain": [
       "array([[18, 10, 18],\n",
       "       [15, 19, 10],\n",
       "       [19, 16, 15]])"
      ]
     },
     "execution_count": 240,
     "metadata": {},
     "output_type": "execute_result"
    }
   ],
   "source": [
    "np.random.randint(low = 10, high = 20, size= (3, 3) )"
   ]
  },
  {
   "cell_type": "code",
   "execution_count": 244,
   "metadata": {
    "scrolled": true
   },
   "outputs": [
    {
     "data": {
      "text/plain": [
       "array([[26.55109638, 25.69453934, 32.54779119],\n",
       "       [29.01688427, 28.22238551, 24.69025178],\n",
       "       [28.61774757, 24.97700202, 27.09549167]])"
      ]
     },
     "execution_count": 244,
     "metadata": {},
     "output_type": "execute_result"
    }
   ],
   "source": [
    "np.random.normal(loc = 27, # mean \n",
    "                 scale = 3, # stdev\n",
    "                 size= (3, 3)) # shape"
   ]
  },
  {
   "cell_type": "code",
   "execution_count": 245,
   "metadata": {},
   "outputs": [
    {
     "data": {
      "text/plain": [
       "array([[-0.63584608,  0.67643329,  0.57659082],\n",
       "       [-0.20829876,  0.39600671, -1.09306151],\n",
       "       [-1.49125759,  0.4393917 ,  0.1666735 ]])"
      ]
     },
     "execution_count": 245,
     "metadata": {},
     "output_type": "execute_result"
    }
   ],
   "source": [
    "np.random.randn(3, 3) # mean = 0, stdev = 1, standard normal distribution"
   ]
  },
  {
   "cell_type": "code",
   "execution_count": 247,
   "metadata": {},
   "outputs": [
    {
     "name": "stdout",
     "output_type": "stream",
     "text": [
      "[[10.31871736  5.32087793  5.83277315]\n",
      " [ 2.10255405  9.25391589  6.92412176]\n",
      " [14.23052629  8.17728495  4.41246987]]\n"
     ]
    }
   ],
   "source": [
    "samples = np.random.uniform(1, 20, size = (3,3))\n",
    "print(samples)"
   ]
  },
  {
   "cell_type": "markdown",
   "metadata": {},
   "source": [
    "### Matrix multiplication"
   ]
  },
  {
   "cell_type": "code",
   "execution_count": 248,
   "metadata": {},
   "outputs": [],
   "source": [
    "arr1 = np.random.randint(10, size = (2,3))\n",
    "arr2 = np.random.randint(10, size = (2,3))"
   ]
  },
  {
   "cell_type": "code",
   "execution_count": 249,
   "metadata": {},
   "outputs": [
    {
     "data": {
      "text/plain": [
       "array([[5, 9, 9],\n",
       "       [2, 0, 9]])"
      ]
     },
     "execution_count": 249,
     "metadata": {},
     "output_type": "execute_result"
    }
   ],
   "source": [
    "arr1"
   ]
  },
  {
   "cell_type": "code",
   "execution_count": 250,
   "metadata": {},
   "outputs": [
    {
     "data": {
      "text/plain": [
       "array([[1, 9, 0],\n",
       "       [6, 0, 4]])"
      ]
     },
     "execution_count": 250,
     "metadata": {},
     "output_type": "execute_result"
    }
   ],
   "source": [
    "arr2"
   ]
  },
  {
   "cell_type": "code",
   "execution_count": 251,
   "metadata": {},
   "outputs": [
    {
     "data": {
      "text/plain": [
       "array([[ 5, 81,  0],\n",
       "       [12,  0, 36]])"
      ]
     },
     "execution_count": 251,
     "metadata": {},
     "output_type": "execute_result"
    }
   ],
   "source": [
    "arr1*arr2 # Elementwise multiplication"
   ]
  },
  {
   "cell_type": "code",
   "execution_count": 253,
   "metadata": {
    "scrolled": true
   },
   "outputs": [
    {
     "data": {
      "text/plain": [
       "array([[17, 45,  8],\n",
       "       [ 9, 81,  0],\n",
       "       [63, 81, 36]])"
      ]
     },
     "execution_count": 253,
     "metadata": {},
     "output_type": "execute_result"
    }
   ],
   "source": [
    "np.matmul(arr1.T, arr2)"
   ]
  },
  {
   "cell_type": "code",
   "execution_count": 254,
   "metadata": {
    "scrolled": true
   },
   "outputs": [
    {
     "data": {
      "text/plain": [
       "array([[86, 66],\n",
       "       [ 2, 48]])"
      ]
     },
     "execution_count": 254,
     "metadata": {},
     "output_type": "execute_result"
    }
   ],
   "source": [
    "np.matmul(arr1, arr2.T)"
   ]
  },
  {
   "cell_type": "code",
   "execution_count": 255,
   "metadata": {},
   "outputs": [
    {
     "data": {
      "text/plain": [
       "array([[17,  9, 63],\n",
       "       [45, 81, 81],\n",
       "       [ 8,  0, 36]])"
      ]
     },
     "execution_count": 255,
     "metadata": {},
     "output_type": "execute_result"
    }
   ],
   "source": [
    "np.matmul(arr2.T, arr1 )"
   ]
  },
  {
   "cell_type": "markdown",
   "metadata": {},
   "source": [
    "## Combine Matrices"
   ]
  },
  {
   "cell_type": "code",
   "execution_count": 256,
   "metadata": {},
   "outputs": [],
   "source": [
    "arr1 = np.random.randint(10, size = (2,3))\n",
    "arr2 = np.random.randint(10, size = (2,3))"
   ]
  },
  {
   "cell_type": "code",
   "execution_count": 257,
   "metadata": {},
   "outputs": [
    {
     "data": {
      "text/plain": [
       "array([[8, 4, 3],\n",
       "       [3, 8, 8]])"
      ]
     },
     "execution_count": 257,
     "metadata": {},
     "output_type": "execute_result"
    }
   ],
   "source": [
    "arr1"
   ]
  },
  {
   "cell_type": "code",
   "execution_count": 258,
   "metadata": {},
   "outputs": [
    {
     "data": {
      "text/plain": [
       "array([[7, 0, 3],\n",
       "       [8, 7, 7]])"
      ]
     },
     "execution_count": 258,
     "metadata": {},
     "output_type": "execute_result"
    }
   ],
   "source": [
    "arr2"
   ]
  },
  {
   "cell_type": "code",
   "execution_count": 260,
   "metadata": {},
   "outputs": [
    {
     "data": {
      "text/plain": [
       "array([[8, 4, 3, 7, 0, 3],\n",
       "       [3, 8, 8, 8, 7, 7]])"
      ]
     },
     "execution_count": 260,
     "metadata": {},
     "output_type": "execute_result"
    }
   ],
   "source": [
    "np.concatenate((arr1, arr2), axis=1) # Columnwise"
   ]
  },
  {
   "cell_type": "code",
   "execution_count": 261,
   "metadata": {},
   "outputs": [
    {
     "data": {
      "text/plain": [
       "array([[8, 4, 3],\n",
       "       [3, 8, 8],\n",
       "       [7, 0, 3],\n",
       "       [8, 7, 7]])"
      ]
     },
     "execution_count": 261,
     "metadata": {},
     "output_type": "execute_result"
    }
   ],
   "source": [
    "np.concatenate((arr1, arr2), axis=0)# Rowwise"
   ]
  },
  {
   "cell_type": "code",
   "execution_count": 262,
   "metadata": {},
   "outputs": [],
   "source": [
    "arr3 = np.array([1,2,3])\n",
    "arr4 = np.array([4, 5, 6])"
   ]
  },
  {
   "cell_type": "code",
   "execution_count": 263,
   "metadata": {},
   "outputs": [
    {
     "data": {
      "text/plain": [
       "array([1, 2, 3, 4, 5, 6])"
      ]
     },
     "execution_count": 263,
     "metadata": {},
     "output_type": "execute_result"
    }
   ],
   "source": [
    "np.concatenate((arr3, arr4)) # horizontally concatenated"
   ]
  },
  {
   "cell_type": "code",
   "execution_count": 264,
   "metadata": {},
   "outputs": [
    {
     "data": {
      "text/plain": [
       "array([1, 2, 3, 4, 5, 6])"
      ]
     },
     "execution_count": 264,
     "metadata": {},
     "output_type": "execute_result"
    }
   ],
   "source": [
    "np.hstack((arr3, arr4)) # horizontally concatenated"
   ]
  },
  {
   "cell_type": "code",
   "execution_count": 265,
   "metadata": {},
   "outputs": [
    {
     "data": {
      "text/plain": [
       "array([[1, 2, 3],\n",
       "       [4, 5, 6]])"
      ]
     },
     "execution_count": 265,
     "metadata": {},
     "output_type": "execute_result"
    }
   ],
   "source": [
    "np.vstack((arr3, arr4)) # vertically concatenated"
   ]
  },
  {
   "cell_type": "code",
   "execution_count": 266,
   "metadata": {},
   "outputs": [
    {
     "data": {
      "text/plain": [
       "array([[1, 4],\n",
       "       [2, 5],\n",
       "       [3, 6]])"
      ]
     },
     "execution_count": 266,
     "metadata": {},
     "output_type": "execute_result"
    }
   ],
   "source": [
    "np.column_stack((arr3, arr4)) # each array is turned into a column"
   ]
  }
 ],
 "metadata": {
  "kernelspec": {
   "display_name": "Python 3",
   "language": "python",
   "name": "python3"
  },
  "language_info": {
   "codemirror_mode": {
    "name": "ipython",
    "version": 3
   },
   "file_extension": ".py",
   "mimetype": "text/x-python",
   "name": "python",
   "nbconvert_exporter": "python",
   "pygments_lexer": "ipython3",
   "version": "3.8.5"
  }
 },
 "nbformat": 4,
 "nbformat_minor": 2
}
