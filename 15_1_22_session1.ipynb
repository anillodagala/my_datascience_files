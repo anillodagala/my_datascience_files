{
  "nbformat": 4,
  "nbformat_minor": 0,
  "metadata": {
    "colab": {
      "name": "15-1-22 session1.ipynb",
      "provenance": []
    },
    "kernelspec": {
      "name": "python3",
      "display_name": "Python 3"
    },
    "language_info": {
      "name": "python"
    }
  },
  "cells": [
    {
      "cell_type": "code",
      "execution_count": null,
      "metadata": {
        "id": "hMoRDuKtH3K7"
      },
      "outputs": [],
      "source": [
        "#variables\n",
        "#operators\n",
        "#datatypes"
      ]
    },
    {
      "cell_type": "code",
      "source": [
        "#variables - store values, in certain memory location"
      ],
      "metadata": {
        "id": "YGALbSjCJtp1"
      },
      "execution_count": null,
      "outputs": []
    },
    {
      "cell_type": "code",
      "source": [
        "a=10         #shift+enter"
      ],
      "metadata": {
        "id": "Y17JWUcsKPpB"
      },
      "execution_count": 1,
      "outputs": []
    },
    {
      "cell_type": "code",
      "source": [
        "a=a+1"
      ],
      "metadata": {
        "id": "m3NEVhS3KRQh"
      },
      "execution_count": 2,
      "outputs": []
    },
    {
      "cell_type": "code",
      "source": [
        "a"
      ],
      "metadata": {
        "colab": {
          "base_uri": "https://localhost:8080/"
        },
        "id": "b3y0Iqy2KUy1",
        "outputId": "74d2cb80-307d-40c7-8f04-b4e22207aab1"
      },
      "execution_count": 3,
      "outputs": [
        {
          "output_type": "execute_result",
          "data": {
            "text/plain": [
              "11"
            ]
          },
          "metadata": {},
          "execution_count": 3
        }
      ]
    },
    {
      "cell_type": "code",
      "source": [
        ""
      ],
      "metadata": {
        "id": "nWN3OnX2MEd6"
      },
      "execution_count": null,
      "outputs": []
    },
    {
      "cell_type": "code",
      "source": [
        "#naming constraints of variables-should start with an alphabet,\n",
        "                                 symbols used should be only underscore(_)\n",
        "                                 symbols can come anywhere in the name \n",
        "                                 numbers if used has to be used after alphabets or symbols"
      ],
      "metadata": {
        "id": "KS1u6vXmKVRf"
      },
      "execution_count": null,
      "outputs": []
    },
    {
      "cell_type": "code",
      "source": [
        "_1a=10          #static values"
      ],
      "metadata": {
        "id": "2DzTIe2rLL7Q"
      },
      "execution_count": 4,
      "outputs": []
    },
    {
      "cell_type": "code",
      "source": [
        "_1a"
      ],
      "metadata": {
        "colab": {
          "base_uri": "https://localhost:8080/"
        },
        "id": "EX4JXj4fLqVy",
        "outputId": "b2b57a0b-9fdd-4e3c-f770-dda5870c48b2"
      },
      "execution_count": 5,
      "outputs": [
        {
          "output_type": "execute_result",
          "data": {
            "text/plain": [
              "10"
            ]
          },
          "metadata": {},
          "execution_count": 5
        }
      ]
    },
    {
      "cell_type": "code",
      "source": [
        "#how to take a user defined input\n"
      ],
      "metadata": {
        "id": "QO3toRKgLrkW"
      },
      "execution_count": null,
      "outputs": []
    },
    {
      "cell_type": "code",
      "source": [
        "_1a=input(\"enter your age\")          #dynamic way of taking value user defined value"
      ],
      "metadata": {
        "colab": {
          "base_uri": "https://localhost:8080/"
        },
        "id": "SvA00VIzMFF4",
        "outputId": "894ffd68-fbca-41c1-f5ea-277000f797d3"
      },
      "execution_count": 13,
      "outputs": [
        {
          "name": "stdout",
          "output_type": "stream",
          "text": [
            "enter your age28\n"
          ]
        }
      ]
    },
    {
      "cell_type": "code",
      "source": [
        "\n",
        "_1a"
      ],
      "metadata": {
        "colab": {
          "base_uri": "https://localhost:8080/"
        },
        "id": "VScUxBUuMQej",
        "outputId": "9e071c44-0428-44fc-8056-12c85faa2b0c"
      },
      "execution_count": 16,
      "outputs": [
        {
          "output_type": "execute_result",
          "data": {
            "text/plain": [
              "28"
            ]
          },
          "metadata": {},
          "execution_count": 16
        }
      ]
    },
    {
      "cell_type": "code",
      "source": [
        "#any number of character or word coming in single or double quotes is your string"
      ],
      "metadata": {
        "id": "A4HOLr9eMTB0"
      },
      "execution_count": null,
      "outputs": []
    },
    {
      "cell_type": "code",
      "source": [
        "#type casting -conversion string to the asked datatype"
      ],
      "metadata": {
        "id": "J4c02r_zNkYz"
      },
      "execution_count": null,
      "outputs": []
    },
    {
      "cell_type": "code",
      "source": [
        "_1a=int(input(\"enter your age\"))"
      ],
      "metadata": {
        "colab": {
          "base_uri": "https://localhost:8080/"
        },
        "id": "t0LtVtAuNwl_",
        "outputId": "df285889-8227-4bbb-bcaf-b284b6a78806"
      },
      "execution_count": 23,
      "outputs": [
        {
          "name": "stdout",
          "output_type": "stream",
          "text": [
            "enter your age5\n"
          ]
        }
      ]
    },
    {
      "cell_type": "code",
      "source": [
        "_1a"
      ],
      "metadata": {
        "colab": {
          "base_uri": "https://localhost:8080/"
        },
        "id": "V6o-uMqYN4_C",
        "outputId": "22417786-7fb6-40e4-cecc-f3287574453e"
      },
      "execution_count": 24,
      "outputs": [
        {
          "output_type": "execute_result",
          "data": {
            "text/plain": [
              "5"
            ]
          },
          "metadata": {},
          "execution_count": 24
        }
      ]
    },
    {
      "cell_type": "code",
      "source": [
        "#BODMAS \n",
        "# float,int,string,boolean"
      ],
      "metadata": {
        "id": "Vw_KGwwGOCtz"
      },
      "execution_count": null,
      "outputs": []
    },
    {
      "cell_type": "code",
      "source": [
        "#operators- Symbols bound to perform some operations\n",
        "#operands -numbers on which operation is performed"
      ],
      "metadata": {
        "id": "6MgG_LaIOvAB"
      },
      "execution_count": null,
      "outputs": []
    },
    {
      "cell_type": "code",
      "source": [
        "#arithmetic operators(+,-,/,**(raised to the power),%(returns remainder))"
      ],
      "metadata": {
        "id": "NRk33ON2RRpZ"
      },
      "execution_count": null,
      "outputs": []
    },
    {
      "cell_type": "code",
      "source": [
        "a=3\n",
        "b=3"
      ],
      "metadata": {
        "id": "hqwT1DqdReZ3"
      },
      "execution_count": 25,
      "outputs": []
    },
    {
      "cell_type": "code",
      "source": [
        "a+b"
      ],
      "metadata": {
        "colab": {
          "base_uri": "https://localhost:8080/"
        },
        "id": "d8K1jOmXRjrw",
        "outputId": "0b5d23da-f194-4555-bd96-ae8c26db421c"
      },
      "execution_count": 26,
      "outputs": [
        {
          "output_type": "execute_result",
          "data": {
            "text/plain": [
              "6"
            ]
          },
          "metadata": {},
          "execution_count": 26
        }
      ]
    },
    {
      "cell_type": "code",
      "source": [
        "a**b"
      ],
      "metadata": {
        "colab": {
          "base_uri": "https://localhost:8080/"
        },
        "id": "Dfm_SxB8Rkpb",
        "outputId": "cbf7e801-ebf8-48a1-d75a-7d255b0b2668"
      },
      "execution_count": 27,
      "outputs": [
        {
          "output_type": "execute_result",
          "data": {
            "text/plain": [
              "27"
            ]
          },
          "metadata": {},
          "execution_count": 27
        }
      ]
    },
    {
      "cell_type": "code",
      "source": [
        "a%b"
      ],
      "metadata": {
        "colab": {
          "base_uri": "https://localhost:8080/"
        },
        "id": "jONbf9FzRmup",
        "outputId": "9b799eaa-d9eb-4f14-e57c-90c0129cc882"
      },
      "execution_count": 28,
      "outputs": [
        {
          "output_type": "execute_result",
          "data": {
            "text/plain": [
              "0"
            ]
          },
          "metadata": {},
          "execution_count": 28
        }
      ]
    },
    {
      "cell_type": "code",
      "source": [
        "4/2"
      ],
      "metadata": {
        "colab": {
          "base_uri": "https://localhost:8080/"
        },
        "id": "Qblggj2PRpGU",
        "outputId": "5d6d64e8-6831-4fef-d9b6-f027adde31b1"
      },
      "execution_count": 29,
      "outputs": [
        {
          "output_type": "execute_result",
          "data": {
            "text/plain": [
              "2.0"
            ]
          },
          "metadata": {},
          "execution_count": 29
        }
      ]
    },
    {
      "cell_type": "code",
      "source": [
        "#comparision operators(<,>,<=,>=,==)-boolean (True,False)"
      ],
      "metadata": {
        "id": "j4dv2xK2R5kY"
      },
      "execution_count": null,
      "outputs": []
    },
    {
      "cell_type": "code",
      "source": [
        "=,=="
      ],
      "metadata": {
        "id": "A4IQ480ASHu_"
      },
      "execution_count": null,
      "outputs": []
    },
    {
      "cell_type": "code",
      "source": [
        "a=10"
      ],
      "metadata": {
        "id": "Aa1FD8ExSOOn"
      },
      "execution_count": 30,
      "outputs": []
    },
    {
      "cell_type": "code",
      "source": [
        "a==10"
      ],
      "metadata": {
        "colab": {
          "base_uri": "https://localhost:8080/"
        },
        "id": "oGAFZ4zfSQNX",
        "outputId": "3d8cbe1f-6a5e-42c1-8c21-77bbcd9b6e3a"
      },
      "execution_count": 31,
      "outputs": [
        {
          "output_type": "execute_result",
          "data": {
            "text/plain": [
              "True"
            ]
          },
          "metadata": {},
          "execution_count": 31
        }
      ]
    },
    {
      "cell_type": "code",
      "source": [
        "a<9"
      ],
      "metadata": {
        "colab": {
          "base_uri": "https://localhost:8080/"
        },
        "id": "8K-vTccKSUrc",
        "outputId": "30f49d31-4774-4809-853e-534004fe22fc"
      },
      "execution_count": 32,
      "outputs": [
        {
          "output_type": "execute_result",
          "data": {
            "text/plain": [
              "False"
            ]
          },
          "metadata": {},
          "execution_count": 32
        }
      ]
    },
    {
      "cell_type": "code",
      "source": [
        "#membership operators(in , not in)"
      ],
      "metadata": {
        "id": "Ke-EZq3pScbC"
      },
      "execution_count": null,
      "outputs": []
    },
    {
      "cell_type": "code",
      "source": [
        "a=[1,2,3,\"g\",\"h\",\"i\",4.5]"
      ],
      "metadata": {
        "id": "p-RufN4MSrMr"
      },
      "execution_count": 33,
      "outputs": []
    },
    {
      "cell_type": "code",
      "source": [
        "4 in a"
      ],
      "metadata": {
        "colab": {
          "base_uri": "https://localhost:8080/"
        },
        "id": "TNCuKMCRSzT9",
        "outputId": "c1095a62-9dc3-479c-cf9c-fbfe5c75cb47"
      },
      "execution_count": 34,
      "outputs": [
        {
          "output_type": "execute_result",
          "data": {
            "text/plain": [
              "False"
            ]
          },
          "metadata": {},
          "execution_count": 34
        }
      ]
    },
    {
      "cell_type": "code",
      "source": [
        "4.5 not in a"
      ],
      "metadata": {
        "colab": {
          "base_uri": "https://localhost:8080/"
        },
        "id": "RJvwM2F1S1WZ",
        "outputId": "7a4748cc-7dda-4e84-c56d-a1f941aa5971"
      },
      "execution_count": 36,
      "outputs": [
        {
          "output_type": "execute_result",
          "data": {
            "text/plain": [
              "False"
            ]
          },
          "metadata": {},
          "execution_count": 36
        }
      ]
    },
    {
      "cell_type": "code",
      "source": [
        "a=10"
      ],
      "metadata": {
        "id": "KhrySLjqTTAg"
      },
      "execution_count": 37,
      "outputs": []
    },
    {
      "cell_type": "code",
      "source": [
        "#logical operator(and (multipplication), or(addition) ,not(negation))"
      ],
      "metadata": {
        "id": "zz6TSddcS3_P"
      },
      "execution_count": null,
      "outputs": []
    },
    {
      "cell_type": "code",
      "source": [
        "# on binary numbers only"
      ],
      "metadata": {
        "id": "uUxLSEpxT5U7"
      },
      "execution_count": null,
      "outputs": []
    },
    {
      "cell_type": "code",
      "source": [
        "#Truth Table(and)\n",
        "A  B  O/P\n",
        "0  0   0\n",
        "0  1   0\n",
        "1  0   0\n",
        "1  1   1"
      ],
      "metadata": {
        "id": "dnoS3RBrT-6Z"
      },
      "execution_count": null,
      "outputs": []
    },
    {
      "cell_type": "code",
      "source": [
        "#Truth Table(or)\n",
        "A  B  O/P\n",
        "0  0   0\n",
        "0  1   1\n",
        "1  0   1\n",
        "1  1   1"
      ],
      "metadata": {
        "id": "Xvce5hZUURgo"
      },
      "execution_count": null,
      "outputs": []
    },
    {
      "cell_type": "code",
      "source": [
        "#Truth of not\n",
        "A  O/P\n",
        "1   0\n",
        "0   1"
      ],
      "metadata": {
        "id": "eZrSafTdUdUa"
      },
      "execution_count": null,
      "outputs": []
    },
    {
      "cell_type": "code",
      "source": [
        "# 1-True     0- False"
      ],
      "metadata": {
        "id": "AFut4CuIUtDp"
      },
      "execution_count": null,
      "outputs": []
    },
    {
      "cell_type": "code",
      "source": [
        "e=3>4"
      ],
      "metadata": {
        "id": "YBZ_YTMmU2gv"
      },
      "execution_count": 38,
      "outputs": []
    },
    {
      "cell_type": "code",
      "source": [
        "e"
      ],
      "metadata": {
        "colab": {
          "base_uri": "https://localhost:8080/"
        },
        "id": "oZpCsXNlU5qS",
        "outputId": "515f7e84-05b6-4009-8ceb-6c5fda1d429b"
      },
      "execution_count": 39,
      "outputs": [
        {
          "output_type": "execute_result",
          "data": {
            "text/plain": [
              "False"
            ]
          },
          "metadata": {},
          "execution_count": 39
        }
      ]
    },
    {
      "cell_type": "code",
      "source": [
        "v=7==7"
      ],
      "metadata": {
        "id": "lStQ_-yqU6gU"
      },
      "execution_count": 40,
      "outputs": []
    },
    {
      "cell_type": "code",
      "source": [
        "v"
      ],
      "metadata": {
        "colab": {
          "base_uri": "https://localhost:8080/"
        },
        "id": "KfiqsgZjU8Y5",
        "outputId": "37aa28cf-8bcb-41eb-96be-40ea3714c6e5"
      },
      "execution_count": 41,
      "outputs": [
        {
          "output_type": "execute_result",
          "data": {
            "text/plain": [
              "True"
            ]
          },
          "metadata": {},
          "execution_count": 41
        }
      ]
    },
    {
      "cell_type": "code",
      "source": [
        "v and e"
      ],
      "metadata": {
        "colab": {
          "base_uri": "https://localhost:8080/"
        },
        "id": "s3Hdj-_4U84Y",
        "outputId": "e41a2865-de23-4e4e-a0d6-6915489a7cb0"
      },
      "execution_count": 42,
      "outputs": [
        {
          "output_type": "execute_result",
          "data": {
            "text/plain": [
              "False"
            ]
          },
          "metadata": {},
          "execution_count": 42
        }
      ]
    },
    {
      "cell_type": "code",
      "source": [
        "v or e"
      ],
      "metadata": {
        "colab": {
          "base_uri": "https://localhost:8080/"
        },
        "id": "7Xe5qbusU-XQ",
        "outputId": "4eef111e-ddbf-4abc-89ea-7c6a44ea189d"
      },
      "execution_count": 43,
      "outputs": [
        {
          "output_type": "execute_result",
          "data": {
            "text/plain": [
              "True"
            ]
          },
          "metadata": {},
          "execution_count": 43
        }
      ]
    },
    {
      "cell_type": "code",
      "source": [
        "not e"
      ],
      "metadata": {
        "colab": {
          "base_uri": "https://localhost:8080/"
        },
        "id": "uWTjeg79VBiM",
        "outputId": "26877837-0a23-4f89-98b5-9fb308cfce6f"
      },
      "execution_count": 45,
      "outputs": [
        {
          "output_type": "execute_result",
          "data": {
            "text/plain": [
              "True"
            ]
          },
          "metadata": {},
          "execution_count": 45
        }
      ]
    },
    {
      "cell_type": "code",
      "source": [
        ""
      ],
      "metadata": {
        "id": "KIHLaHr4VEtR"
      },
      "execution_count": null,
      "outputs": []
    }
  ]
}