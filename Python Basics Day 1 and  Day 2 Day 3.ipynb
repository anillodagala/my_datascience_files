{
 "cells": [
  {
   "cell_type": "code",
   "execution_count": null,
   "id": "a9fbe06f",
   "metadata": {},
   "outputs": [],
   "source": [
    "# Data Types : basic classification of information.\n",
    "# Data strucuture: collection of datatypes.\n",
    "\n",
    "# Mutuable Datatypes: In which information stored can be easily changed or altered , once they are declared.(List,Dictionary,sets)\n",
    "\n",
    "\n",
    "# Immutable Datatypes: In which information stored cannot be changed or altered, once they are declared.(int, float,boolean,strings,tuple)"
   ]
  },
  {
   "cell_type": "code",
   "execution_count": 5,
   "id": "60ffbf5d",
   "metadata": {},
   "outputs": [],
   "source": [
    "# variable\n",
    "\n",
    "q=78"
   ]
  },
  {
   "cell_type": "code",
   "execution_count": 6,
   "id": "09f26c02",
   "metadata": {},
   "outputs": [
    {
     "data": {
      "text/plain": [
       "int"
      ]
     },
     "execution_count": 6,
     "metadata": {},
     "output_type": "execute_result"
    }
   ],
   "source": [
    "type(q)"
   ]
  },
  {
   "cell_type": "code",
   "execution_count": 8,
   "id": "4df4b7d3",
   "metadata": {},
   "outputs": [
    {
     "data": {
      "text/plain": [
       "True"
      ]
     },
     "execution_count": 8,
     "metadata": {},
     "output_type": "execute_result"
    }
   ],
   "source": [
    "# Boolean--> True, False\n",
    "\n",
    "10>8"
   ]
  },
  {
   "cell_type": "code",
   "execution_count": 40,
   "id": "060fd543",
   "metadata": {},
   "outputs": [],
   "source": [
    "# Immutable Data type:\n",
    "\n",
    "# String: collection of characters or sequence character.\n",
    "\n",
    "# Syntax: 'text'  or \"text\"\n",
    "x='PYTHON'"
   ]
  },
  {
   "cell_type": "code",
   "execution_count": 27,
   "id": "492e7304",
   "metadata": {},
   "outputs": [
    {
     "data": {
      "text/plain": [
       "'PYTHON'"
      ]
     },
     "execution_count": 27,
     "metadata": {},
     "output_type": "execute_result"
    }
   ],
   "source": [
    "x"
   ]
  },
  {
   "cell_type": "code",
   "execution_count": 28,
   "id": "68b6a714",
   "metadata": {},
   "outputs": [
    {
     "data": {
      "text/plain": [
       "str"
      ]
     },
     "execution_count": 28,
     "metadata": {},
     "output_type": "execute_result"
    }
   ],
   "source": [
    "type(x)"
   ]
  },
  {
   "cell_type": "code",
   "execution_count": null,
   "id": "612c132d",
   "metadata": {},
   "outputs": [],
   "source": [
    "# python: everything in python start from 0.\n",
    "\n",
    "# R ---> everything in R start from 1."
   ]
  },
  {
   "cell_type": "code",
   "execution_count": null,
   "id": "0bc89675",
   "metadata": {},
   "outputs": [],
   "source": [
    "# Access or extract out the information from the collection.\n",
    "\n",
    "# Indexing: helps to extract out any of the particular or individual element.\n",
    "\n",
    "\n",
    "#Slicing: helps to extract out the sequence or multiple element from collection.\n",
    "\n",
    "# Index:\n",
    "\n",
    "\n",
    "# P Y T H O N \n",
    "\n",
    "# 0 1 2 3 4 5    ----> regular indexes(left to right in an incremental way.)\n",
    "\n",
    "\n",
    "#-6-5-4-3-2-1    ----> reverse or negative indexes(right to left in a decremental way.)"
   ]
  },
  {
   "cell_type": "code",
   "execution_count": 29,
   "id": "c6fc9c0a",
   "metadata": {},
   "outputs": [
    {
     "data": {
      "text/plain": [
       "'H'"
      ]
     },
     "execution_count": 29,
     "metadata": {},
     "output_type": "execute_result"
    }
   ],
   "source": [
    "# Implementation of indexing\n",
    "\n",
    "# syntax: var_n[index number of the element to be accessed out]\n",
    "\n",
    "x[3]"
   ]
  },
  {
   "cell_type": "code",
   "execution_count": 30,
   "id": "1a3d3235",
   "metadata": {},
   "outputs": [
    {
     "data": {
      "text/plain": [
       "'P'"
      ]
     },
     "execution_count": 30,
     "metadata": {},
     "output_type": "execute_result"
    }
   ],
   "source": [
    "x[0]"
   ]
  },
  {
   "cell_type": "code",
   "execution_count": 31,
   "id": "87602b51",
   "metadata": {},
   "outputs": [
    {
     "data": {
      "text/plain": [
       "'T'"
      ]
     },
     "execution_count": 31,
     "metadata": {},
     "output_type": "execute_result"
    }
   ],
   "source": [
    "x[2]  # regular indexes"
   ]
  },
  {
   "cell_type": "code",
   "execution_count": 32,
   "id": "b6f9142f",
   "metadata": {},
   "outputs": [
    {
     "data": {
      "text/plain": [
       "'T'"
      ]
     },
     "execution_count": 32,
     "metadata": {},
     "output_type": "execute_result"
    }
   ],
   "source": [
    "x[-4]  # reverse indexe."
   ]
  },
  {
   "cell_type": "code",
   "execution_count": 37,
   "id": "f315dceb",
   "metadata": {},
   "outputs": [
    {
     "data": {
      "text/plain": [
       "'O'"
      ]
     },
     "execution_count": 37,
     "metadata": {},
     "output_type": "execute_result"
    }
   ],
   "source": [
    "x[-2]"
   ]
  },
  {
   "cell_type": "code",
   "execution_count": 56,
   "id": "db99d15b",
   "metadata": {},
   "outputs": [
    {
     "data": {
      "text/plain": [
       "'Y'"
      ]
     },
     "execution_count": 56,
     "metadata": {},
     "output_type": "execute_result"
    }
   ],
   "source": [
    "# slicing: \n",
    "\n",
    "# Syntax: var_n[start index : end index +1]\n",
    "\n",
    "x[1:2]   # [1]"
   ]
  },
  {
   "cell_type": "code",
   "execution_count": 58,
   "id": "55c916e6",
   "metadata": {},
   "outputs": [
    {
     "data": {
      "text/plain": [
       "'THON'"
      ]
     },
     "execution_count": 58,
     "metadata": {},
     "output_type": "execute_result"
    }
   ],
   "source": [
    "# ython\n",
    "x[2:6]"
   ]
  },
  {
   "cell_type": "code",
   "execution_count": 59,
   "id": "0cd48b52",
   "metadata": {},
   "outputs": [
    {
     "data": {
      "text/plain": [
       "'PYTH'"
      ]
     },
     "execution_count": 59,
     "metadata": {},
     "output_type": "execute_result"
    }
   ],
   "source": [
    "#  user forgets to provide the starting parameter.--> it will by default satrts from begining(0 th index)\n",
    "\n",
    "x[:4]  # [0,1,2,3]"
   ]
  },
  {
   "cell_type": "code",
   "execution_count": 60,
   "id": "d30f1942",
   "metadata": {},
   "outputs": [
    {
     "data": {
      "text/plain": [
       "'HON'"
      ]
     },
     "execution_count": 60,
     "metadata": {},
     "output_type": "execute_result"
    }
   ],
   "source": [
    "# user forgets to pass the end value---> it will include till the last index.\n",
    "\n",
    "x[3:] # [3,4,5(end of the index)]"
   ]
  },
  {
   "cell_type": "code",
   "execution_count": 69,
   "id": "25bb3232",
   "metadata": {},
   "outputs": [
    {
     "data": {
      "text/plain": [
       "''"
      ]
     },
     "execution_count": 69,
     "metadata": {},
     "output_type": "execute_result"
    }
   ],
   "source": [
    "# reverse index\n",
    "\n",
    "x[3:-6]  #[-3,-2]"
   ]
  },
  {
   "cell_type": "code",
   "execution_count": 71,
   "id": "a4e4c367",
   "metadata": {},
   "outputs": [
    {
     "data": {
      "text/plain": [
       "'PYTHON'"
      ]
     },
     "execution_count": 71,
     "metadata": {},
     "output_type": "execute_result"
    }
   ],
   "source": [
    "# Mutuability \n",
    "\n",
    "x"
   ]
  },
  {
   "cell_type": "code",
   "execution_count": 73,
   "id": "4666f022",
   "metadata": {},
   "outputs": [
    {
     "ename": "TypeError",
     "evalue": "'str' object does not support item assignment",
     "output_type": "error",
     "traceback": [
      "\u001b[1;31m---------------------------------------------------------------------------\u001b[0m",
      "\u001b[1;31mTypeError\u001b[0m                                 Traceback (most recent call last)",
      "\u001b[1;32m<ipython-input-73-4d6c4faf25a5>\u001b[0m in \u001b[0;36m<module>\u001b[1;34m\u001b[0m\n\u001b[1;32m----> 1\u001b[1;33m \u001b[0mx\u001b[0m\u001b[1;33m[\u001b[0m\u001b[1;36m1\u001b[0m\u001b[1;33m]\u001b[0m\u001b[1;33m=\u001b[0m\u001b[1;34m'C'\u001b[0m\u001b[1;33m\u001b[0m\u001b[1;33m\u001b[0m\u001b[0m\n\u001b[0m",
      "\u001b[1;31mTypeError\u001b[0m: 'str' object does not support item assignment"
     ]
    }
   ],
   "source": [
    "x[1]='C'"
   ]
  },
  {
   "cell_type": "code",
   "execution_count": 74,
   "id": "6a870e92",
   "metadata": {},
   "outputs": [
    {
     "data": {
      "text/plain": [
       "'PYTHON'"
      ]
     },
     "execution_count": 74,
     "metadata": {},
     "output_type": "execute_result"
    }
   ],
   "source": [
    "x"
   ]
  },
  {
   "cell_type": "code",
   "execution_count": 78,
   "id": "65703ae7",
   "metadata": {},
   "outputs": [],
   "source": [
    "x='Hello'"
   ]
  },
  {
   "cell_type": "code",
   "execution_count": 79,
   "id": "2ce0f038",
   "metadata": {},
   "outputs": [
    {
     "data": {
      "text/plain": [
       "'Hello'"
      ]
     },
     "execution_count": 79,
     "metadata": {},
     "output_type": "execute_result"
    }
   ],
   "source": [
    "x"
   ]
  },
  {
   "cell_type": "code",
   "execution_count": 80,
   "id": "7a28b238",
   "metadata": {},
   "outputs": [],
   "source": [
    "x=90"
   ]
  },
  {
   "cell_type": "code",
   "execution_count": 81,
   "id": "fecc25b6",
   "metadata": {},
   "outputs": [
    {
     "data": {
      "text/plain": [
       "90"
      ]
     },
     "execution_count": 81,
     "metadata": {},
     "output_type": "execute_result"
    }
   ],
   "source": [
    "x"
   ]
  },
  {
   "cell_type": "code",
   "execution_count": 82,
   "id": "097013b2",
   "metadata": {},
   "outputs": [],
   "source": [
    "x='RED'"
   ]
  },
  {
   "cell_type": "code",
   "execution_count": 83,
   "id": "b68d749c",
   "metadata": {},
   "outputs": [
    {
     "data": {
      "text/plain": [
       "'RED'"
      ]
     },
     "execution_count": 83,
     "metadata": {},
     "output_type": "execute_result"
    }
   ],
   "source": [
    "x"
   ]
  },
  {
   "cell_type": "code",
   "execution_count": 85,
   "id": "fc64c6d4",
   "metadata": {},
   "outputs": [
    {
     "ename": "TypeError",
     "evalue": "'str' object does not support item assignment",
     "output_type": "error",
     "traceback": [
      "\u001b[1;31m---------------------------------------------------------------------------\u001b[0m",
      "\u001b[1;31mTypeError\u001b[0m                                 Traceback (most recent call last)",
      "\u001b[1;32m<ipython-input-85-a42bcb6fb985>\u001b[0m in \u001b[0;36m<module>\u001b[1;34m\u001b[0m\n\u001b[1;32m----> 1\u001b[1;33m \u001b[0mx\u001b[0m\u001b[1;33m[\u001b[0m\u001b[1;36m0\u001b[0m\u001b[1;33m]\u001b[0m\u001b[1;33m=\u001b[0m\u001b[1;34m'T'\u001b[0m\u001b[1;33m\u001b[0m\u001b[1;33m\u001b[0m\u001b[0m\n\u001b[0m",
      "\u001b[1;31mTypeError\u001b[0m: 'str' object does not support item assignment"
     ]
    }
   ],
   "source": [
    "x[0]='T'"
   ]
  },
  {
   "cell_type": "code",
   "execution_count": 87,
   "id": "767a4af6",
   "metadata": {},
   "outputs": [],
   "source": [
    "# Tuple : set of heterogeneous(different ) datatypes, stored as a single collection.\n",
    "\n",
    "# syntax: var_n=(a1,a2,a3,a4----an)\n",
    "\n",
    "tug=(10,45.6,78,'Rose',True,234,'Thunder',56)"
   ]
  },
  {
   "cell_type": "code",
   "execution_count": 88,
   "id": "c6efd734",
   "metadata": {},
   "outputs": [
    {
     "data": {
      "text/plain": [
       "(10, 45.6, 78, 'Rose', True, 234, 'Thunder', 56)"
      ]
     },
     "execution_count": 88,
     "metadata": {},
     "output_type": "execute_result"
    }
   ],
   "source": [
    "tug"
   ]
  },
  {
   "cell_type": "code",
   "execution_count": 89,
   "id": "e42a4268",
   "metadata": {},
   "outputs": [
    {
     "data": {
      "text/plain": [
       "tuple"
      ]
     },
     "execution_count": 89,
     "metadata": {},
     "output_type": "execute_result"
    }
   ],
   "source": [
    "type(tug)"
   ]
  },
  {
   "cell_type": "code",
   "execution_count": 90,
   "id": "a5c0b99c",
   "metadata": {},
   "outputs": [
    {
     "data": {
      "text/plain": [
       "234"
      ]
     },
     "execution_count": 90,
     "metadata": {},
     "output_type": "execute_result"
    }
   ],
   "source": [
    "# Indexing and slicing.\n",
    "\n",
    "tug[5]\n"
   ]
  },
  {
   "cell_type": "code",
   "execution_count": 91,
   "id": "4cb15425",
   "metadata": {},
   "outputs": [
    {
     "data": {
      "text/plain": [
       "'Rose'"
      ]
     },
     "execution_count": 91,
     "metadata": {},
     "output_type": "execute_result"
    }
   ],
   "source": [
    "tug[3]"
   ]
  },
  {
   "cell_type": "code",
   "execution_count": 93,
   "id": "024d4654",
   "metadata": {},
   "outputs": [
    {
     "data": {
      "text/plain": [
       "(45.6, 78, 'Rose')"
      ]
     },
     "execution_count": 93,
     "metadata": {},
     "output_type": "execute_result"
    }
   ],
   "source": [
    "# slicing\n",
    "\n",
    "tug[1:4]"
   ]
  },
  {
   "cell_type": "code",
   "execution_count": 94,
   "id": "d25c6045",
   "metadata": {},
   "outputs": [
    {
     "data": {
      "text/plain": [
       "(10, 45.6, 78, 'Rose', True, 234, 'Thunder', 56)"
      ]
     },
     "execution_count": 94,
     "metadata": {},
     "output_type": "execute_result"
    }
   ],
   "source": [
    "tug"
   ]
  },
  {
   "cell_type": "code",
   "execution_count": 107,
   "id": "7237d80c",
   "metadata": {},
   "outputs": [],
   "source": [
    "# Problem Statement: s from tuple\n",
    "\n",
    "# Double indexing(string):\n",
    "\n",
    "tug[3][2]"
   ]
  },
  {
   "cell_type": "code",
   "execution_count": 110,
   "id": "696d4a0c",
   "metadata": {},
   "outputs": [
    {
     "data": {
      "text/plain": [
       "('Rose', True, 234, 'Thunder', 56)"
      ]
     },
     "execution_count": 110,
     "metadata": {},
     "output_type": "execute_result"
    }
   ],
   "source": [
    "tug[3:8]  #[3,4,5,6,7]"
   ]
  },
  {
   "cell_type": "code",
   "execution_count": 112,
   "id": "154963e7",
   "metadata": {},
   "outputs": [
    {
     "data": {
      "text/plain": [
       "(10, 45.6, 78, 'Rose', True, 234, 'Thunder', 56)"
      ]
     },
     "execution_count": 112,
     "metadata": {},
     "output_type": "execute_result"
    }
   ],
   "source": [
    "# mutuability\n",
    "\n",
    "tug"
   ]
  },
  {
   "cell_type": "code",
   "execution_count": 114,
   "id": "5e14e009",
   "metadata": {},
   "outputs": [
    {
     "ename": "TypeError",
     "evalue": "'tuple' object does not support item assignment",
     "output_type": "error",
     "traceback": [
      "\u001b[1;31m---------------------------------------------------------------------------\u001b[0m",
      "\u001b[1;31mTypeError\u001b[0m                                 Traceback (most recent call last)",
      "\u001b[1;32m<ipython-input-114-ed7446268f98>\u001b[0m in \u001b[0;36m<module>\u001b[1;34m\u001b[0m\n\u001b[1;32m----> 1\u001b[1;33m \u001b[0mtug\u001b[0m\u001b[1;33m[\u001b[0m\u001b[1;36m2\u001b[0m\u001b[1;33m]\u001b[0m\u001b[1;33m=\u001b[0m\u001b[1;36m900\u001b[0m\u001b[1;33m\u001b[0m\u001b[1;33m\u001b[0m\u001b[0m\n\u001b[0m",
      "\u001b[1;31mTypeError\u001b[0m: 'tuple' object does not support item assignment"
     ]
    }
   ],
   "source": [
    "tug[2]=900"
   ]
  },
  {
   "cell_type": "code",
   "execution_count": 115,
   "id": "1b4149e2",
   "metadata": {},
   "outputs": [
    {
     "data": {
      "text/plain": [
       "(10, 45.6, 78, 'Rose', True, 234, 'Thunder', 56)"
      ]
     },
     "execution_count": 115,
     "metadata": {},
     "output_type": "execute_result"
    }
   ],
   "source": [
    "tug"
   ]
  },
  {
   "cell_type": "code",
   "execution_count": 116,
   "id": "abfb47bc",
   "metadata": {},
   "outputs": [],
   "source": [
    "# Mutuable Datatypes:\n",
    "\n",
    "# List : set of heterogeneous(different ) datatypes, stored as a single collection.\n",
    "\n",
    "# syntax: var_n=[a1,a2,a3-----an]\n",
    "\n",
    "sky=[10,45.6,78,'Rose',True,234,'Thunder',56]"
   ]
  },
  {
   "cell_type": "code",
   "execution_count": 117,
   "id": "3134f5c5",
   "metadata": {},
   "outputs": [
    {
     "data": {
      "text/plain": [
       "[10, 45.6, 78, 'Rose', True, 234, 'Thunder', 56]"
      ]
     },
     "execution_count": 117,
     "metadata": {},
     "output_type": "execute_result"
    }
   ],
   "source": [
    "sky"
   ]
  },
  {
   "cell_type": "code",
   "execution_count": 118,
   "id": "471be7ae",
   "metadata": {},
   "outputs": [
    {
     "data": {
      "text/plain": [
       "list"
      ]
     },
     "execution_count": 118,
     "metadata": {},
     "output_type": "execute_result"
    }
   ],
   "source": [
    "type(sky)"
   ]
  },
  {
   "cell_type": "code",
   "execution_count": 119,
   "id": "e6c2195d",
   "metadata": {},
   "outputs": [
    {
     "data": {
      "text/plain": [
       "78"
      ]
     },
     "execution_count": 119,
     "metadata": {},
     "output_type": "execute_result"
    }
   ],
   "source": [
    "# indexing and slicing\n",
    "\n",
    "sky[2]"
   ]
  },
  {
   "cell_type": "code",
   "execution_count": 120,
   "id": "4d3fcf82",
   "metadata": {},
   "outputs": [
    {
     "data": {
      "text/plain": [
       "234"
      ]
     },
     "execution_count": 120,
     "metadata": {},
     "output_type": "execute_result"
    }
   ],
   "source": [
    "sky[5]"
   ]
  },
  {
   "cell_type": "code",
   "execution_count": 121,
   "id": "48f3639f",
   "metadata": {},
   "outputs": [
    {
     "data": {
      "text/plain": [
       "'Thunder'"
      ]
     },
     "execution_count": 121,
     "metadata": {},
     "output_type": "execute_result"
    }
   ],
   "source": [
    "sky[6]"
   ]
  },
  {
   "cell_type": "code",
   "execution_count": 122,
   "id": "8496eeb5",
   "metadata": {},
   "outputs": [
    {
     "data": {
      "text/plain": [
       "['Rose', True, 234]"
      ]
     },
     "execution_count": 122,
     "metadata": {},
     "output_type": "execute_result"
    }
   ],
   "source": [
    "# slicing\n",
    "\n",
    "sky[3:6]"
   ]
  },
  {
   "cell_type": "code",
   "execution_count": 124,
   "id": "b9198fe4",
   "metadata": {},
   "outputs": [
    {
     "data": {
      "text/plain": [
       "'d'"
      ]
     },
     "execution_count": 124,
     "metadata": {},
     "output_type": "execute_result"
    }
   ],
   "source": [
    "# Double indexing\n",
    "\n",
    "sky[6][4]"
   ]
  },
  {
   "cell_type": "code",
   "execution_count": 125,
   "id": "b2ba771a",
   "metadata": {},
   "outputs": [
    {
     "data": {
      "text/plain": [
       "[10, 45.6, 78, 'Rose', True, 234, 'Thunder', 56]"
      ]
     },
     "execution_count": 125,
     "metadata": {},
     "output_type": "execute_result"
    }
   ],
   "source": [
    "# Check Mutuability\n",
    "sky"
   ]
  },
  {
   "cell_type": "code",
   "execution_count": 127,
   "id": "fd50bdee",
   "metadata": {},
   "outputs": [],
   "source": [
    "sky[2]=900"
   ]
  },
  {
   "cell_type": "code",
   "execution_count": 133,
   "id": "21b8b261",
   "metadata": {},
   "outputs": [],
   "source": [
    "sky[3]=45"
   ]
  },
  {
   "cell_type": "code",
   "execution_count": 134,
   "id": "457e4f42",
   "metadata": {},
   "outputs": [
    {
     "data": {
      "text/plain": [
       "[10, 45.6, 900, 45, True, 234, 'Thunder', 56]"
      ]
     },
     "execution_count": 134,
     "metadata": {},
     "output_type": "execute_result"
    }
   ],
   "source": [
    "sky"
   ]
  },
  {
   "cell_type": "code",
   "execution_count": null,
   "id": "d69160d4",
   "metadata": {},
   "outputs": [],
   "source": [
    "# int---> 4,56,-78,98,-32\n",
    "# float--> 45.6,89,43\n"
   ]
  },
  {
   "cell_type": "code",
   "execution_count": 144,
   "id": "71181e9c",
   "metadata": {},
   "outputs": [],
   "source": [
    "sky[-3]=87\n"
   ]
  },
  {
   "cell_type": "code",
   "execution_count": 145,
   "id": "57828c5c",
   "metadata": {},
   "outputs": [
    {
     "data": {
      "text/plain": [
       "[10, 45.6, 900, 45, True, 87, -789, 56]"
      ]
     },
     "execution_count": 145,
     "metadata": {},
     "output_type": "execute_result"
    }
   ],
   "source": [
    "sky"
   ]
  },
  {
   "cell_type": "code",
   "execution_count": null,
   "id": "ee44683a",
   "metadata": {},
   "outputs": [],
   "source": [
    "# tuple--> restrictive towards change\n",
    "\n",
    "# List--> accept and flexible towards change.\n",
    "\n",
    "# Different Scenario to pick up the list , tuple.\n",
    "\n",
    "# project manager---> conifidential and curical information\n",
    "\n",
    "# Development-->A,B\n",
    "\n",
    "# Testings-->X,Y"
   ]
  },
  {
   "cell_type": "code",
   "execution_count": null,
   "id": "9e287379",
   "metadata": {},
   "outputs": [],
   "source": [
    "# Dicitonary: helps to store the information in more manageable way.(key value pair format.)\n",
    "\n",
    "# help to define the user defined indexes by implementing keys---> indexes.\n",
    "\n",
    "# you cannot keys in Dictionary.\n",
    "\n",
    "\n",
    "# Key: int, float, string(identifier)\n",
    "\n",
    "# Value: int, float, string (information).\n",
    "\n",
    "\n",
    "# Syntax: var_n={k1:v1,k2:v2,k3:v3------kn:vn} "
   ]
  },
  {
   "cell_type": "code",
   "execution_count": 151,
   "id": "6bd76d67",
   "metadata": {},
   "outputs": [],
   "source": [
    "# walmart---> 5 products onto the self.\n",
    "\n",
    "\n",
    "W_list=[23,56,200,4,67]"
   ]
  },
  {
   "cell_type": "code",
   "execution_count": 152,
   "id": "9bbe7ac5",
   "metadata": {},
   "outputs": [
    {
     "data": {
      "text/plain": [
       "[23, 56, 200, 4, 67]"
      ]
     },
     "execution_count": 152,
     "metadata": {},
     "output_type": "execute_result"
    }
   ],
   "source": [
    "W_list"
   ]
  },
  {
   "cell_type": "code",
   "execution_count": 172,
   "id": "6d2bfb27",
   "metadata": {},
   "outputs": [],
   "source": [
    "# Dictionary---> store the proices of the product.\n",
    "\n",
    "w_dict={455678:20,'Honey':15,'Headphones':145,'Mobile cover':12,'Choclates':5,'Biscuits':9,'Oats':15}"
   ]
  },
  {
   "cell_type": "code",
   "execution_count": 173,
   "id": "3a3a0eb8",
   "metadata": {},
   "outputs": [
    {
     "data": {
      "text/plain": [
       "{455678: 20,\n",
       " 'Honey': 15,\n",
       " 'Headphones': 145,\n",
       " 'Mobile cover': 12,\n",
       " 'Choclates': 5,\n",
       " 'Biscuits': 9,\n",
       " 'Oats': 15}"
      ]
     },
     "execution_count": 173,
     "metadata": {},
     "output_type": "execute_result"
    }
   ],
   "source": [
    "w_dict"
   ]
  },
  {
   "cell_type": "code",
   "execution_count": 174,
   "id": "b376869f",
   "metadata": {},
   "outputs": [
    {
     "data": {
      "text/plain": [
       "20"
      ]
     },
     "execution_count": 174,
     "metadata": {},
     "output_type": "execute_result"
    }
   ],
   "source": [
    "# user defined indexes:\n",
    "\n",
    "# Key---> access the values\n",
    "# vice versa you cannot access the key from values.\n",
    "w_dict[455678]"
   ]
  },
  {
   "cell_type": "code",
   "execution_count": 157,
   "id": "1cd69a99",
   "metadata": {},
   "outputs": [
    {
     "data": {
      "text/plain": [
       "15"
      ]
     },
     "execution_count": 157,
     "metadata": {},
     "output_type": "execute_result"
    }
   ],
   "source": [
    "w_dict['Oats']"
   ]
  },
  {
   "cell_type": "code",
   "execution_count": 158,
   "id": "b41cbb81",
   "metadata": {},
   "outputs": [
    {
     "data": {
      "text/plain": [
       "15"
      ]
     },
     "execution_count": 158,
     "metadata": {},
     "output_type": "execute_result"
    }
   ],
   "source": [
    "w_dict['Honey']"
   ]
  },
  {
   "cell_type": "code",
   "execution_count": 160,
   "id": "bfeb06da",
   "metadata": {},
   "outputs": [],
   "source": [
    "# mutuability\n",
    "w_dict['Headphones']=200\n"
   ]
  },
  {
   "cell_type": "code",
   "execution_count": 161,
   "id": "4538582d",
   "metadata": {},
   "outputs": [
    {
     "data": {
      "text/plain": [
       "{'Cake': 20,\n",
       " 'Honey': 15,\n",
       " 'Headphones': 200,\n",
       " 'Mobile cover': 12,\n",
       " 'Choclates': 5,\n",
       " 'Biscuits': 9,\n",
       " 'Oats': 15}"
      ]
     },
     "execution_count": 161,
     "metadata": {},
     "output_type": "execute_result"
    }
   ],
   "source": [
    "w_dict"
   ]
  },
  {
   "cell_type": "code",
   "execution_count": 162,
   "id": "526125cf",
   "metadata": {},
   "outputs": [
    {
     "data": {
      "text/plain": [
       "dict_keys(['Cake', 'Honey', 'Headphones', 'Mobile cover', 'Choclates', 'Biscuits', 'Oats'])"
      ]
     },
     "execution_count": 162,
     "metadata": {},
     "output_type": "execute_result"
    }
   ],
   "source": [
    "# Keys in a single\n",
    "\n",
    "w_dict.keys()"
   ]
  },
  {
   "cell_type": "code",
   "execution_count": 163,
   "id": "d2e02aca",
   "metadata": {},
   "outputs": [
    {
     "data": {
      "text/plain": [
       "dict_values([20, 15, 200, 12, 5, 9, 15])"
      ]
     },
     "execution_count": 163,
     "metadata": {},
     "output_type": "execute_result"
    }
   ],
   "source": [
    "w_dict.values()"
   ]
  },
  {
   "cell_type": "code",
   "execution_count": 164,
   "id": "38121822",
   "metadata": {},
   "outputs": [],
   "source": [
    "# scalable , new product.\n",
    "\n",
    "# add element to dictionary.\n",
    "\n",
    "w_dict['Pen']=35"
   ]
  },
  {
   "cell_type": "code",
   "execution_count": 165,
   "id": "f2cf69c7",
   "metadata": {},
   "outputs": [
    {
     "data": {
      "text/plain": [
       "{'Cake': 20,\n",
       " 'Honey': 15,\n",
       " 'Headphones': 200,\n",
       " 'Mobile cover': 12,\n",
       " 'Choclates': 5,\n",
       " 'Biscuits': 9,\n",
       " 'Oats': 15,\n",
       " 'Pen': 35}"
      ]
     },
     "execution_count": 165,
     "metadata": {},
     "output_type": "execute_result"
    }
   ],
   "source": [
    "w_dict"
   ]
  },
  {
   "cell_type": "code",
   "execution_count": 166,
   "id": "7f933864",
   "metadata": {},
   "outputs": [],
   "source": [
    "# multiple keys.\n",
    "\n",
    "w_dict.update({'Rice':10,'Fruits':15,'Icecream':12})"
   ]
  },
  {
   "cell_type": "code",
   "execution_count": 167,
   "id": "ceb04d5d",
   "metadata": {},
   "outputs": [
    {
     "data": {
      "text/plain": [
       "{'Cake': 20,\n",
       " 'Honey': 15,\n",
       " 'Headphones': 200,\n",
       " 'Mobile cover': 12,\n",
       " 'Choclates': 5,\n",
       " 'Biscuits': 9,\n",
       " 'Oats': 15,\n",
       " 'Pen': 35,\n",
       " 'Rice': 10,\n",
       " 'Fruits': 15,\n",
       " 'Icecream': 12}"
      ]
     },
     "execution_count": 167,
     "metadata": {},
     "output_type": "execute_result"
    }
   ],
   "source": [
    "w_dict"
   ]
  },
  {
   "cell_type": "code",
   "execution_count": 168,
   "id": "72b4490d",
   "metadata": {},
   "outputs": [
    {
     "data": {
      "text/plain": [
       "15"
      ]
     },
     "execution_count": 168,
     "metadata": {},
     "output_type": "execute_result"
    }
   ],
   "source": [
    "# delete the key from dictionary.\n",
    "\n",
    "w_dict.pop('Fruits')"
   ]
  },
  {
   "cell_type": "code",
   "execution_count": 169,
   "id": "c8dd28a5",
   "metadata": {},
   "outputs": [
    {
     "data": {
      "text/plain": [
       "{'Cake': 20,\n",
       " 'Honey': 15,\n",
       " 'Headphones': 200,\n",
       " 'Mobile cover': 12,\n",
       " 'Choclates': 5,\n",
       " 'Biscuits': 9,\n",
       " 'Oats': 15,\n",
       " 'Pen': 35,\n",
       " 'Rice': 10,\n",
       " 'Icecream': 12}"
      ]
     },
     "execution_count": 169,
     "metadata": {},
     "output_type": "execute_result"
    }
   ],
   "source": [
    "w_dict"
   ]
  },
  {
   "cell_type": "code",
   "execution_count": 170,
   "id": "cb40930e",
   "metadata": {},
   "outputs": [],
   "source": [
    "del w_dict['Rice']"
   ]
  },
  {
   "cell_type": "code",
   "execution_count": 171,
   "id": "d508d1e3",
   "metadata": {},
   "outputs": [
    {
     "data": {
      "text/plain": [
       "{'Cake': 20,\n",
       " 'Honey': 15,\n",
       " 'Headphones': 200,\n",
       " 'Mobile cover': 12,\n",
       " 'Choclates': 5,\n",
       " 'Biscuits': 9,\n",
       " 'Oats': 15,\n",
       " 'Pen': 35,\n",
       " 'Icecream': 12}"
      ]
     },
     "execution_count": 171,
     "metadata": {},
     "output_type": "execute_result"
    }
   ],
   "source": [
    "w_dict"
   ]
  },
  {
   "cell_type": "code",
   "execution_count": 2,
   "id": "1decfec7",
   "metadata": {},
   "outputs": [
    {
     "data": {
      "text/plain": [
       "102"
      ]
     },
     "execution_count": 2,
     "metadata": {},
     "output_type": "execute_result"
    }
   ],
   "source": [
    "34+68"
   ]
  },
  {
   "cell_type": "code",
   "execution_count": null,
   "id": "b8943e12",
   "metadata": {},
   "outputs": [],
   "source": [
    "# set: \n",
    "\n",
    "# conditional statement\n",
    "\n",
    "# looping statement\n",
    "\n",
    "# Functions."
   ]
  },
  {
   "cell_type": "code",
   "execution_count": null,
   "id": "42e98faf",
   "metadata": {},
   "outputs": [],
   "source": [
    "# set: unordered, unindexed ,unique collection of element.\n",
    "\n",
    "# Helps to remove duplicate values from the entire collection.\n",
    "\n",
    "# syntax:\n",
    "# var_n={a1,a2,a3,a4}\n"
   ]
  },
  {
   "cell_type": "code",
   "execution_count": 4,
   "id": "0c3efe3b",
   "metadata": {},
   "outputs": [],
   "source": [
    "fly={23,56,2,1,23,34,54,6,1,2,3,5,6,23,'Rose','Thunder',4,32,23,78.9,'Rose',65.4,23}"
   ]
  },
  {
   "cell_type": "code",
   "execution_count": 5,
   "id": "5651fc3a",
   "metadata": {},
   "outputs": [
    {
     "data": {
      "text/plain": [
       "{1, 2, 23, 3, 32, 34, 4, 5, 54, 56, 6, 65.4, 78.9, 'Rose', 'Thunder'}"
      ]
     },
     "execution_count": 5,
     "metadata": {},
     "output_type": "execute_result"
    }
   ],
   "source": [
    "fly"
   ]
  },
  {
   "cell_type": "code",
   "execution_count": 6,
   "id": "9a69b900",
   "metadata": {},
   "outputs": [
    {
     "data": {
      "text/plain": [
       "set"
      ]
     },
     "execution_count": 6,
     "metadata": {},
     "output_type": "execute_result"
    }
   ],
   "source": [
    "type(fly)"
   ]
  },
  {
   "cell_type": "code",
   "execution_count": 7,
   "id": "99460023",
   "metadata": {},
   "outputs": [],
   "source": [
    "# boolean values.\n",
    "\n",
    "drum={3,2,1,True,1,0}"
   ]
  },
  {
   "cell_type": "code",
   "execution_count": 8,
   "id": "772e95df",
   "metadata": {},
   "outputs": [
    {
     "data": {
      "text/plain": [
       "{0, 1, 2, 3}"
      ]
     },
     "execution_count": 8,
     "metadata": {},
     "output_type": "execute_result"
    }
   ],
   "source": [
    "drum"
   ]
  },
  {
   "cell_type": "code",
   "execution_count": null,
   "id": "6fa1457d",
   "metadata": {},
   "outputs": [],
   "source": [
    "# True=1\n",
    "\n",
    "# False=0\n",
    "\n",
    "\n",
    "# whateve coming first from left to right that will be included"
   ]
  },
  {
   "cell_type": "code",
   "execution_count": 9,
   "id": "b3f5fdea",
   "metadata": {},
   "outputs": [],
   "source": [
    "jet={0,True,1,False}"
   ]
  },
  {
   "cell_type": "code",
   "execution_count": 10,
   "id": "3710e8e4",
   "metadata": {},
   "outputs": [
    {
     "data": {
      "text/plain": [
       "{0, True}"
      ]
     },
     "execution_count": 10,
     "metadata": {},
     "output_type": "execute_result"
    }
   ],
   "source": [
    "jet"
   ]
  },
  {
   "cell_type": "code",
   "execution_count": 15,
   "id": "d9313f89",
   "metadata": {},
   "outputs": [],
   "source": [
    "eagle={1,True}"
   ]
  },
  {
   "cell_type": "code",
   "execution_count": 16,
   "id": "226a0897",
   "metadata": {},
   "outputs": [
    {
     "data": {
      "text/plain": [
       "{1}"
      ]
     },
     "execution_count": 16,
     "metadata": {},
     "output_type": "execute_result"
    }
   ],
   "source": [
    "eagle"
   ]
  },
  {
   "cell_type": "code",
   "execution_count": null,
   "id": "d2203eec",
   "metadata": {},
   "outputs": [],
   "source": [
    "# Whenever you will be numeric set---> sorted ascending order\n",
    "\n",
    "# Whenever you are having heterogeneous set(string, float)---> unordered."
   ]
  },
  {
   "cell_type": "code",
   "execution_count": 17,
   "id": "1f33b952",
   "metadata": {},
   "outputs": [],
   "source": [
    "# problem statement: you have to remove duplicate elements from a List .\n",
    "\n",
    "tiger=[23,4,5,6,4,3,2,3,4,5,65,67,7,6,5,4,5,6,7,7,8,9,7,6,8,9,9,8,9,12,34]\n",
    "\n",
    "\n",
    "# set()--> convert it to set.\n",
    "\n",
    "#list()---> convert eveything in list."
   ]
  },
  {
   "cell_type": "code",
   "execution_count": 18,
   "id": "ebf1e074",
   "metadata": {},
   "outputs": [
    {
     "data": {
      "text/plain": [
       "[23,\n",
       " 4,\n",
       " 5,\n",
       " 6,\n",
       " 4,\n",
       " 3,\n",
       " 2,\n",
       " 3,\n",
       " 4,\n",
       " 5,\n",
       " 65,\n",
       " 67,\n",
       " 7,\n",
       " 6,\n",
       " 5,\n",
       " 4,\n",
       " 5,\n",
       " 6,\n",
       " 7,\n",
       " 7,\n",
       " 8,\n",
       " 9,\n",
       " 7,\n",
       " 6,\n",
       " 8,\n",
       " 9,\n",
       " 9,\n",
       " 8,\n",
       " 9,\n",
       " 12,\n",
       " 34]"
      ]
     },
     "execution_count": 18,
     "metadata": {},
     "output_type": "execute_result"
    }
   ],
   "source": [
    "tiger"
   ]
  },
  {
   "cell_type": "code",
   "execution_count": 19,
   "id": "9d94f0ff",
   "metadata": {},
   "outputs": [],
   "source": [
    "# convert the collection to set\n",
    "\n",
    "x=set(tiger)"
   ]
  },
  {
   "cell_type": "code",
   "execution_count": 20,
   "id": "4bcbf289",
   "metadata": {},
   "outputs": [
    {
     "data": {
      "text/plain": [
       "{2, 3, 4, 5, 6, 7, 8, 9, 12, 23, 34, 65, 67}"
      ]
     },
     "execution_count": 20,
     "metadata": {},
     "output_type": "execute_result"
    }
   ],
   "source": [
    "x"
   ]
  },
  {
   "cell_type": "code",
   "execution_count": 21,
   "id": "3ff5c683",
   "metadata": {},
   "outputs": [
    {
     "data": {
      "text/plain": [
       "set"
      ]
     },
     "execution_count": 21,
     "metadata": {},
     "output_type": "execute_result"
    }
   ],
   "source": [
    "type(x)"
   ]
  },
  {
   "cell_type": "code",
   "execution_count": 22,
   "id": "30a3842d",
   "metadata": {},
   "outputs": [],
   "source": [
    "# again covert the created set into list.\n",
    "\n",
    "new=list(x)"
   ]
  },
  {
   "cell_type": "code",
   "execution_count": 23,
   "id": "8bee30d4",
   "metadata": {},
   "outputs": [
    {
     "data": {
      "text/plain": [
       "[65, 2, 3, 4, 5, 6, 67, 7, 8, 9, 34, 12, 23]"
      ]
     },
     "execution_count": 23,
     "metadata": {},
     "output_type": "execute_result"
    }
   ],
   "source": [
    "new"
   ]
  },
  {
   "cell_type": "code",
   "execution_count": 25,
   "id": "6bc26e3b",
   "metadata": {},
   "outputs": [
    {
     "data": {
      "text/plain": [
       "[3, 4, 5]"
      ]
     },
     "execution_count": 25,
     "metadata": {},
     "output_type": "execute_result"
    }
   ],
   "source": [
    "new[2:5]  "
   ]
  },
  {
   "cell_type": "code",
   "execution_count": 32,
   "id": "418632f3",
   "metadata": {},
   "outputs": [],
   "source": [
    "# sort the List\n",
    "\n",
    "# sort()---> sort the list in an ascending order from smaller ---> greater element.\n",
    "\n",
    "# sort(reverse=True)---> descending order---> greater element----->smaller element \n",
    "new.sort(reverse=True)"
   ]
  },
  {
   "cell_type": "code",
   "execution_count": 33,
   "id": "a190a168",
   "metadata": {},
   "outputs": [
    {
     "data": {
      "text/plain": [
       "[67, 65, 34, 23, 12, 9, 8, 7, 6, 5, 4, 3, 2]"
      ]
     },
     "execution_count": 33,
     "metadata": {},
     "output_type": "execute_result"
    }
   ],
   "source": [
    "new"
   ]
  },
  {
   "cell_type": "code",
   "execution_count": null,
   "id": "3dfe841d",
   "metadata": {},
   "outputs": [],
   "source": [
    "# Conditional Staement: helps to control the flow of execution of code.\n",
    "\n",
    "# helps to execute the code on top of the condition.\n",
    "\n",
    "# condition---> True--->Execution of the code.\n",
    "#condition---> False---> overlook the code and jumps on next statement.\n",
    "\n",
    "# Decision Making functionality."
   ]
  },
  {
   "cell_type": "code",
   "execution_count": 34,
   "id": "23d3856e",
   "metadata": {},
   "outputs": [
    {
     "name": "stdout",
     "output_type": "stream",
     "text": [
      "A\n",
      "B\n",
      "C\n"
     ]
    }
   ],
   "source": [
    "print('A')\n",
    "print('B')\n",
    "print('C')"
   ]
  },
  {
   "cell_type": "code",
   "execution_count": 35,
   "id": "fa1110d1",
   "metadata": {},
   "outputs": [
    {
     "name": "stdout",
     "output_type": "stream",
     "text": [
      "task1\n",
      "task2\n"
     ]
    }
   ],
   "source": [
    "print('task1')\n",
    "print('task2')"
   ]
  },
  {
   "cell_type": "code",
   "execution_count": null,
   "id": "aa69e755",
   "metadata": {},
   "outputs": [],
   "source": [
    "# 1. If and Else structure:  # 10 dollar--> money available  10>15\n",
    "                             # 15  dollar---> price of the product.\n",
    "\n",
    "if condition: # False\n",
    "    task 1\n",
    "else:\n",
    "    task 2\n",
    "    \n",
    "#rest code\n",
    "    \n",
    "# 1.condition ---> True--->task1 ---> Exit the entire block.\n",
    "\n",
    "#2. condition ---> False-->task2---> exit the entire block.\n",
    "    "
   ]
  },
  {
   "cell_type": "code",
   "execution_count": 47,
   "id": "f58570d3",
   "metadata": {},
   "outputs": [
    {
     "data": {
      "text/plain": [
       "500"
      ]
     },
     "execution_count": 47,
     "metadata": {},
     "output_type": "execute_result"
    }
   ],
   "source": [
    "a=500\n",
    "a"
   ]
  },
  {
   "cell_type": "code",
   "execution_count": 48,
   "id": "9d0088c1",
   "metadata": {},
   "outputs": [
    {
     "data": {
      "text/plain": [
       "500"
      ]
     },
     "execution_count": 48,
     "metadata": {},
     "output_type": "execute_result"
    }
   ],
   "source": [
    "b=500\n",
    "b"
   ]
  },
  {
   "cell_type": "code",
   "execution_count": 49,
   "id": "12fba51f",
   "metadata": {},
   "outputs": [
    {
     "name": "stdout",
     "output_type": "stream",
     "text": [
      "b is greater than a\n"
     ]
    }
   ],
   "source": [
    "if a>b: # 500>500--->False\n",
    "    print('a is greater than b')\n",
    "else:\n",
    "    print('b is greater than a')"
   ]
  },
  {
   "cell_type": "code",
   "execution_count": null,
   "id": "2ee0288a",
   "metadata": {},
   "outputs": [],
   "source": [
    "# 2. if elif-n times and else statement.\n",
    "\n",
    "if condition1:\n",
    "    task 1\n",
    "elif condition2:\n",
    "    task 2\n",
    "else:\n",
    "    task 3\n",
    "    \n",
    "# 1. condition1--->True--->task1---> Exit the block.\n",
    "\n",
    "#2. condition1---> False-->evaluate condition2--->true--->task2---> exit the block.\n",
    "\n",
    "#3. condition 1--->False-->evaluation condition2--->False--->task3---> Exit the block.\n",
    "    "
   ]
  },
  {
   "cell_type": "code",
   "execution_count": 55,
   "id": "fd3eafbf",
   "metadata": {},
   "outputs": [
    {
     "name": "stdout",
     "output_type": "stream",
     "text": [
      "a is equals to b\n"
     ]
    }
   ],
   "source": [
    "if a>b:  500>500\n",
    "    print('a ig greater than b')\n",
    "elif a==b: 500==500\n",
    "    print('a is equals to b')\n",
    "else:\n",
    "    print('b is greater than a')"
   ]
  },
  {
   "cell_type": "code",
   "execution_count": null,
   "id": "a6ea6df8",
   "metadata": {},
   "outputs": [],
   "source": [
    "# = ---> assignment values\n",
    "\n",
    "# ==---> comparsion ---> compare LHS to RHS---> equal--> true, not equal-->False"
   ]
  },
  {
   "cell_type": "code",
   "execution_count": 51,
   "id": "5962cfe5",
   "metadata": {},
   "outputs": [],
   "source": [
    "e=30"
   ]
  },
  {
   "cell_type": "code",
   "execution_count": null,
   "id": "abf12e9b",
   "metadata": {},
   "outputs": [],
   "source": [
    "# problem statement : National Eelection Commission, you have application which classifying the citizen as an valid voter or not.\n",
    "\n",
    "# taking input of age(18) from the user---> provide the classification.\n",
    "\n"
   ]
  },
  {
   "cell_type": "code",
   "execution_count": 60,
   "id": "5c8e259a",
   "metadata": {},
   "outputs": [
    {
     "name": "stdout",
     "output_type": "stream",
     "text": [
      "Enter the age 17\n",
      "wait for 1 more Year to cast the vote\n"
     ]
    }
   ],
   "source": [
    "age=int(input('Enter the age '))\n",
    "\n",
    "if age>=18:\n",
    "    print('You are eligible to cast the vote')\n",
    "    \n",
    "elif age==17:\n",
    "    print('wait for 1 more Year to cast the vote')\n",
    "    \n",
    "elif age==16:\n",
    "    print('wait for 2 more years to cast the vote')\n",
    "else:\n",
    "    print('you are not eligible to cast the vote')"
   ]
  },
  {
   "cell_type": "code",
   "execution_count": null,
   "id": "f9f2644f",
   "metadata": {},
   "outputs": [],
   "source": [
    "# Looping Statement: helps to achieve the repeative functionality or task.\n",
    "\n",
    "\n",
    "# For Loop: smart loop and massively used for programmers for computaions.\n",
    "\n",
    "# Traversing the information stored in collection list, tuples.\n",
    "\n",
    "\n",
    "# While Loop: conditional loop and due to additional step to implement will make it less popular among programmers."
   ]
  },
  {
   "cell_type": "code",
   "execution_count": 68,
   "id": "536ee194",
   "metadata": {},
   "outputs": [
    {
     "data": {
      "text/plain": [
       "[0]"
      ]
     },
     "execution_count": 68,
     "metadata": {},
     "output_type": "execute_result"
    }
   ],
   "source": [
    "# task --> print python onto the screen 100 times.\n",
    "\n",
    "# for loop.\n",
    "\n",
    "list(range(1))  # generate the instance and communicate the loop to execute \n",
    "\n",
    "\n",
    "# loop will execute for 1 time whenever there in an assignment of value to your iterable variable(p). \n",
    "\n",
    "# terminating condition of loop, when ther is value left."
   ]
  },
  {
   "cell_type": "code",
   "execution_count": 106,
   "id": "8855a9b7",
   "metadata": {},
   "outputs": [
    {
     "name": "stdout",
     "output_type": "stream",
     "text": [
      "python\n",
      "python\n",
      "python\n",
      "python\n",
      "python\n",
      "python\n",
      "python\n",
      "python\n",
      "python\n",
      "python\n",
      "python\n"
     ]
    }
   ],
   "source": [
    "for p in range(11): \n",
    "    print('python')\n",
    "   "
   ]
  },
  {
   "cell_type": "code",
   "execution_count": 83,
   "id": "5df59365",
   "metadata": {},
   "outputs": [],
   "source": [
    "# advantage traverse over the collection\n",
    "\n",
    "hunter=[23,89,34,32,'Thunder','Aeronautics',67.8,True]"
   ]
  },
  {
   "cell_type": "code",
   "execution_count": 84,
   "id": "fb03adcf",
   "metadata": {},
   "outputs": [
    {
     "data": {
      "text/plain": [
       "[23, 89, 34, 32, 'Thunder', 'Aeronautics', 67.8, True]"
      ]
     },
     "execution_count": 84,
     "metadata": {},
     "output_type": "execute_result"
    }
   ],
   "source": [
    "hunter"
   ]
  },
  {
   "cell_type": "code",
   "execution_count": 85,
   "id": "0cf2c036",
   "metadata": {},
   "outputs": [
    {
     "name": "stdout",
     "output_type": "stream",
     "text": [
      "23\n",
      "89\n",
      "34\n",
      "32\n",
      "Thunder\n",
      "Aeronautics\n",
      "67.8\n",
      "True\n"
     ]
    }
   ],
   "source": [
    "for w in hunter: #[23,89,34,32,'Thunder','Aeronautics',67.8]\n",
    "    print(w)"
   ]
  },
  {
   "cell_type": "code",
   "execution_count": 82,
   "id": "7edac5c7",
   "metadata": {},
   "outputs": [],
   "source": [
    "marks=[49,67,75,81,63,66,49,89,82]"
   ]
  },
  {
   "cell_type": "code",
   "execution_count": 88,
   "id": "d296dd04",
   "metadata": {},
   "outputs": [
    {
     "name": "stdout",
     "output_type": "stream",
     "text": [
      "59\n",
      "77\n",
      "85\n",
      "91\n",
      "73\n",
      "76\n",
      "59\n",
      "99\n",
      "92\n"
     ]
    }
   ],
   "source": [
    "for a in marks:\n",
    "    print(a+10)"
   ]
  },
  {
   "cell_type": "code",
   "execution_count": 89,
   "id": "e29eec61",
   "metadata": {},
   "outputs": [
    {
     "data": {
      "text/plain": [
       "[49, 67, 75, 81, 63, 66, 49, 89, 82]"
      ]
     },
     "execution_count": 89,
     "metadata": {},
     "output_type": "execute_result"
    }
   ],
   "source": [
    "marks"
   ]
  },
  {
   "cell_type": "code",
   "execution_count": 96,
   "id": "805a534f",
   "metadata": {},
   "outputs": [],
   "source": [
    "# optimal solution---> create an empty list--> append the update append.\n",
    "\n",
    "new_marks=[]  # empty list[59,77,85------------92]\n",
    "\n",
    "for i in marks:  #[49, 67, 75, 81, 63, 66, 49, 89, 82]\n",
    "    new_marks.append(i*10)"
   ]
  },
  {
   "cell_type": "code",
   "execution_count": 97,
   "id": "99351c90",
   "metadata": {},
   "outputs": [
    {
     "data": {
      "text/plain": [
       "[49, 67, 75, 81, 63, 66, 49, 89, 82]"
      ]
     },
     "execution_count": 97,
     "metadata": {},
     "output_type": "execute_result"
    }
   ],
   "source": [
    "marks"
   ]
  },
  {
   "cell_type": "code",
   "execution_count": 98,
   "id": "afb0c002",
   "metadata": {},
   "outputs": [
    {
     "data": {
      "text/plain": [
       "[490, 670, 750, 810, 630, 660, 490, 890, 820]"
      ]
     },
     "execution_count": 98,
     "metadata": {},
     "output_type": "execute_result"
    }
   ],
   "source": [
    "new_marks"
   ]
  },
  {
   "cell_type": "code",
   "execution_count": 99,
   "id": "c6a6a3cd",
   "metadata": {},
   "outputs": [
    {
     "data": {
      "text/plain": [
       "[49, 67, 75, 81, 63, 66, 49, 89, 82]"
      ]
     },
     "execution_count": 99,
     "metadata": {},
     "output_type": "execute_result"
    }
   ],
   "source": [
    "marks"
   ]
  },
  {
   "cell_type": "code",
   "execution_count": 1,
   "id": "2ec51a1f",
   "metadata": {},
   "outputs": [
    {
     "name": "stdout",
     "output_type": "stream",
     "text": [
      "python\n",
      "python\n",
      "python\n",
      "python\n",
      "python\n",
      "python\n",
      "python\n",
      "python\n",
      "python\n",
      "python\n"
     ]
    }
   ],
   "source": [
    "# While Loop : conditional loop\n",
    "\n",
    "# condition--->you will execute  till the assigned condition remains true.\n",
    "\n",
    "# Terminating ---> once condition turns to be false.\n",
    "\n",
    "t=0\n",
    "\n",
    "while t<10:\n",
    "    print('python') \n",
    "    t=t+1# t-->9+1-->10\n",
    "    "
   ]
  },
  {
   "cell_type": "code",
   "execution_count": null,
   "id": "1ab2b824",
   "metadata": {},
   "outputs": [],
   "source": [
    "# Functions: it block of statement executed in a pattern to achieve functionality. \n",
    "\n",
    "# helps to reuse the code."
   ]
  },
  {
   "cell_type": "code",
   "execution_count": 2,
   "id": "8d304833",
   "metadata": {},
   "outputs": [
    {
     "data": {
      "text/plain": [
       "349746173525"
      ]
     },
     "execution_count": 2,
     "metadata": {},
     "output_type": "execute_result"
    }
   ],
   "source": [
    "# user defined functions.\n",
    "\n",
    "a=345634656767\n",
    "b=3543647768\n",
    "c=567868990\n",
    "\n",
    "a+b+c"
   ]
  },
  {
   "cell_type": "code",
   "execution_count": 3,
   "id": "608e0441",
   "metadata": {},
   "outputs": [
    {
     "data": {
      "text/plain": [
       "4003248097745"
      ]
     },
     "execution_count": 3,
     "metadata": {},
     "output_type": "execute_result"
    }
   ],
   "source": [
    "a=457568960098\n",
    "b=3545675679879\n",
    "c=3457768\n",
    "\n",
    "a+b+c"
   ]
  },
  {
   "cell_type": "code",
   "execution_count": null,
   "id": "4843ef48",
   "metadata": {},
   "outputs": [],
   "source": [
    "# Print---> display the output on the screen---> you cannot use and store the result of the function.\n",
    "\n",
    "# return ---> function will provide the out[ut for further computation."
   ]
  },
  {
   "cell_type": "code",
   "execution_count": 17,
   "id": "77d0cbdc",
   "metadata": {},
   "outputs": [],
   "source": [
    "# defining function\n",
    "def spyware(a,b,c):\n",
    "    d=a+b+c\n",
    "    return d"
   ]
  },
  {
   "cell_type": "code",
   "execution_count": 22,
   "id": "ed9ec6dc",
   "metadata": {},
   "outputs": [
    {
     "data": {
      "text/plain": [
       "14"
      ]
     },
     "execution_count": 22,
     "metadata": {},
     "output_type": "execute_result"
    }
   ],
   "source": [
    "# calling function\n",
    "\n",
    "spyware(3,5,6)"
   ]
  },
  {
   "cell_type": "code",
   "execution_count": 21,
   "id": "bfee2604",
   "metadata": {},
   "outputs": [
    {
     "data": {
      "text/plain": [
       "784"
      ]
     },
     "execution_count": 21,
     "metadata": {},
     "output_type": "execute_result"
    }
   ],
   "source": [
    "u*56"
   ]
  },
  {
   "cell_type": "code",
   "execution_count": 20,
   "id": "c8165ff7",
   "metadata": {},
   "outputs": [
    {
     "data": {
      "text/plain": [
       "int"
      ]
     },
     "execution_count": 20,
     "metadata": {},
     "output_type": "execute_result"
    }
   ],
   "source": [
    "type(u)"
   ]
  },
  {
   "cell_type": "code",
   "execution_count": 6,
   "id": "0baa1d51",
   "metadata": {},
   "outputs": [
    {
     "name": "stdout",
     "output_type": "stream",
     "text": [
      "58092678471243995\n"
     ]
    }
   ],
   "source": [
    "spyware(3456347468798,34656789778098654,23432432345676543)"
   ]
  },
  {
   "cell_type": "code",
   "execution_count": 8,
   "id": "8cb1c236",
   "metadata": {},
   "outputs": [
    {
     "name": "stdout",
     "output_type": "stream",
     "text": [
      "35457487779469420800406\n"
     ]
    }
   ],
   "source": [
    "spyware(35457487598586764353432,123213565769987,57669090676987)"
   ]
  },
  {
   "cell_type": "code",
   "execution_count": 9,
   "id": "56716ee3",
   "metadata": {},
   "outputs": [
    {
     "name": "stdout",
     "output_type": "stream",
     "text": [
      "Help on class list in module builtins:\n",
      "\n",
      "class list(object)\n",
      " |  list(iterable=(), /)\n",
      " |  \n",
      " |  Built-in mutable sequence.\n",
      " |  \n",
      " |  If no argument is given, the constructor creates a new empty list.\n",
      " |  The argument must be an iterable if specified.\n",
      " |  \n",
      " |  Methods defined here:\n",
      " |  \n",
      " |  __add__(self, value, /)\n",
      " |      Return self+value.\n",
      " |  \n",
      " |  __contains__(self, key, /)\n",
      " |      Return key in self.\n",
      " |  \n",
      " |  __delitem__(self, key, /)\n",
      " |      Delete self[key].\n",
      " |  \n",
      " |  __eq__(self, value, /)\n",
      " |      Return self==value.\n",
      " |  \n",
      " |  __ge__(self, value, /)\n",
      " |      Return self>=value.\n",
      " |  \n",
      " |  __getattribute__(self, name, /)\n",
      " |      Return getattr(self, name).\n",
      " |  \n",
      " |  __getitem__(...)\n",
      " |      x.__getitem__(y) <==> x[y]\n",
      " |  \n",
      " |  __gt__(self, value, /)\n",
      " |      Return self>value.\n",
      " |  \n",
      " |  __iadd__(self, value, /)\n",
      " |      Implement self+=value.\n",
      " |  \n",
      " |  __imul__(self, value, /)\n",
      " |      Implement self*=value.\n",
      " |  \n",
      " |  __init__(self, /, *args, **kwargs)\n",
      " |      Initialize self.  See help(type(self)) for accurate signature.\n",
      " |  \n",
      " |  __iter__(self, /)\n",
      " |      Implement iter(self).\n",
      " |  \n",
      " |  __le__(self, value, /)\n",
      " |      Return self<=value.\n",
      " |  \n",
      " |  __len__(self, /)\n",
      " |      Return len(self).\n",
      " |  \n",
      " |  __lt__(self, value, /)\n",
      " |      Return self<value.\n",
      " |  \n",
      " |  __mul__(self, value, /)\n",
      " |      Return self*value.\n",
      " |  \n",
      " |  __ne__(self, value, /)\n",
      " |      Return self!=value.\n",
      " |  \n",
      " |  __repr__(self, /)\n",
      " |      Return repr(self).\n",
      " |  \n",
      " |  __reversed__(self, /)\n",
      " |      Return a reverse iterator over the list.\n",
      " |  \n",
      " |  __rmul__(self, value, /)\n",
      " |      Return value*self.\n",
      " |  \n",
      " |  __setitem__(self, key, value, /)\n",
      " |      Set self[key] to value.\n",
      " |  \n",
      " |  __sizeof__(self, /)\n",
      " |      Return the size of the list in memory, in bytes.\n",
      " |  \n",
      " |  append(self, object, /)\n",
      " |      Append object to the end of the list.\n",
      " |  \n",
      " |  clear(self, /)\n",
      " |      Remove all items from list.\n",
      " |  \n",
      " |  copy(self, /)\n",
      " |      Return a shallow copy of the list.\n",
      " |  \n",
      " |  count(self, value, /)\n",
      " |      Return number of occurrences of value.\n",
      " |  \n",
      " |  extend(self, iterable, /)\n",
      " |      Extend list by appending elements from the iterable.\n",
      " |  \n",
      " |  index(self, value, start=0, stop=9223372036854775807, /)\n",
      " |      Return first index of value.\n",
      " |      \n",
      " |      Raises ValueError if the value is not present.\n",
      " |  \n",
      " |  insert(self, index, object, /)\n",
      " |      Insert object before index.\n",
      " |  \n",
      " |  pop(self, index=-1, /)\n",
      " |      Remove and return item at index (default last).\n",
      " |      \n",
      " |      Raises IndexError if list is empty or index is out of range.\n",
      " |  \n",
      " |  remove(self, value, /)\n",
      " |      Remove first occurrence of value.\n",
      " |      \n",
      " |      Raises ValueError if the value is not present.\n",
      " |  \n",
      " |  reverse(self, /)\n",
      " |      Reverse *IN PLACE*.\n",
      " |  \n",
      " |  sort(self, /, *, key=None, reverse=False)\n",
      " |      Sort the list in ascending order and return None.\n",
      " |      \n",
      " |      The sort is in-place (i.e. the list itself is modified) and stable (i.e. the\n",
      " |      order of two equal elements is maintained).\n",
      " |      \n",
      " |      If a key function is given, apply it once to each list item and sort them,\n",
      " |      ascending or descending, according to their function values.\n",
      " |      \n",
      " |      The reverse flag can be set to sort in descending order.\n",
      " |  \n",
      " |  ----------------------------------------------------------------------\n",
      " |  Static methods defined here:\n",
      " |  \n",
      " |  __new__(*args, **kwargs) from builtins.type\n",
      " |      Create and return a new object.  See help(type) for accurate signature.\n",
      " |  \n",
      " |  ----------------------------------------------------------------------\n",
      " |  Data and other attributes defined here:\n",
      " |  \n",
      " |  __hash__ = None\n",
      "\n"
     ]
    }
   ],
   "source": [
    "# inbuilt function\n",
    "\n",
    "help(list)"
   ]
  },
  {
   "cell_type": "code",
   "execution_count": null,
   "id": "8a0ddfca",
   "metadata": {},
   "outputs": [],
   "source": []
  }
 ],
 "metadata": {
  "kernelspec": {
   "display_name": "Python 3",
   "language": "python",
   "name": "python3"
  },
  "language_info": {
   "codemirror_mode": {
    "name": "ipython",
    "version": 3
   },
   "file_extension": ".py",
   "mimetype": "text/x-python",
   "name": "python",
   "nbconvert_exporter": "python",
   "pygments_lexer": "ipython3",
   "version": "3.8.8"
  }
 },
 "nbformat": 4,
 "nbformat_minor": 5
}
