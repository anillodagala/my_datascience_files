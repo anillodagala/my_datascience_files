{
 "cells": [
  {
   "cell_type": "code",
   "execution_count": 1,
   "id": "f6cdd970",
   "metadata": {},
   "outputs": [],
   "source": [
    "import numpy as np \n",
    "import pandas as pd  \n",
    "from sklearn.decomposition import PCA \n",
    "  \n",
    "import matplotlib.pyplot as plt \n",
    "import seaborn as sns\n",
    "%matplotlib inline\n",
    "\n",
    "from sklearn.model_selection import train_test_split\n",
    "from sklearn.tree import DecisionTreeClassifier\n",
    "from sklearn.metrics import accuracy_score,confusion_matrix"
   ]
  },
  {
   "cell_type": "code",
   "execution_count": 2,
   "id": "65f540ba",
   "metadata": {},
   "outputs": [],
   "source": [
    "from sklearn import datasets"
   ]
  },
  {
   "cell_type": "code",
   "execution_count": 3,
   "id": "8480e77a",
   "metadata": {},
   "outputs": [],
   "source": [
    "from sklearn.datasets import load_digits\n",
    "digits = load_digits()"
   ]
  },
  {
   "cell_type": "code",
   "execution_count": 4,
   "id": "1b8db61e",
   "metadata": {},
   "outputs": [
    {
     "data": {
      "text/plain": [
       "{'data': array([[ 0.,  0.,  5., ...,  0.,  0.,  0.],\n",
       "        [ 0.,  0.,  0., ..., 10.,  0.,  0.],\n",
       "        [ 0.,  0.,  0., ..., 16.,  9.,  0.],\n",
       "        ...,\n",
       "        [ 0.,  0.,  1., ...,  6.,  0.,  0.],\n",
       "        [ 0.,  0.,  2., ..., 12.,  0.,  0.],\n",
       "        [ 0.,  0., 10., ..., 12.,  1.,  0.]]),\n",
       " 'target': array([0, 1, 2, ..., 8, 9, 8]),\n",
       " 'frame': None,\n",
       " 'feature_names': ['pixel_0_0',\n",
       "  'pixel_0_1',\n",
       "  'pixel_0_2',\n",
       "  'pixel_0_3',\n",
       "  'pixel_0_4',\n",
       "  'pixel_0_5',\n",
       "  'pixel_0_6',\n",
       "  'pixel_0_7',\n",
       "  'pixel_1_0',\n",
       "  'pixel_1_1',\n",
       "  'pixel_1_2',\n",
       "  'pixel_1_3',\n",
       "  'pixel_1_4',\n",
       "  'pixel_1_5',\n",
       "  'pixel_1_6',\n",
       "  'pixel_1_7',\n",
       "  'pixel_2_0',\n",
       "  'pixel_2_1',\n",
       "  'pixel_2_2',\n",
       "  'pixel_2_3',\n",
       "  'pixel_2_4',\n",
       "  'pixel_2_5',\n",
       "  'pixel_2_6',\n",
       "  'pixel_2_7',\n",
       "  'pixel_3_0',\n",
       "  'pixel_3_1',\n",
       "  'pixel_3_2',\n",
       "  'pixel_3_3',\n",
       "  'pixel_3_4',\n",
       "  'pixel_3_5',\n",
       "  'pixel_3_6',\n",
       "  'pixel_3_7',\n",
       "  'pixel_4_0',\n",
       "  'pixel_4_1',\n",
       "  'pixel_4_2',\n",
       "  'pixel_4_3',\n",
       "  'pixel_4_4',\n",
       "  'pixel_4_5',\n",
       "  'pixel_4_6',\n",
       "  'pixel_4_7',\n",
       "  'pixel_5_0',\n",
       "  'pixel_5_1',\n",
       "  'pixel_5_2',\n",
       "  'pixel_5_3',\n",
       "  'pixel_5_4',\n",
       "  'pixel_5_5',\n",
       "  'pixel_5_6',\n",
       "  'pixel_5_7',\n",
       "  'pixel_6_0',\n",
       "  'pixel_6_1',\n",
       "  'pixel_6_2',\n",
       "  'pixel_6_3',\n",
       "  'pixel_6_4',\n",
       "  'pixel_6_5',\n",
       "  'pixel_6_6',\n",
       "  'pixel_6_7',\n",
       "  'pixel_7_0',\n",
       "  'pixel_7_1',\n",
       "  'pixel_7_2',\n",
       "  'pixel_7_3',\n",
       "  'pixel_7_4',\n",
       "  'pixel_7_5',\n",
       "  'pixel_7_6',\n",
       "  'pixel_7_7'],\n",
       " 'target_names': array([0, 1, 2, 3, 4, 5, 6, 7, 8, 9]),\n",
       " 'images': array([[[ 0.,  0.,  5., ...,  1.,  0.,  0.],\n",
       "         [ 0.,  0., 13., ..., 15.,  5.,  0.],\n",
       "         [ 0.,  3., 15., ..., 11.,  8.,  0.],\n",
       "         ...,\n",
       "         [ 0.,  4., 11., ..., 12.,  7.,  0.],\n",
       "         [ 0.,  2., 14., ..., 12.,  0.,  0.],\n",
       "         [ 0.,  0.,  6., ...,  0.,  0.,  0.]],\n",
       " \n",
       "        [[ 0.,  0.,  0., ...,  5.,  0.,  0.],\n",
       "         [ 0.,  0.,  0., ...,  9.,  0.,  0.],\n",
       "         [ 0.,  0.,  3., ...,  6.,  0.,  0.],\n",
       "         ...,\n",
       "         [ 0.,  0.,  1., ...,  6.,  0.,  0.],\n",
       "         [ 0.,  0.,  1., ...,  6.,  0.,  0.],\n",
       "         [ 0.,  0.,  0., ..., 10.,  0.,  0.]],\n",
       " \n",
       "        [[ 0.,  0.,  0., ..., 12.,  0.,  0.],\n",
       "         [ 0.,  0.,  3., ..., 14.,  0.,  0.],\n",
       "         [ 0.,  0.,  8., ..., 16.,  0.,  0.],\n",
       "         ...,\n",
       "         [ 0.,  9., 16., ...,  0.,  0.,  0.],\n",
       "         [ 0.,  3., 13., ..., 11.,  5.,  0.],\n",
       "         [ 0.,  0.,  0., ..., 16.,  9.,  0.]],\n",
       " \n",
       "        ...,\n",
       " \n",
       "        [[ 0.,  0.,  1., ...,  1.,  0.,  0.],\n",
       "         [ 0.,  0., 13., ...,  2.,  1.,  0.],\n",
       "         [ 0.,  0., 16., ..., 16.,  5.,  0.],\n",
       "         ...,\n",
       "         [ 0.,  0., 16., ..., 15.,  0.,  0.],\n",
       "         [ 0.,  0., 15., ..., 16.,  0.,  0.],\n",
       "         [ 0.,  0.,  2., ...,  6.,  0.,  0.]],\n",
       " \n",
       "        [[ 0.,  0.,  2., ...,  0.,  0.,  0.],\n",
       "         [ 0.,  0., 14., ..., 15.,  1.,  0.],\n",
       "         [ 0.,  4., 16., ..., 16.,  7.,  0.],\n",
       "         ...,\n",
       "         [ 0.,  0.,  0., ..., 16.,  2.,  0.],\n",
       "         [ 0.,  0.,  4., ..., 16.,  2.,  0.],\n",
       "         [ 0.,  0.,  5., ..., 12.,  0.,  0.]],\n",
       " \n",
       "        [[ 0.,  0., 10., ...,  1.,  0.,  0.],\n",
       "         [ 0.,  2., 16., ...,  1.,  0.,  0.],\n",
       "         [ 0.,  0., 15., ..., 15.,  0.,  0.],\n",
       "         ...,\n",
       "         [ 0.,  4., 16., ..., 16.,  6.,  0.],\n",
       "         [ 0.,  8., 16., ..., 16.,  8.,  0.],\n",
       "         [ 0.,  1.,  8., ..., 12.,  1.,  0.]]]),\n",
       " 'DESCR': \".. _digits_dataset:\\n\\nOptical recognition of handwritten digits dataset\\n--------------------------------------------------\\n\\n**Data Set Characteristics:**\\n\\n    :Number of Instances: 1797\\n    :Number of Attributes: 64\\n    :Attribute Information: 8x8 image of integer pixels in the range 0..16.\\n    :Missing Attribute Values: None\\n    :Creator: E. Alpaydin (alpaydin '@' boun.edu.tr)\\n    :Date: July; 1998\\n\\nThis is a copy of the test set of the UCI ML hand-written digits datasets\\nhttps://archive.ics.uci.edu/ml/datasets/Optical+Recognition+of+Handwritten+Digits\\n\\nThe data set contains images of hand-written digits: 10 classes where\\neach class refers to a digit.\\n\\nPreprocessing programs made available by NIST were used to extract\\nnormalized bitmaps of handwritten digits from a preprinted form. From a\\ntotal of 43 people, 30 contributed to the training set and different 13\\nto the test set. 32x32 bitmaps are divided into nonoverlapping blocks of\\n4x4 and the number of on pixels are counted in each block. This generates\\nan input matrix of 8x8 where each element is an integer in the range\\n0..16. This reduces dimensionality and gives invariance to small\\ndistortions.\\n\\nFor info on NIST preprocessing routines, see M. D. Garris, J. L. Blue, G.\\nT. Candela, D. L. Dimmick, J. Geist, P. J. Grother, S. A. Janet, and C.\\nL. Wilson, NIST Form-Based Handprint Recognition System, NISTIR 5469,\\n1994.\\n\\n.. topic:: References\\n\\n  - C. Kaynak (1995) Methods of Combining Multiple Classifiers and Their\\n    Applications to Handwritten Digit Recognition, MSc Thesis, Institute of\\n    Graduate Studies in Science and Engineering, Bogazici University.\\n  - E. Alpaydin, C. Kaynak (1998) Cascading Classifiers, Kybernetika.\\n  - Ken Tang and Ponnuthurai N. Suganthan and Xi Yao and A. Kai Qin.\\n    Linear dimensionalityreduction using relevance weighted LDA. School of\\n    Electrical and Electronic Engineering Nanyang Technological University.\\n    2005.\\n  - Claudio Gentile. A New Approximate Maximal Margin Classification\\n    Algorithm. NIPS. 2000.\\n\"}"
      ]
     },
     "execution_count": 4,
     "metadata": {},
     "output_type": "execute_result"
    }
   ],
   "source": [
    "digits"
   ]
  },
  {
   "cell_type": "code",
   "execution_count": 5,
   "id": "7f1093a8",
   "metadata": {},
   "outputs": [],
   "source": [
    "data1=pd.DataFrame(digits.data)"
   ]
  },
  {
   "cell_type": "code",
   "execution_count": 6,
   "id": "6621693d",
   "metadata": {},
   "outputs": [
    {
     "data": {
      "text/html": [
       "<div>\n",
       "<style scoped>\n",
       "    .dataframe tbody tr th:only-of-type {\n",
       "        vertical-align: middle;\n",
       "    }\n",
       "\n",
       "    .dataframe tbody tr th {\n",
       "        vertical-align: top;\n",
       "    }\n",
       "\n",
       "    .dataframe thead th {\n",
       "        text-align: right;\n",
       "    }\n",
       "</style>\n",
       "<table border=\"1\" class=\"dataframe\">\n",
       "  <thead>\n",
       "    <tr style=\"text-align: right;\">\n",
       "      <th></th>\n",
       "      <th>0</th>\n",
       "      <th>1</th>\n",
       "      <th>2</th>\n",
       "      <th>3</th>\n",
       "      <th>4</th>\n",
       "      <th>5</th>\n",
       "      <th>6</th>\n",
       "      <th>7</th>\n",
       "      <th>8</th>\n",
       "      <th>9</th>\n",
       "      <th>...</th>\n",
       "      <th>54</th>\n",
       "      <th>55</th>\n",
       "      <th>56</th>\n",
       "      <th>57</th>\n",
       "      <th>58</th>\n",
       "      <th>59</th>\n",
       "      <th>60</th>\n",
       "      <th>61</th>\n",
       "      <th>62</th>\n",
       "      <th>63</th>\n",
       "    </tr>\n",
       "  </thead>\n",
       "  <tbody>\n",
       "    <tr>\n",
       "      <th>0</th>\n",
       "      <td>0.0</td>\n",
       "      <td>0.0</td>\n",
       "      <td>5.0</td>\n",
       "      <td>13.0</td>\n",
       "      <td>9.0</td>\n",
       "      <td>1.0</td>\n",
       "      <td>0.0</td>\n",
       "      <td>0.0</td>\n",
       "      <td>0.0</td>\n",
       "      <td>0.0</td>\n",
       "      <td>...</td>\n",
       "      <td>0.0</td>\n",
       "      <td>0.0</td>\n",
       "      <td>0.0</td>\n",
       "      <td>0.0</td>\n",
       "      <td>6.0</td>\n",
       "      <td>13.0</td>\n",
       "      <td>10.0</td>\n",
       "      <td>0.0</td>\n",
       "      <td>0.0</td>\n",
       "      <td>0.0</td>\n",
       "    </tr>\n",
       "    <tr>\n",
       "      <th>1</th>\n",
       "      <td>0.0</td>\n",
       "      <td>0.0</td>\n",
       "      <td>0.0</td>\n",
       "      <td>12.0</td>\n",
       "      <td>13.0</td>\n",
       "      <td>5.0</td>\n",
       "      <td>0.0</td>\n",
       "      <td>0.0</td>\n",
       "      <td>0.0</td>\n",
       "      <td>0.0</td>\n",
       "      <td>...</td>\n",
       "      <td>0.0</td>\n",
       "      <td>0.0</td>\n",
       "      <td>0.0</td>\n",
       "      <td>0.0</td>\n",
       "      <td>0.0</td>\n",
       "      <td>11.0</td>\n",
       "      <td>16.0</td>\n",
       "      <td>10.0</td>\n",
       "      <td>0.0</td>\n",
       "      <td>0.0</td>\n",
       "    </tr>\n",
       "    <tr>\n",
       "      <th>2</th>\n",
       "      <td>0.0</td>\n",
       "      <td>0.0</td>\n",
       "      <td>0.0</td>\n",
       "      <td>4.0</td>\n",
       "      <td>15.0</td>\n",
       "      <td>12.0</td>\n",
       "      <td>0.0</td>\n",
       "      <td>0.0</td>\n",
       "      <td>0.0</td>\n",
       "      <td>0.0</td>\n",
       "      <td>...</td>\n",
       "      <td>5.0</td>\n",
       "      <td>0.0</td>\n",
       "      <td>0.0</td>\n",
       "      <td>0.0</td>\n",
       "      <td>0.0</td>\n",
       "      <td>3.0</td>\n",
       "      <td>11.0</td>\n",
       "      <td>16.0</td>\n",
       "      <td>9.0</td>\n",
       "      <td>0.0</td>\n",
       "    </tr>\n",
       "    <tr>\n",
       "      <th>3</th>\n",
       "      <td>0.0</td>\n",
       "      <td>0.0</td>\n",
       "      <td>7.0</td>\n",
       "      <td>15.0</td>\n",
       "      <td>13.0</td>\n",
       "      <td>1.0</td>\n",
       "      <td>0.0</td>\n",
       "      <td>0.0</td>\n",
       "      <td>0.0</td>\n",
       "      <td>8.0</td>\n",
       "      <td>...</td>\n",
       "      <td>9.0</td>\n",
       "      <td>0.0</td>\n",
       "      <td>0.0</td>\n",
       "      <td>0.0</td>\n",
       "      <td>7.0</td>\n",
       "      <td>13.0</td>\n",
       "      <td>13.0</td>\n",
       "      <td>9.0</td>\n",
       "      <td>0.0</td>\n",
       "      <td>0.0</td>\n",
       "    </tr>\n",
       "    <tr>\n",
       "      <th>4</th>\n",
       "      <td>0.0</td>\n",
       "      <td>0.0</td>\n",
       "      <td>0.0</td>\n",
       "      <td>1.0</td>\n",
       "      <td>11.0</td>\n",
       "      <td>0.0</td>\n",
       "      <td>0.0</td>\n",
       "      <td>0.0</td>\n",
       "      <td>0.0</td>\n",
       "      <td>0.0</td>\n",
       "      <td>...</td>\n",
       "      <td>0.0</td>\n",
       "      <td>0.0</td>\n",
       "      <td>0.0</td>\n",
       "      <td>0.0</td>\n",
       "      <td>0.0</td>\n",
       "      <td>2.0</td>\n",
       "      <td>16.0</td>\n",
       "      <td>4.0</td>\n",
       "      <td>0.0</td>\n",
       "      <td>0.0</td>\n",
       "    </tr>\n",
       "  </tbody>\n",
       "</table>\n",
       "<p>5 rows × 64 columns</p>\n",
       "</div>"
      ],
      "text/plain": [
       "    0    1    2     3     4     5    6    7    8    9   ...   54   55   56  \\\n",
       "0  0.0  0.0  5.0  13.0   9.0   1.0  0.0  0.0  0.0  0.0  ...  0.0  0.0  0.0   \n",
       "1  0.0  0.0  0.0  12.0  13.0   5.0  0.0  0.0  0.0  0.0  ...  0.0  0.0  0.0   \n",
       "2  0.0  0.0  0.0   4.0  15.0  12.0  0.0  0.0  0.0  0.0  ...  5.0  0.0  0.0   \n",
       "3  0.0  0.0  7.0  15.0  13.0   1.0  0.0  0.0  0.0  8.0  ...  9.0  0.0  0.0   \n",
       "4  0.0  0.0  0.0   1.0  11.0   0.0  0.0  0.0  0.0  0.0  ...  0.0  0.0  0.0   \n",
       "\n",
       "    57   58    59    60    61   62   63  \n",
       "0  0.0  6.0  13.0  10.0   0.0  0.0  0.0  \n",
       "1  0.0  0.0  11.0  16.0  10.0  0.0  0.0  \n",
       "2  0.0  0.0   3.0  11.0  16.0  9.0  0.0  \n",
       "3  0.0  7.0  13.0  13.0   9.0  0.0  0.0  \n",
       "4  0.0  0.0   2.0  16.0   4.0  0.0  0.0  \n",
       "\n",
       "[5 rows x 64 columns]"
      ]
     },
     "execution_count": 6,
     "metadata": {},
     "output_type": "execute_result"
    }
   ],
   "source": [
    "data1.head()"
   ]
  },
  {
   "cell_type": "code",
   "execution_count": null,
   "id": "6562747a",
   "metadata": {},
   "outputs": [],
   "source": []
  },
  {
   "cell_type": "code",
   "execution_count": 7,
   "id": "5bfa21b5",
   "metadata": {},
   "outputs": [
    {
     "data": {
      "text/html": [
       "<div>\n",
       "<style scoped>\n",
       "    .dataframe tbody tr th:only-of-type {\n",
       "        vertical-align: middle;\n",
       "    }\n",
       "\n",
       "    .dataframe tbody tr th {\n",
       "        vertical-align: top;\n",
       "    }\n",
       "\n",
       "    .dataframe thead th {\n",
       "        text-align: right;\n",
       "    }\n",
       "</style>\n",
       "<table border=\"1\" class=\"dataframe\">\n",
       "  <thead>\n",
       "    <tr style=\"text-align: right;\">\n",
       "      <th></th>\n",
       "      <th>0</th>\n",
       "      <th>1</th>\n",
       "      <th>2</th>\n",
       "      <th>3</th>\n",
       "      <th>4</th>\n",
       "      <th>5</th>\n",
       "      <th>6</th>\n",
       "      <th>7</th>\n",
       "      <th>8</th>\n",
       "      <th>9</th>\n",
       "      <th>...</th>\n",
       "      <th>54</th>\n",
       "      <th>55</th>\n",
       "      <th>56</th>\n",
       "      <th>57</th>\n",
       "      <th>58</th>\n",
       "      <th>59</th>\n",
       "      <th>60</th>\n",
       "      <th>61</th>\n",
       "      <th>62</th>\n",
       "      <th>63</th>\n",
       "    </tr>\n",
       "  </thead>\n",
       "  <tbody>\n",
       "    <tr>\n",
       "      <th>count</th>\n",
       "      <td>1797.0</td>\n",
       "      <td>1797.000000</td>\n",
       "      <td>1797.000000</td>\n",
       "      <td>1797.000000</td>\n",
       "      <td>1797.000000</td>\n",
       "      <td>1797.000000</td>\n",
       "      <td>1797.000000</td>\n",
       "      <td>1797.000000</td>\n",
       "      <td>1797.000000</td>\n",
       "      <td>1797.000000</td>\n",
       "      <td>...</td>\n",
       "      <td>1797.000000</td>\n",
       "      <td>1797.000000</td>\n",
       "      <td>1797.000000</td>\n",
       "      <td>1797.000000</td>\n",
       "      <td>1797.000000</td>\n",
       "      <td>1797.000000</td>\n",
       "      <td>1797.000000</td>\n",
       "      <td>1797.000000</td>\n",
       "      <td>1797.000000</td>\n",
       "      <td>1797.000000</td>\n",
       "    </tr>\n",
       "    <tr>\n",
       "      <th>mean</th>\n",
       "      <td>0.0</td>\n",
       "      <td>0.303840</td>\n",
       "      <td>5.204786</td>\n",
       "      <td>11.835838</td>\n",
       "      <td>11.848080</td>\n",
       "      <td>5.781859</td>\n",
       "      <td>1.362270</td>\n",
       "      <td>0.129661</td>\n",
       "      <td>0.005565</td>\n",
       "      <td>1.993879</td>\n",
       "      <td>...</td>\n",
       "      <td>3.725097</td>\n",
       "      <td>0.206455</td>\n",
       "      <td>0.000556</td>\n",
       "      <td>0.279354</td>\n",
       "      <td>5.557596</td>\n",
       "      <td>12.089037</td>\n",
       "      <td>11.809126</td>\n",
       "      <td>6.764051</td>\n",
       "      <td>2.067891</td>\n",
       "      <td>0.364496</td>\n",
       "    </tr>\n",
       "    <tr>\n",
       "      <th>std</th>\n",
       "      <td>0.0</td>\n",
       "      <td>0.907192</td>\n",
       "      <td>4.754826</td>\n",
       "      <td>4.248842</td>\n",
       "      <td>4.287388</td>\n",
       "      <td>5.666418</td>\n",
       "      <td>3.325775</td>\n",
       "      <td>1.037383</td>\n",
       "      <td>0.094222</td>\n",
       "      <td>3.196160</td>\n",
       "      <td>...</td>\n",
       "      <td>4.919406</td>\n",
       "      <td>0.984401</td>\n",
       "      <td>0.023590</td>\n",
       "      <td>0.934302</td>\n",
       "      <td>5.103019</td>\n",
       "      <td>4.374694</td>\n",
       "      <td>4.933947</td>\n",
       "      <td>5.900623</td>\n",
       "      <td>4.090548</td>\n",
       "      <td>1.860122</td>\n",
       "    </tr>\n",
       "    <tr>\n",
       "      <th>min</th>\n",
       "      <td>0.0</td>\n",
       "      <td>0.000000</td>\n",
       "      <td>0.000000</td>\n",
       "      <td>0.000000</td>\n",
       "      <td>0.000000</td>\n",
       "      <td>0.000000</td>\n",
       "      <td>0.000000</td>\n",
       "      <td>0.000000</td>\n",
       "      <td>0.000000</td>\n",
       "      <td>0.000000</td>\n",
       "      <td>...</td>\n",
       "      <td>0.000000</td>\n",
       "      <td>0.000000</td>\n",
       "      <td>0.000000</td>\n",
       "      <td>0.000000</td>\n",
       "      <td>0.000000</td>\n",
       "      <td>0.000000</td>\n",
       "      <td>0.000000</td>\n",
       "      <td>0.000000</td>\n",
       "      <td>0.000000</td>\n",
       "      <td>0.000000</td>\n",
       "    </tr>\n",
       "    <tr>\n",
       "      <th>25%</th>\n",
       "      <td>0.0</td>\n",
       "      <td>0.000000</td>\n",
       "      <td>1.000000</td>\n",
       "      <td>10.000000</td>\n",
       "      <td>10.000000</td>\n",
       "      <td>0.000000</td>\n",
       "      <td>0.000000</td>\n",
       "      <td>0.000000</td>\n",
       "      <td>0.000000</td>\n",
       "      <td>0.000000</td>\n",
       "      <td>...</td>\n",
       "      <td>0.000000</td>\n",
       "      <td>0.000000</td>\n",
       "      <td>0.000000</td>\n",
       "      <td>0.000000</td>\n",
       "      <td>1.000000</td>\n",
       "      <td>11.000000</td>\n",
       "      <td>10.000000</td>\n",
       "      <td>0.000000</td>\n",
       "      <td>0.000000</td>\n",
       "      <td>0.000000</td>\n",
       "    </tr>\n",
       "    <tr>\n",
       "      <th>50%</th>\n",
       "      <td>0.0</td>\n",
       "      <td>0.000000</td>\n",
       "      <td>4.000000</td>\n",
       "      <td>13.000000</td>\n",
       "      <td>13.000000</td>\n",
       "      <td>4.000000</td>\n",
       "      <td>0.000000</td>\n",
       "      <td>0.000000</td>\n",
       "      <td>0.000000</td>\n",
       "      <td>0.000000</td>\n",
       "      <td>...</td>\n",
       "      <td>1.000000</td>\n",
       "      <td>0.000000</td>\n",
       "      <td>0.000000</td>\n",
       "      <td>0.000000</td>\n",
       "      <td>4.000000</td>\n",
       "      <td>13.000000</td>\n",
       "      <td>14.000000</td>\n",
       "      <td>6.000000</td>\n",
       "      <td>0.000000</td>\n",
       "      <td>0.000000</td>\n",
       "    </tr>\n",
       "    <tr>\n",
       "      <th>75%</th>\n",
       "      <td>0.0</td>\n",
       "      <td>0.000000</td>\n",
       "      <td>9.000000</td>\n",
       "      <td>15.000000</td>\n",
       "      <td>15.000000</td>\n",
       "      <td>11.000000</td>\n",
       "      <td>0.000000</td>\n",
       "      <td>0.000000</td>\n",
       "      <td>0.000000</td>\n",
       "      <td>3.000000</td>\n",
       "      <td>...</td>\n",
       "      <td>7.000000</td>\n",
       "      <td>0.000000</td>\n",
       "      <td>0.000000</td>\n",
       "      <td>0.000000</td>\n",
       "      <td>10.000000</td>\n",
       "      <td>16.000000</td>\n",
       "      <td>16.000000</td>\n",
       "      <td>12.000000</td>\n",
       "      <td>2.000000</td>\n",
       "      <td>0.000000</td>\n",
       "    </tr>\n",
       "    <tr>\n",
       "      <th>max</th>\n",
       "      <td>0.0</td>\n",
       "      <td>8.000000</td>\n",
       "      <td>16.000000</td>\n",
       "      <td>16.000000</td>\n",
       "      <td>16.000000</td>\n",
       "      <td>16.000000</td>\n",
       "      <td>16.000000</td>\n",
       "      <td>15.000000</td>\n",
       "      <td>2.000000</td>\n",
       "      <td>16.000000</td>\n",
       "      <td>...</td>\n",
       "      <td>16.000000</td>\n",
       "      <td>13.000000</td>\n",
       "      <td>1.000000</td>\n",
       "      <td>9.000000</td>\n",
       "      <td>16.000000</td>\n",
       "      <td>16.000000</td>\n",
       "      <td>16.000000</td>\n",
       "      <td>16.000000</td>\n",
       "      <td>16.000000</td>\n",
       "      <td>16.000000</td>\n",
       "    </tr>\n",
       "  </tbody>\n",
       "</table>\n",
       "<p>8 rows × 64 columns</p>\n",
       "</div>"
      ],
      "text/plain": [
       "           0            1            2            3            4   \\\n",
       "count  1797.0  1797.000000  1797.000000  1797.000000  1797.000000   \n",
       "mean      0.0     0.303840     5.204786    11.835838    11.848080   \n",
       "std       0.0     0.907192     4.754826     4.248842     4.287388   \n",
       "min       0.0     0.000000     0.000000     0.000000     0.000000   \n",
       "25%       0.0     0.000000     1.000000    10.000000    10.000000   \n",
       "50%       0.0     0.000000     4.000000    13.000000    13.000000   \n",
       "75%       0.0     0.000000     9.000000    15.000000    15.000000   \n",
       "max       0.0     8.000000    16.000000    16.000000    16.000000   \n",
       "\n",
       "                5            6            7            8            9   ...  \\\n",
       "count  1797.000000  1797.000000  1797.000000  1797.000000  1797.000000  ...   \n",
       "mean      5.781859     1.362270     0.129661     0.005565     1.993879  ...   \n",
       "std       5.666418     3.325775     1.037383     0.094222     3.196160  ...   \n",
       "min       0.000000     0.000000     0.000000     0.000000     0.000000  ...   \n",
       "25%       0.000000     0.000000     0.000000     0.000000     0.000000  ...   \n",
       "50%       4.000000     0.000000     0.000000     0.000000     0.000000  ...   \n",
       "75%      11.000000     0.000000     0.000000     0.000000     3.000000  ...   \n",
       "max      16.000000    16.000000    15.000000     2.000000    16.000000  ...   \n",
       "\n",
       "                54           55           56           57           58  \\\n",
       "count  1797.000000  1797.000000  1797.000000  1797.000000  1797.000000   \n",
       "mean      3.725097     0.206455     0.000556     0.279354     5.557596   \n",
       "std       4.919406     0.984401     0.023590     0.934302     5.103019   \n",
       "min       0.000000     0.000000     0.000000     0.000000     0.000000   \n",
       "25%       0.000000     0.000000     0.000000     0.000000     1.000000   \n",
       "50%       1.000000     0.000000     0.000000     0.000000     4.000000   \n",
       "75%       7.000000     0.000000     0.000000     0.000000    10.000000   \n",
       "max      16.000000    13.000000     1.000000     9.000000    16.000000   \n",
       "\n",
       "                59           60           61           62           63  \n",
       "count  1797.000000  1797.000000  1797.000000  1797.000000  1797.000000  \n",
       "mean     12.089037    11.809126     6.764051     2.067891     0.364496  \n",
       "std       4.374694     4.933947     5.900623     4.090548     1.860122  \n",
       "min       0.000000     0.000000     0.000000     0.000000     0.000000  \n",
       "25%      11.000000    10.000000     0.000000     0.000000     0.000000  \n",
       "50%      13.000000    14.000000     6.000000     0.000000     0.000000  \n",
       "75%      16.000000    16.000000    12.000000     2.000000     0.000000  \n",
       "max      16.000000    16.000000    16.000000    16.000000    16.000000  \n",
       "\n",
       "[8 rows x 64 columns]"
      ]
     },
     "execution_count": 7,
     "metadata": {},
     "output_type": "execute_result"
    }
   ],
   "source": [
    "data1.describe()"
   ]
  },
  {
   "cell_type": "code",
   "execution_count": 8,
   "id": "5e7ae593",
   "metadata": {},
   "outputs": [
    {
     "data": {
      "text/plain": [
       "(1797, 64)"
      ]
     },
     "execution_count": 8,
     "metadata": {},
     "output_type": "execute_result"
    }
   ],
   "source": [
    "digits.data.shape"
   ]
  },
  {
   "cell_type": "code",
   "execution_count": 9,
   "id": "6b5cfe03",
   "metadata": {},
   "outputs": [
    {
     "data": {
      "text/plain": [
       "(1797, 8, 8)"
      ]
     },
     "execution_count": 9,
     "metadata": {},
     "output_type": "execute_result"
    }
   ],
   "source": [
    "digits.images.shape"
   ]
  },
  {
   "cell_type": "code",
   "execution_count": null,
   "id": "fa79b642",
   "metadata": {},
   "outputs": [],
   "source": []
  },
  {
   "cell_type": "code",
   "execution_count": 10,
   "id": "8a05f77c",
   "metadata": {},
   "outputs": [
    {
     "data": {
      "text/plain": [
       "array([ 0.,  0.,  5., 13.,  9.,  1.,  0.,  0.,  0.,  0., 13., 15., 10.,\n",
       "       15.,  5.,  0.,  0.,  3., 15.,  2.,  0., 11.,  8.,  0.,  0.,  4.,\n",
       "       12.,  0.,  0.,  8.,  8.,  0.,  0.,  5.,  8.,  0.,  0.,  9.,  8.,\n",
       "        0.,  0.,  4., 11.,  0.,  1., 12.,  7.,  0.,  0.,  2., 14.,  5.,\n",
       "       10., 12.,  0.,  0.,  0.,  0.,  6., 13., 10.,  0.,  0.,  0.])"
      ]
     },
     "execution_count": 10,
     "metadata": {},
     "output_type": "execute_result"
    }
   ],
   "source": [
    "digits.data[0]"
   ]
  },
  {
   "cell_type": "code",
   "execution_count": 11,
   "id": "293484d7",
   "metadata": {},
   "outputs": [
    {
     "data": {
      "text/plain": [
       "<matplotlib.image.AxesImage at 0x24177f324c0>"
      ]
     },
     "execution_count": 11,
     "metadata": {},
     "output_type": "execute_result"
    },
    {
     "data": {
      "image/png": "[encoded data removed]",
      "text/plain": [
       "<Figure size 432x288 with 1 Axes>"
      ]
     },
     "metadata": {
      "needs_background": "light"
     },
     "output_type": "display_data"
    }
   ],
   "source": [
    "plt.imshow(digits.images[0], cmap=plt.cm.gray)"
   ]
  },
  {
   "cell_type": "code",
   "execution_count": 12,
   "id": "c6fe94ee",
   "metadata": {},
   "outputs": [
    {
     "data": {
      "image/png": "[encoded data removed]",
      "text/plain": [
       "<Figure size 1080x288 with 5 Axes>"
      ]
     },
     "metadata": {
      "needs_background": "light"
     },
     "output_type": "display_data"
    }
   ],
   "source": [
    "import numpy as np\n",
    "import matplotlib.pyplot as plt\n",
    "\n",
    "plt.figure(figsize=(15,4))\n",
    "for index, (image, label) in enumerate(zip(digits.data[0:5], digits.target[0:5])):\n",
    "    plt.subplot(1,5, index+1)\n",
    "    plt.imshow(np.reshape(image, (8,8)), cmap=plt.cm.gray)\n",
    "    plt.title(f\"Training: {label}\", fontsize=20 )  "
   ]
  },
  {
   "cell_type": "code",
   "execution_count": 13,
   "id": "55dfd79f",
   "metadata": {},
   "outputs": [],
   "source": [
    "x=digits.data\n",
    "y=digits.target"
   ]
  },
  {
   "cell_type": "code",
   "execution_count": 14,
   "id": "2ea1726c",
   "metadata": {},
   "outputs": [
    {
     "data": {
      "text/plain": [
       "array([[ 0.,  0.,  5., ...,  0.,  0.,  0.],\n",
       "       [ 0.,  0.,  0., ..., 10.,  0.,  0.],\n",
       "       [ 0.,  0.,  0., ..., 16.,  9.,  0.],\n",
       "       ...,\n",
       "       [ 0.,  0.,  1., ...,  6.,  0.,  0.],\n",
       "       [ 0.,  0.,  2., ..., 12.,  0.,  0.],\n",
       "       [ 0.,  0., 10., ..., 12.,  1.,  0.]])"
      ]
     },
     "execution_count": 14,
     "metadata": {},
     "output_type": "execute_result"
    }
   ],
   "source": [
    "x"
   ]
  },
  {
   "cell_type": "code",
   "execution_count": 15,
   "id": "a61c33a8",
   "metadata": {},
   "outputs": [
    {
     "data": {
      "text/plain": [
       "array([0, 1, 2, ..., 8, 9, 8])"
      ]
     },
     "execution_count": 15,
     "metadata": {},
     "output_type": "execute_result"
    }
   ],
   "source": [
    "y"
   ]
  },
  {
   "cell_type": "code",
   "execution_count": 16,
   "id": "b13ec5d9",
   "metadata": {},
   "outputs": [
    {
     "data": {
      "text/plain": [
       "(1797, 64)"
      ]
     },
     "execution_count": 16,
     "metadata": {},
     "output_type": "execute_result"
    }
   ],
   "source": [
    "x.shape"
   ]
  },
  {
   "cell_type": "code",
   "execution_count": 17,
   "id": "e7767e0b",
   "metadata": {},
   "outputs": [
    {
     "data": {
      "text/plain": [
       "(1797,)"
      ]
     },
     "execution_count": 17,
     "metadata": {},
     "output_type": "execute_result"
    }
   ],
   "source": [
    "y.shape"
   ]
  },
  {
   "cell_type": "code",
   "execution_count": 18,
   "id": "fa077131",
   "metadata": {},
   "outputs": [],
   "source": [
    "from sklearn.preprocessing import StandardScaler\n",
    "X_std = StandardScaler().fit_transform(x)"
   ]
  },
  {
   "cell_type": "code",
   "execution_count": 19,
   "id": "264aa12b",
   "metadata": {},
   "outputs": [
    {
     "data": {
      "text/plain": [
       "array([[ 0.        , -0.33501649, -0.04308102, ..., -1.14664746,\n",
       "        -0.5056698 , -0.19600752],\n",
       "       [ 0.        , -0.33501649, -1.09493684, ...,  0.54856067,\n",
       "        -0.5056698 , -0.19600752],\n",
       "       [ 0.        , -0.33501649, -1.09493684, ...,  1.56568555,\n",
       "         1.6951369 , -0.19600752],\n",
       "       ...,\n",
       "       [ 0.        , -0.33501649, -0.88456568, ..., -0.12952258,\n",
       "        -0.5056698 , -0.19600752],\n",
       "       [ 0.        , -0.33501649, -0.67419451, ...,  0.8876023 ,\n",
       "        -0.5056698 , -0.19600752],\n",
       "       [ 0.        , -0.33501649,  1.00877481, ...,  0.8876023 ,\n",
       "        -0.26113572, -0.19600752]])"
      ]
     },
     "execution_count": 19,
     "metadata": {},
     "output_type": "execute_result"
    }
   ],
   "source": [
    "X_std"
   ]
  },
  {
   "cell_type": "code",
   "execution_count": 20,
   "id": "b9ba9121",
   "metadata": {},
   "outputs": [
    {
     "data": {
      "text/plain": [
       "(1797, 64)"
      ]
     },
     "execution_count": 20,
     "metadata": {},
     "output_type": "execute_result"
    }
   ],
   "source": [
    "X_std.shape"
   ]
  },
  {
   "cell_type": "code",
   "execution_count": null,
   "id": "771bc96d",
   "metadata": {},
   "outputs": [],
   "source": []
  },
  {
   "cell_type": "code",
   "execution_count": 21,
   "id": "53c52a35",
   "metadata": {},
   "outputs": [
    {
     "data": {
      "text/plain": [
       "array([[ 0.        ,  0.        ,  0.        , ...,  0.        ,\n",
       "         0.        ,  0.        ],\n",
       "       [-0.33501649, -0.33501649, -0.33501649, ..., -0.33501649,\n",
       "        -0.33501649, -0.33501649],\n",
       "       [-0.04308102, -1.09493684, -1.09493684, ..., -0.88456568,\n",
       "        -0.67419451,  1.00877481],\n",
       "       ...,\n",
       "       [-1.14664746,  0.54856067,  1.56568555, ..., -0.12952258,\n",
       "         0.8876023 ,  0.8876023 ],\n",
       "       [-0.5056698 , -0.5056698 ,  1.6951369 , ..., -0.5056698 ,\n",
       "        -0.5056698 , -0.26113572],\n",
       "       [-0.19600752, -0.19600752, -0.19600752, ..., -0.19600752,\n",
       "        -0.19600752, -0.19600752]])"
      ]
     },
     "execution_count": 21,
     "metadata": {},
     "output_type": "execute_result"
    }
   ],
   "source": [
    "x1=X_std.T\n",
    "x1"
   ]
  },
  {
   "cell_type": "code",
   "execution_count": 22,
   "id": "5752c5e8",
   "metadata": {},
   "outputs": [
    {
     "data": {
      "text/plain": [
       "(64, 1797)"
      ]
     },
     "execution_count": 22,
     "metadata": {},
     "output_type": "execute_result"
    }
   ],
   "source": [
    "x1.shape"
   ]
  },
  {
   "cell_type": "code",
   "execution_count": 23,
   "id": "eae4d96a",
   "metadata": {},
   "outputs": [
    {
     "data": {
      "text/plain": [
       "array([[ 0.        ,  0.        ,  0.        , ...,  0.        ,\n",
       "         0.        ,  0.        ],\n",
       "       [ 0.        ,  1.00055679,  0.55692803, ..., -0.02988686,\n",
       "         0.02656195, -0.04391324],\n",
       "       [ 0.        ,  0.55692803,  1.00055679, ..., -0.04120565,\n",
       "         0.07263924,  0.08256908],\n",
       "       ...,\n",
       "       [ 0.        , -0.02988686, -0.04120565, ...,  1.00055679,\n",
       "         0.64868875,  0.26213704],\n",
       "       [ 0.        ,  0.02656195,  0.07263924, ...,  0.64868875,\n",
       "         1.00055679,  0.62077355],\n",
       "       [ 0.        , -0.04391324,  0.08256908, ...,  0.26213704,\n",
       "         0.62077355,  1.00055679]])"
      ]
     },
     "execution_count": 23,
     "metadata": {},
     "output_type": "execute_result"
    }
   ],
   "source": [
    "cov_mat = np.cov(X_std.T)\n",
    "cov_mat"
   ]
  },
  {
   "cell_type": "code",
   "execution_count": 24,
   "id": "94ee20d4",
   "metadata": {},
   "outputs": [
    {
     "data": {
      "text/plain": [
       "-0.5705136332381109"
      ]
     },
     "execution_count": 24,
     "metadata": {},
     "output_type": "execute_result"
    }
   ],
   "source": [
    "#3. Extract only features and scale the data using StandardScaler() , compute min covariance?\n",
    "#A. -0.5705\n",
    "#B. -1\n",
    "#C. 0.1\n",
    "#D. None of the above\n",
    "#Answer)A. -0.5705\n",
    "cov_mat.min()"
   ]
  },
  {
   "cell_type": "code",
   "execution_count": 25,
   "id": "d48088b8",
   "metadata": {},
   "outputs": [],
   "source": [
    "eig_vals, eig_vecs = np.linalg.eig(cov_mat)#"
   ]
  },
  {
   "cell_type": "code",
   "execution_count": 26,
   "id": "9749fd97",
   "metadata": {},
   "outputs": [
    {
     "data": {
      "text/plain": [
       "(64,)"
      ]
     },
     "execution_count": 26,
     "metadata": {},
     "output_type": "execute_result"
    }
   ],
   "source": [
    "#4. Extract only features and scale the data using StandardScaler() , how many eigen_values will be calculated?\n",
    "#A. 1\n",
    "#B. 64\n",
    "#C. 1797\n",
    "#D. 0\n",
    "#Answer)B. 64\n",
    "eig_vals.shape"
   ]
  },
  {
   "cell_type": "code",
   "execution_count": 27,
   "id": "fb97fcad",
   "metadata": {},
   "outputs": [
    {
     "data": {
      "text/plain": [
       "[12.03391609773488,\n",
       " 9.561054403097902,\n",
       " 8.444414892624547,\n",
       " 6.498407907524167,\n",
       " 4.860154875966418,\n",
       " 4.214119869271952,\n",
       " 3.9420828035673905,\n",
       " 3.389380924638305,\n",
       " 2.998221011625238,\n",
       " 2.9320025512522037,\n",
       " 2.781805463550328,\n",
       " 2.5770550925819884,\n",
       " 2.2753033157642566,\n",
       " 2.227179739514352,\n",
       " 2.1652294318492378,\n",
       " 1.914166606442141,\n",
       " 1.7755470851681912,\n",
       " 1.63806927428441,\n",
       " 1.5964601688623348,\n",
       " 1.4891911870878178,\n",
       " 1.347969565817945,\n",
       " 1.2719313702347623,\n",
       " 1.165837350591951,\n",
       " 1.05764659853632,\n",
       " 0.9753159471981107,\n",
       " 0.9445589897320007,\n",
       " 0.8630138269707235,\n",
       " 0.8366428536685085,\n",
       " 0.7976932484112399,\n",
       " 0.7464713709260635,\n",
       " 0.7255821513702743,\n",
       " 0.6919112454811823,\n",
       " 0.6539085355726144,\n",
       " 0.6407925738459865,\n",
       " 0.5913841117223421,\n",
       " 0.5711624052235258,\n",
       " 0.5236368034166361,\n",
       " 0.48180758644514293,\n",
       " 0.4537192598584495,\n",
       " 0.42316275323278035,\n",
       " 0.40605306997903584,\n",
       " 0.3970848082758268,\n",
       " 0.35649330314261657,\n",
       " 0.34078718147030035,\n",
       " 0.3278353352879566,\n",
       " 0.31103200734535513,\n",
       " 0.2885752941089327,\n",
       " 0.27648926352354536,\n",
       " 0.2591749408814652,\n",
       " 0.23448300553563253,\n",
       " 0.21825685771200842,\n",
       " 0.2035976345253771,\n",
       " 0.19551242601981764,\n",
       " 0.18331849919718002,\n",
       " 0.16794638749558372,\n",
       " 0.16123606225672743,\n",
       " 0.14776269410608753,\n",
       " 0.13511841133708552,\n",
       " 0.1251007424973013,\n",
       " 0.10369573015571901,\n",
       " 0.08253509448180311,\n",
       " 0.0,\n",
       " 0.0,\n",
       " 0.0]"
      ]
     },
     "execution_count": 27,
     "metadata": {},
     "output_type": "execute_result"
    }
   ],
   "source": [
    "# Calculation of Explained Variance from the eigenvalues\n",
    "tot = sum(eig_vals)\n",
    "var_exp = [(i/tot)*100 for i in sorted(eig_vals, reverse=True)] # Individual explained variance\n",
    "var_exp"
   ]
  },
  {
   "cell_type": "code",
   "execution_count": 28,
   "id": "194ada56",
   "metadata": {},
   "outputs": [
    {
     "data": {
      "text/plain": [
       "array([ 12.0339161 ,  21.5949705 ,  30.03938539,  36.5377933 ,\n",
       "        41.39794818,  45.61206805,  49.55415085,  52.94353177,\n",
       "        55.94175279,  58.87375534,  61.6555608 ,  64.23261589,\n",
       "        66.50791921,  68.73509895,  70.90032838,  72.81449499,\n",
       "        74.59004207,  76.22811135,  77.82457152,  79.3137627 ,\n",
       "        80.66173227,  81.93366364,  83.09950099,  84.15714759,\n",
       "        85.13246353,  86.07702252,  86.94003635,  87.77667921,\n",
       "        88.57437245,  89.32084382,  90.04642598,  90.73833722,\n",
       "        91.39224576,  92.03303833,  92.62442244,  93.19558485,\n",
       "        93.71922165,  94.20102924,  94.6547485 ,  95.07791125,\n",
       "        95.48396432,  95.88104913,  96.23754243,  96.57832961,\n",
       "        96.90616495,  97.21719696,  97.50577225,  97.78226151,\n",
       "        98.04143645,  98.27591946,  98.49417632,  98.69777395,\n",
       "        98.89328638,  99.07660488,  99.24455127,  99.40578733,\n",
       "        99.55355002,  99.68866843,  99.81376918,  99.91746491,\n",
       "       100.        , 100.        , 100.        , 100.        ])"
      ]
     },
     "execution_count": 28,
     "metadata": {},
     "output_type": "execute_result"
    }
   ],
   "source": [
    "#5. from the above eigenvalues and eigenvectors, create eigenpair and calculate maximum cumulative explained variance?\n",
    "#A. 100\n",
    "#B. 90\n",
    "#C. 80\n",
    "#D. 69\n",
    "#Answer)A. 100\n",
    "cum_var_exp = np.cumsum(var_exp) # Cumulative explained variance\n",
    "cum_var_exp"
   ]
  },
  {
   "cell_type": "code",
   "execution_count": 29,
   "id": "cec7878b",
   "metadata": {},
   "outputs": [
    {
     "data": {
      "image/png": "[encoded data removed]",
      "text/plain": [
       "<Figure size 720x360 with 1 Axes>"
      ]
     },
     "metadata": {
      "needs_background": "light"
     },
     "output_type": "display_data"
    }
   ],
   "source": [
    "plt.figure(figsize=(10, 5))\n",
    "plt.bar(range(len(var_exp)), var_exp, label='individual explained variance', color = 'g')\n",
    "plt.step(range(len(cum_var_exp)), cum_var_exp,label='cumulative explained variance')\n",
    "plt.ylabel('Explained variance ratio')\n",
    "plt.xlabel('Principal components')\n",
    "plt.legend()\n",
    "plt.show()"
   ]
  },
  {
   "cell_type": "code",
   "execution_count": 77,
   "id": "5f56ddb0",
   "metadata": {},
   "outputs": [],
   "source": [
    "#With the above PCA data your decision tree model with train test ratio as 80:20, and random_state=40 .\n",
    "#11. With the help of the above model how many images have been misclassified by the model.\n",
    "#A. 40-50\n",
    "#B. 60-70\n",
    "#C. 50-60\n",
    "#D. 70-80\n",
    "x_train,x_test,y_train,y_test=train_test_split(X_std,y, train_size=0.8,random_state=40)"
   ]
  },
  {
   "cell_type": "code",
   "execution_count": 59,
   "id": "f39b8439",
   "metadata": {},
   "outputs": [],
   "source": [
    "#7. from the below plot, select the range of components can be selected?\n",
    "#A. 0-10\n",
    "#B. 10-20\n",
    "#C. 40-60\n",
    "#D. 30-40\n",
    "#Answer)B. 10-20\n",
    "#pca = PCA(n_components=20)\n",
    "#pca_x_train = pca.fit_transform(x_train)\n",
    "#pca_x_test = pca.transform(x_test)"
   ]
  },
  {
   "cell_type": "code",
   "execution_count": 78,
   "id": "1400ad9c",
   "metadata": {},
   "outputs": [],
   "source": [
    "rf=DecisionTreeClassifier().fit(x_train,y_train)    #(pca_x_train,y_train)"
   ]
  },
  {
   "cell_type": "code",
   "execution_count": 79,
   "id": "0f1b6414",
   "metadata": {},
   "outputs": [],
   "source": [
    "predicted=rf.predict(x_test)   #(pca_x_test)"
   ]
  },
  {
   "cell_type": "code",
   "execution_count": 80,
   "id": "6001dbdd",
   "metadata": {},
   "outputs": [
    {
     "data": {
      "text/plain": [
       "array([8, 1, 9, 0, 3, 3, 2, 7, 9, 9, 0, 4, 0, 6, 4, 6, 7, 3, 5, 0, 1, 8,\n",
       "       5, 2, 0, 6, 4, 1, 7, 5, 5, 8, 4, 2, 6, 1, 7, 9, 7, 5, 5, 9, 8, 4,\n",
       "       2, 2, 8, 5, 0, 0, 1, 9, 1, 9, 1, 2, 6, 4, 5, 1, 8, 4, 7, 0, 7, 6,\n",
       "       3, 9, 4, 4, 3, 2, 7, 4, 7, 6, 2, 9, 5, 4, 1, 8, 9, 1, 3, 4, 3, 4,\n",
       "       3, 1, 2, 5, 0, 0, 7, 1, 9, 6, 7, 0, 8, 2, 5, 1, 2, 5, 2, 9, 1, 1,\n",
       "       4, 4, 4, 1, 9, 6, 6, 8, 6, 7, 1, 8, 8, 3, 7, 6, 2, 1, 1, 2, 9, 2,\n",
       "       4, 9, 9, 3, 7, 3, 6, 9, 8, 6, 2, 4, 3, 8, 0, 4, 4, 7, 3, 2, 7, 3,\n",
       "       7, 6, 2, 2, 9, 7, 2, 6, 6, 5, 2, 2, 8, 1, 7, 4, 3, 8, 9, 4, 3, 7,\n",
       "       6, 1, 1, 0, 4, 4, 8, 9, 4, 0, 0, 4, 3, 0, 7, 9, 0, 1, 0, 3, 0, 3,\n",
       "       6, 9, 6, 8, 1, 0, 4, 8, 3, 4, 7, 2, 9, 9, 8, 8, 4, 1, 6, 5, 5, 1,\n",
       "       1, 3, 9, 6, 2, 3, 6, 2, 6, 6, 8, 4, 1, 8, 9, 8, 6, 3, 2, 5, 1, 3,\n",
       "       1, 0, 1, 0, 8, 1, 0, 6, 6, 9, 9, 4, 1, 5, 0, 9, 1, 9, 4, 7, 7, 8,\n",
       "       1, 3, 7, 6, 9, 4, 2, 7, 8, 8, 5, 7, 7, 1, 5, 5, 3, 5, 9, 8, 5, 4,\n",
       "       9, 0, 4, 7, 7, 3, 7, 6, 9, 6, 3, 2, 2, 0, 9, 7, 3, 8, 6, 9, 2, 7,\n",
       "       6, 4, 6, 8, 3, 0, 1, 1, 1, 9, 6, 5, 9, 4, 6, 0, 0, 1, 5, 9, 5, 9,\n",
       "       7, 8, 2, 1, 5, 0, 7, 2, 0, 3, 3, 7, 3, 5, 9, 2, 4, 5, 4, 1, 3, 0,\n",
       "       8, 7, 5, 2, 9, 5, 2, 9])"
      ]
     },
     "execution_count": 80,
     "metadata": {},
     "output_type": "execute_result"
    }
   ],
   "source": [
    "predicted"
   ]
  },
  {
   "cell_type": "code",
   "execution_count": 81,
   "id": "3d503888",
   "metadata": {},
   "outputs": [
    {
     "data": {
      "text/plain": [
       "0.8444444444444444"
      ]
     },
     "execution_count": 81,
     "metadata": {},
     "output_type": "execute_result"
    }
   ],
   "source": [
    "accuracy_score(predicted,y_test)"
   ]
  },
  {
   "cell_type": "code",
   "execution_count": 82,
   "id": "7aa5e509",
   "metadata": {},
   "outputs": [
    {
     "data": {
      "text/plain": [
       "array([[ 0.,  0.,  5., ...,  0.,  0.,  0.],\n",
       "       [ 0.,  0.,  0., ..., 10.,  0.,  0.],\n",
       "       [ 0.,  0.,  0., ..., 16.,  9.,  0.],\n",
       "       ...,\n",
       "       [ 0.,  0.,  1., ...,  6.,  0.,  0.],\n",
       "       [ 0.,  0.,  2., ..., 12.,  0.,  0.],\n",
       "       [ 0.,  0., 10., ..., 12.,  1.,  0.]])"
      ]
     },
     "execution_count": 82,
     "metadata": {},
     "output_type": "execute_result"
    }
   ],
   "source": [
    "digits.data"
   ]
  },
  {
   "cell_type": "code",
   "execution_count": 83,
   "id": "5622a89b",
   "metadata": {},
   "outputs": [
    {
     "data": {
      "text/plain": [
       "array([0, 1, 2, 3, 4])"
      ]
     },
     "execution_count": 83,
     "metadata": {},
     "output_type": "execute_result"
    }
   ],
   "source": [
    "digits.target[0:5]"
   ]
  },
  {
   "cell_type": "code",
   "execution_count": 84,
   "id": "27c19b53",
   "metadata": {},
   "outputs": [
    {
     "name": "stdout",
     "output_type": "stream",
     "text": [
      "0 2\n",
      "1 3\n",
      "2 4\n",
      "3 54\n"
     ]
    }
   ],
   "source": [
    "for i,a in enumerate([2,3,4,54]):\n",
    "    print(i,a)"
   ]
  },
  {
   "cell_type": "code",
   "execution_count": null,
   "id": "31e15f58",
   "metadata": {},
   "outputs": [],
   "source": []
  },
  {
   "cell_type": "code",
   "execution_count": 85,
   "id": "9c3134d0",
   "metadata": {},
   "outputs": [
    {
     "data": {
      "text/plain": [
       "array([8, 1, 9, 0, 3, 3, 2, 7, 9, 9, 0, 4, 0, 6, 4, 6, 7, 3, 5, 0, 1, 8,\n",
       "       5, 2, 0, 6, 4, 1, 7, 5, 5, 8, 4, 2, 6, 1, 7, 9, 7, 5, 5, 9, 8, 4,\n",
       "       2, 2, 8, 5, 0, 0, 1, 9, 1, 9, 1, 2, 6, 4, 5, 1, 8, 4, 7, 0, 7, 6,\n",
       "       3, 9, 4, 4, 3, 2, 7, 4, 7, 6, 2, 9, 5, 4, 1, 8, 9, 1, 3, 4, 3, 4,\n",
       "       3, 1, 2, 5, 0, 0, 7, 1, 9, 6, 7, 0, 8, 2, 5, 1, 2, 5, 2, 9, 1, 1,\n",
       "       4, 4, 4, 1, 9, 6, 6, 8, 6, 7, 1, 8, 8, 3, 7, 6, 2, 1, 1, 2, 9, 2,\n",
       "       4, 9, 9, 3, 7, 3, 6, 9, 8, 6, 2, 4, 3, 8, 0, 4, 4, 7, 3, 2, 7, 3,\n",
       "       7, 6, 2, 2, 9, 7, 2, 6, 6, 5, 2, 2, 8, 1, 7, 4, 3, 8, 9, 4, 3, 7,\n",
       "       6, 1, 1, 0, 4, 4, 8, 9, 4, 0, 0, 4, 3, 0, 7, 9, 0, 1, 0, 3, 0, 3,\n",
       "       6, 9, 6, 8, 1, 0, 4, 8, 3, 4, 7, 2, 9, 9, 8, 8, 4, 1, 6, 5, 5, 1,\n",
       "       1, 3, 9, 6, 2, 3, 6, 2, 6, 6, 8, 4, 1, 8, 9, 8, 6, 3, 2, 5, 1, 3,\n",
       "       1, 0, 1, 0, 8, 1, 0, 6, 6, 9, 9, 4, 1, 5, 0, 9, 1, 9, 4, 7, 7, 8,\n",
       "       1, 3, 7, 6, 9, 4, 2, 7, 8, 8, 5, 7, 7, 1, 5, 5, 3, 5, 9, 8, 5, 4,\n",
       "       9, 0, 4, 7, 7, 3, 7, 6, 9, 6, 3, 2, 2, 0, 9, 7, 3, 8, 6, 9, 2, 7,\n",
       "       6, 4, 6, 8, 3, 0, 1, 1, 1, 9, 6, 5, 9, 4, 6, 0, 0, 1, 5, 9, 5, 9,\n",
       "       7, 8, 2, 1, 5, 0, 7, 2, 0, 3, 3, 7, 3, 5, 9, 2, 4, 5, 4, 1, 3, 0,\n",
       "       8, 7, 5, 2, 9, 5, 2, 9])"
      ]
     },
     "execution_count": 85,
     "metadata": {},
     "output_type": "execute_result"
    }
   ],
   "source": [
    "predicted"
   ]
  },
  {
   "cell_type": "code",
   "execution_count": 86,
   "id": "31a8b35c",
   "metadata": {},
   "outputs": [
    {
     "data": {
      "text/plain": [
       "array([8, 1, 9, 0, 3, 3, 2, 7, 3, 9, 0, 4, 0, 6, 7, 6, 7, 3, 5, 0, 1, 8,\n",
       "       5, 2, 0, 6, 4, 1, 7, 5, 5, 8, 4, 2, 6, 4, 8, 9, 7, 5, 5, 9, 8, 4,\n",
       "       2, 2, 3, 5, 0, 0, 1, 9, 1, 9, 1, 2, 6, 4, 5, 1, 8, 4, 8, 0, 7, 6,\n",
       "       3, 9, 4, 4, 3, 2, 7, 4, 7, 6, 2, 9, 5, 4, 1, 8, 9, 1, 2, 4, 3, 4,\n",
       "       3, 1, 2, 5, 0, 0, 7, 1, 1, 6, 7, 0, 8, 2, 5, 1, 1, 5, 2, 1, 2, 1,\n",
       "       4, 4, 4, 8, 9, 6, 6, 3, 6, 4, 1, 8, 8, 3, 7, 6, 2, 1, 1, 2, 9, 8,\n",
       "       4, 9, 9, 3, 7, 7, 6, 9, 1, 6, 2, 4, 5, 8, 0, 5, 4, 4, 3, 2, 7, 9,\n",
       "       7, 6, 2, 2, 9, 7, 2, 6, 6, 5, 2, 1, 8, 1, 7, 4, 3, 8, 9, 4, 1, 7,\n",
       "       6, 1, 1, 0, 4, 4, 8, 1, 4, 0, 0, 7, 3, 0, 7, 9, 0, 1, 0, 3, 0, 9,\n",
       "       6, 9, 6, 8, 1, 0, 1, 8, 3, 4, 7, 8, 9, 9, 8, 8, 4, 1, 6, 5, 5, 1,\n",
       "       1, 3, 9, 6, 2, 3, 6, 2, 6, 6, 8, 4, 1, 8, 9, 8, 6, 3, 2, 5, 1, 3,\n",
       "       2, 0, 1, 0, 8, 1, 9, 6, 6, 9, 9, 4, 3, 6, 0, 9, 1, 9, 4, 7, 7, 8,\n",
       "       1, 3, 7, 6, 9, 4, 2, 7, 7, 8, 5, 7, 7, 1, 5, 3, 3, 5, 9, 8, 5, 4,\n",
       "       9, 0, 4, 8, 7, 3, 7, 6, 8, 6, 8, 2, 2, 0, 8, 7, 3, 8, 4, 1, 2, 7,\n",
       "       6, 4, 1, 1, 2, 0, 8, 1, 1, 9, 2, 3, 9, 4, 6, 0, 0, 1, 3, 3, 5, 9,\n",
       "       7, 2, 2, 8, 5, 9, 2, 2, 0, 3, 3, 7, 3, 9, 9, 2, 5, 5, 4, 1, 3, 0,\n",
       "       9, 7, 5, 2, 9, 5, 2, 1])"
      ]
     },
     "execution_count": 86,
     "metadata": {},
     "output_type": "execute_result"
    }
   ],
   "source": [
    "y_test"
   ]
  },
  {
   "cell_type": "code",
   "execution_count": 87,
   "id": "465030f7",
   "metadata": {},
   "outputs": [
    {
     "data": {
      "text/plain": [
       "(360,)"
      ]
     },
     "execution_count": 87,
     "metadata": {},
     "output_type": "execute_result"
    }
   ],
   "source": [
    "y_test.shape"
   ]
  },
  {
   "cell_type": "code",
   "execution_count": 88,
   "id": "26b443fe",
   "metadata": {},
   "outputs": [],
   "source": [
    "def get_misclassified_index(y_pred,y_test):\n",
    "    misclassification=[]\n",
    "    for index,(predicted,actual) in enumerate(zip(y_pred,y_test)):\n",
    "        if predicted!=actual:\n",
    "            misclassification.append(index)\n",
    "            \n",
    "    return misclassification"
   ]
  },
  {
   "cell_type": "code",
   "execution_count": 89,
   "id": "1511b6cc",
   "metadata": {},
   "outputs": [],
   "source": [
    "misclassification = get_misclassified_index(predicted,y_test)"
   ]
  },
  {
   "cell_type": "code",
   "execution_count": 90,
   "id": "a132f63d",
   "metadata": {},
   "outputs": [
    {
     "data": {
      "text/plain": [
       "[8,\n",
       " 14,\n",
       " 35,\n",
       " 36,\n",
       " 46,\n",
       " 62,\n",
       " 84,\n",
       " 96,\n",
       " 104,\n",
       " 107,\n",
       " 108,\n",
       " 113,\n",
       " 117,\n",
       " 119,\n",
       " 131,\n",
       " 137,\n",
       " 140,\n",
       " 144,\n",
       " 147,\n",
       " 149,\n",
       " 153,\n",
       " 165,\n",
       " 174,\n",
       " 183,\n",
       " 187,\n",
       " 197,\n",
       " 204,\n",
       " 209,\n",
       " 242,\n",
       " 248,\n",
       " 254,\n",
       " 255,\n",
       " 272,\n",
       " 279,\n",
       " 289,\n",
       " 294,\n",
       " 296,\n",
       " 300,\n",
       " 304,\n",
       " 305,\n",
       " 310,\n",
       " 311,\n",
       " 312,\n",
       " 314,\n",
       " 318,\n",
       " 319,\n",
       " 326,\n",
       " 327,\n",
       " 331,\n",
       " 333,\n",
       " 335,\n",
       " 336,\n",
       " 343,\n",
       " 346,\n",
       " 352,\n",
       " 359]"
      ]
     },
     "execution_count": 90,
     "metadata": {},
     "output_type": "execute_result"
    }
   ],
   "source": [
    "misclassification[:] #[:] "
   ]
  },
  {
   "cell_type": "code",
   "execution_count": 91,
   "id": "771d9442",
   "metadata": {},
   "outputs": [
    {
     "data": {
      "text/plain": [
       "56"
      ]
     },
     "execution_count": 91,
     "metadata": {},
     "output_type": "execute_result"
    }
   ],
   "source": [
    "#11. With the help of the above model how many images have been misclassified by the model.\n",
    "#A. 40-50\n",
    "#B. 60-70\n",
    "#C. 50-60\n",
    "#D. 70-80\n",
    "len(misclassification)"
   ]
  },
  {
   "cell_type": "code",
   "execution_count": 73,
   "id": "8f1e2c73",
   "metadata": {},
   "outputs": [],
   "source": [
    "def plot_misclassifications(misclassification):\n",
    "    plt.figure(figsize=(20,4))\n",
    "    for index,wrong in enumerate(misclassification[0:5]):\n",
    "        plt.subplot(1,5,index+1)\n",
    "        plt.imshow(np.reshape(pca_x_test[wrong],(5,4)),cmap=plt.cm.gray)\n",
    "        plt.title(\"Predicted:{} Actual:{}\".format(predicted[wrong],y_test[wrong]))"
   ]
  },
  {
   "cell_type": "code",
   "execution_count": 74,
   "id": "86db8802",
   "metadata": {},
   "outputs": [
    {
     "data": {
      "image/png": "[encoded data removed]",
      "text/plain": [
       "<Figure size 1440x288 with 5 Axes>"
      ]
     },
     "metadata": {
      "needs_background": "light"
     },
     "output_type": "display_data"
    }
   ],
   "source": [
    "plot_misclassifications(misclassification)"
   ]
  },
  {
   "cell_type": "code",
   "execution_count": null,
   "id": "0cc473b3",
   "metadata": {},
   "outputs": [],
   "source": []
  }
 ],
 "metadata": {
  "kernelspec": {
   "display_name": "Python 3 (ipykernel)",
   "language": "python",
   "name": "python3"
  },
  "language_info": {
   "codemirror_mode": {
    "name": "ipython",
    "version": 3
   },
   "file_extension": ".py",
   "mimetype": "text/x-python",
   "name": "python",
   "nbconvert_exporter": "python",
   "pygments_lexer": "ipython3",
   "version": "3.9.7"
  }
 },
 "nbformat": 4,
 "nbformat_minor": 5
}
