{
 "cells": [
  {
   "cell_type": "code",
   "execution_count": 10,
   "id": "ea957f93",
   "metadata": {},
   "outputs": [],
   "source": [
    "#Create a list named ‘myList’ that is having the following elements: 10,20,30,’apple’, True, 8.10."
   ]
  },
  {
   "cell_type": "code",
   "execution_count": 64,
   "id": "e9b653cf",
   "metadata": {},
   "outputs": [],
   "source": [
    "myList=[10,20,30,'apple', True, 8.10]"
   ]
  },
  {
   "cell_type": "code",
   "execution_count": 65,
   "id": "e08ab45d",
   "metadata": {},
   "outputs": [
    {
     "data": {
      "text/plain": [
       "[10, 20, 30, 'apple', True, 8.1]"
      ]
     },
     "execution_count": 65,
     "metadata": {},
     "output_type": "execute_result"
    }
   ],
   "source": [
    "myList"
   ]
  },
  {
   "cell_type": "code",
   "execution_count": 66,
   "id": "a633ea49",
   "metadata": {},
   "outputs": [
    {
     "data": {
      "text/plain": [
       "[10, 20, 30, 'apple', True, 8.1, 30, 40]"
      ]
     },
     "execution_count": 66,
     "metadata": {},
     "output_type": "execute_result"
    }
   ],
   "source": [
    "#a. Now in the ‘myList’, append these values: 30,40\n",
    "    myList.extend([30,40])\n",
    "\n",
    "myList"
   ]
  },
  {
   "cell_type": "code",
   "execution_count": 86,
   "id": "12369450",
   "metadata": {},
   "outputs": [],
   "source": [
    "#b. After that reverse the elements of the ‘myList’ and store that in ‘reversedList’\n",
    "myList.reverse() "
   ]
  },
  {
   "cell_type": "code",
   "execution_count": 88,
   "id": "222c7a39",
   "metadata": {},
   "outputs": [
    {
     "name": "stdout",
     "output_type": "stream",
     "text": [
      "reversedList:  [40, 30, 8.1, True, 'apple', 30, 20, 10]\n"
     ]
    }
   ],
   "source": [
    "print(\"reversedList: \",myList )"
   ]
  },
  {
   "cell_type": "code",
   "execution_count": 89,
   "id": "50d75642",
   "metadata": {},
   "outputs": [],
   "source": [
    "reversedList=myList"
   ]
  },
  {
   "cell_type": "code",
   "execution_count": 90,
   "id": "095cd7d7",
   "metadata": {},
   "outputs": [
    {
     "data": {
      "text/plain": [
       "[40, 30, 8.1, True, 'apple', 30, 20, 10]"
      ]
     },
     "execution_count": 90,
     "metadata": {},
     "output_type": "execute_result"
    }
   ],
   "source": [
    "reversedList"
   ]
  },
  {
   "cell_type": "code",
   "execution_count": 94,
   "id": "11917923",
   "metadata": {},
   "outputs": [
    {
     "data": {
      "text/plain": [
       "[10, 20, 30, 'apple', True, 8.1, 30, 40]"
      ]
     },
     "execution_count": 94,
     "metadata": {},
     "output_type": "execute_result"
    }
   ],
   "source": [
    "myList.reverse()\n",
    "myList"
   ]
  },
  {
   "cell_type": "code",
   "execution_count": 119,
   "id": "626c3ffa",
   "metadata": {},
   "outputs": [],
   "source": [
    "#2. Create a dictonary with key values as 1,2,3 and the values as ‘data’,’information’, and ‘text’\n",
    "dict={1:'data',2:'information',3:'text'}"
   ]
  },
  {
   "cell_type": "code",
   "execution_count": 106,
   "id": "e90bcbe8",
   "metadata": {},
   "outputs": [
    {
     "data": {
      "text/plain": [
       "{1: 'data', 2: 'information', 3: 'text'}"
      ]
     },
     "execution_count": 106,
     "metadata": {},
     "output_type": "execute_result"
    }
   ],
   "source": [
    "dict"
   ]
  },
  {
   "cell_type": "code",
   "execution_count": 120,
   "id": "4dfdcda2",
   "metadata": {},
   "outputs": [
    {
     "data": {
      "text/plain": [
       "'text'"
      ]
     },
     "execution_count": 120,
     "metadata": {},
     "output_type": "execute_result"
    }
   ],
   "source": [
    "#a. After that eliminate the ‘text’ value form the dictonary\n",
    "dict.pop(3)"
   ]
  },
  {
   "cell_type": "code",
   "execution_count": 121,
   "id": "905ea307",
   "metadata": {},
   "outputs": [
    {
     "data": {
      "text/plain": [
       "{1: 'data', 2: 'information'}"
      ]
     },
     "execution_count": 121,
     "metadata": {},
     "output_type": "execute_result"
    }
   ],
   "source": [
    "dict\n"
   ]
  },
  {
   "cell_type": "code",
   "execution_count": 122,
   "id": "cfe2ca0a",
   "metadata": {},
   "outputs": [],
   "source": [
    "#Add ‘features’ in the dictonary\n",
    "dict[3]='features'"
   ]
  },
  {
   "cell_type": "code",
   "execution_count": 123,
   "id": "101b35f7",
   "metadata": {},
   "outputs": [
    {
     "data": {
      "text/plain": [
       "{1: 'data', 2: 'information', 3: 'features'}"
      ]
     },
     "execution_count": 123,
     "metadata": {},
     "output_type": "execute_result"
    }
   ],
   "source": [
    "dict"
   ]
  },
  {
   "cell_type": "code",
   "execution_count": 115,
   "id": "74cfd655",
   "metadata": {},
   "outputs": [],
   "source": [
    "#Fetch the ‘data’ element from the dictonary and display it in the output."
   ]
  },
  {
   "cell_type": "code",
   "execution_count": 124,
   "id": "89bea751",
   "metadata": {},
   "outputs": [
    {
     "data": {
      "text/plain": [
       "'data'"
      ]
     },
     "execution_count": 124,
     "metadata": {},
     "output_type": "execute_result"
    }
   ],
   "source": [
    "dict[1]"
   ]
  },
  {
   "cell_type": "code",
   "execution_count": 126,
   "id": "3b7b20ab",
   "metadata": {},
   "outputs": [
    {
     "data": {
      "text/plain": [
       "(1, 2, 3, 'apple', 'mango')"
      ]
     },
     "execution_count": 126,
     "metadata": {},
     "output_type": "execute_result"
    }
   ],
   "source": [
    "#3. Create a tuple and add these elements 1,2,3,apple,mango in ‘my_tuple\n",
    "my_tuple=(1,2,3,'apple','mango')\n",
    "my_tuple"
   ]
  },
  {
   "cell_type": "code",
   "execution_count": 127,
   "id": "cb25a924",
   "metadata": {},
   "outputs": [
    {
     "data": {
      "text/plain": [
       "(10, 20, 30, 40, 50)"
      ]
     },
     "execution_count": 127,
     "metadata": {},
     "output_type": "execute_result"
    }
   ],
   "source": [
    "#4. Create another tuple named numeric_tuple consisting of only integer values 10,20,30,40,50\n",
    "numeric_tuple=(10,20,30,40,50)\n",
    "numeric_tuple"
   ]
  },
  {
   "cell_type": "code",
   "execution_count": 129,
   "id": "44d4fb3a",
   "metadata": {},
   "outputs": [
    {
     "data": {
      "text/plain": [
       "10"
      ]
     },
     "execution_count": 129,
     "metadata": {},
     "output_type": "execute_result"
    }
   ],
   "source": [
    "#a. Find the minimum value from the numeric_tuple.\n",
    "min(numeric_tuple)"
   ]
  },
  {
   "cell_type": "code",
   "execution_count": 135,
   "id": "9ab6a352",
   "metadata": {},
   "outputs": [
    {
     "data": {
      "text/plain": [
       "(1, 2, 3, 'apple', 'mango', 10, 20, 30, 40, 50)"
      ]
     },
     "execution_count": 135,
     "metadata": {},
     "output_type": "execute_result"
    }
   ],
   "source": [
    "#b. Concatenate my_tuple with numeric_tuple and store the result in r1.\n",
    "r1= my_tuple+numeric_tuple\n",
    "r1"
   ]
  },
  {
   "cell_type": "code",
   "execution_count": 137,
   "id": "481575b7",
   "metadata": {},
   "outputs": [
    {
     "data": {
      "text/plain": [
       "(1, 2, 3, 'apple', 'mango', 1, 2, 3, 'apple', 'mango')"
      ]
     },
     "execution_count": 137,
     "metadata": {},
     "output_type": "execute_result"
    }
   ],
   "source": [
    "#c. Duplicate the tuple named my_tuple 2 times and store that in ‘newdupli’.\n",
    "\n",
    "newdupli=my_tuple+my_tuple\n",
    "\n",
    "newdupli"
   ]
  },
  {
   "cell_type": "code",
   "execution_count": 142,
   "id": "c691631a",
   "metadata": {},
   "outputs": [
    {
     "name": "stdout",
     "output_type": "stream",
     "text": [
      "{1, 2, 3, 4, 5}\n",
      "{1, 2, 3, 6, 7}\n"
     ]
    }
   ],
   "source": [
    "#5. Create 2 sets with name set1 and set2, where set1 contains{1,2,3,4,5} and set2 to contains{2,3,7,6,1}\n",
    "\n",
    "set1={1,2,3,4,5}\n",
    "set2={2,3,7,6,1}\n",
    "print(set1)\n",
    "print(set2)\n"
   ]
  },
  {
   "cell_type": "code",
   "execution_count": 146,
   "id": "1d3ac399",
   "metadata": {},
   "outputs": [
    {
     "data": {
      "text/plain": [
       "{1, 2, 3, 4, 5, 6, 7}"
      ]
     },
     "execution_count": 146,
     "metadata": {},
     "output_type": "execute_result"
    }
   ],
   "source": [
    "#a. Perform the below operation:\n",
    "#a. set1 union set2\n",
    "#b. set1 intersection set2\n",
    "#c. set1 difference set2\n",
    "\n",
    "set1.union(set2)"
   ]
  },
  {
   "cell_type": "code",
   "execution_count": 148,
   "id": "4b578a90",
   "metadata": {},
   "outputs": [
    {
     "data": {
      "text/plain": [
       "{1, 2, 3}"
      ]
     },
     "execution_count": 148,
     "metadata": {},
     "output_type": "execute_result"
    }
   ],
   "source": [
    "set1.intersection(set2)\n"
   ]
  },
  {
   "cell_type": "code",
   "execution_count": 149,
   "id": "50c44008",
   "metadata": {},
   "outputs": [
    {
     "data": {
      "text/plain": [
       "{4, 5}"
      ]
     },
     "execution_count": 149,
     "metadata": {},
     "output_type": "execute_result"
    }
   ],
   "source": [
    "set1.difference(set2)"
   ]
  },
  {
   "cell_type": "code",
   "execution_count": 150,
   "id": "aeeb5ba8",
   "metadata": {},
   "outputs": [
    {
     "data": {
      "text/plain": [
       "{6, 7}"
      ]
     },
     "execution_count": 150,
     "metadata": {},
     "output_type": "execute_result"
    }
   ],
   "source": [
    "set2.difference(set1)"
   ]
  },
  {
   "cell_type": "code",
   "execution_count": null,
   "id": "02caf3d7",
   "metadata": {},
   "outputs": [],
   "source": []
  }
 ],
 "metadata": {
  "kernelspec": {
   "display_name": "Python 3 (ipykernel)",
   "language": "python",
   "name": "python3"
  },
  "language_info": {
   "codemirror_mode": {
    "name": "ipython",
    "version": 3
   },
   "file_extension": ".py",
   "mimetype": "text/x-python",
   "name": "python",
   "nbconvert_exporter": "python",
   "pygments_lexer": "ipython3",
   "version": "3.9.7"
  }
 },
 "nbformat": 4,
 "nbformat_minor": 5
}
